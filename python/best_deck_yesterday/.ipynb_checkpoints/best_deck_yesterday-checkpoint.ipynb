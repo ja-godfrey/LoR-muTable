{
 "cells": [
  {
   "cell_type": "markdown",
   "id": "edaa05a6-f7ea-45bb-8abe-a88d91c95679",
   "metadata": {},
   "source": [
    "## best deck yesterday\n",
    "\n",
    "What you want:\n",
    "- [x] top 10 archetypes yesterday\n",
    "    - top_archetypes\n",
    "- [x] the best archetype yesterday w/ winrate\n",
    "    - number_one\n",
    "- [x] the popular decks in that archetype w/ winrate\n",
    "    - best_decks\n",
    "- [x] the optimal game length for that deck\n",
    "- [x] how that deck has been growing in the meta\n",
    "    - [x] in popularity\n",
    "    - [x] in winrate\n",
    "    \n",
    "V2\n",
    "- [x] playrate graphs as % of overall playrate\n",
    "- [x] auto-generate text for reddit post"
   ]
  },
  {
   "cell_type": "code",
   "execution_count": 1,
   "id": "de6871cb-ff8d-4438-95a7-4fd558c2c347",
   "metadata": {},
   "outputs": [],
   "source": [
    "import pandas as pd\n",
    "import seaborn as sns\n",
    "import matplotlib.pyplot as plt\n",
    "import matplotlib.ticker as mtick\n",
    "from datetime import date\n",
    "from datetime import timedelta\n",
    "from fpdf import FPDF\n",
    "\n",
    "from dateutil import parser\n",
    "import datetime\n",
    "import dataframe_image as dfi"
   ]
  },
  {
   "cell_type": "code",
   "execution_count": 2,
   "id": "55735466-14a4-46b8-8b95-f2b577fc3ab9",
   "metadata": {},
   "outputs": [],
   "source": [
    "df = pd.read_csv(r'./../data/raw/lor_ranked_data_all.csv')"
   ]
  },
  {
   "cell_type": "code",
   "execution_count": 32,
   "id": "eaf580ad-5d9b-4b8e-bc8c-6748e7fbda52",
   "metadata": {},
   "outputs": [
    {
     "data": {
      "text/plain": [
       "(45122, 14)"
      ]
     },
     "execution_count": 32,
     "metadata": {},
     "output_type": "execute_result"
    }
   ],
   "source": [
    "this_day = str(date.today())\n",
    "yesterday = str(date.today() - timedelta(days = 1))\n",
    "df_date = df[(df['game_start_time_utc'] < this_day) & (df['game_start_time_utc'] > yesterday)] # keep only the games played yesterday\n",
    "df_date.shape"
   ]
  },
  {
   "cell_type": "code",
   "execution_count": 33,
   "id": "8be1825b-83e7-419f-9d15-78cea5794330",
   "metadata": {},
   "outputs": [],
   "source": [
    "d = datetime.datetime.strptime(yesterday, '%Y-%m-%d')\n",
    "pdf_yesterday = d.strftime('%b %d, %Y')"
   ]
  },
  {
   "cell_type": "code",
   "execution_count": 34,
   "id": "f05a07db-39ba-4a63-9d91-aa84ee091b92",
   "metadata": {},
   "outputs": [],
   "source": [
    "#clean data\n",
    "df_small = df_date[['game_outcome', 'total_turn_count', 'archetype']]\n",
    "archetypes = df_small['archetype'].value_counts() # find the unique archetypes being played\n",
    "popular_archetypes = archetypes[archetypes > len(df_small)/50] #only keep popular archetypes ##################################################################################\n",
    "popular_list = list(popular_archetypes.index) # make a list of popular archetypes\n",
    "df_small_popular = df_small.loc[df['archetype'].isin(popular_list)] # filter df to only keep popular archetypes\n",
    "df_small_popular = df_small_popular[df_small_popular['game_outcome'] != \"tie\"] # drop ties"
   ]
  },
  {
   "cell_type": "code",
   "execution_count": 35,
   "id": "202fb9fa-5d42-4e9e-b50c-de7fcd6173b3",
   "metadata": {},
   "outputs": [
    {
     "data": {
      "text/plain": [
       "902.44"
      ]
     },
     "execution_count": 35,
     "metadata": {},
     "output_type": "execute_result"
    }
   ],
   "source": [
    "#DELETE\n",
    "# WHAT IS THE MINIUMUM SAMPLE SIZE FOR THE ARCHETYPE?\n",
    "df_small = df_date[['game_outcome', 'total_turn_count', 'archetype']]\n",
    "archetypes = df_small['archetype'].value_counts()\n",
    "len(df_small)/50"
   ]
  },
  {
   "cell_type": "code",
   "execution_count": 36,
   "id": "38959ad1-3a2b-4cc4-a3b0-e29b279e24f6",
   "metadata": {},
   "outputs": [],
   "source": [
    "#calculate winrate by archetype\n",
    "df2 = df_small_popular.groupby(['archetype', 'game_outcome']).size() #get win/loss for major archetypes\n",
    "df2 = df2.groupby(level=0).transform(lambda x: (x / x.sum()).round(2)*100) #get win/loss % for major archetypes\n",
    "df2.drop('loss', level=1, axis=0, inplace=True) #drop loss %\n",
    "df2 = df2.droplevel(level=1) #drop win/loss"
   ]
  },
  {
   "cell_type": "code",
   "execution_count": 37,
   "id": "3cd9cacf-5ade-4ec6-b8e7-2e5b8837235c",
   "metadata": {},
   "outputs": [
    {
     "data": {
      "text/plain": [
       "archetype\n",
       "Fizz Lulu (BC PZ)          56\n",
       "Riven Viktor               56\n",
       "Lee Sin Viktor             55\n",
       "Taliyah Ziggs (BC)         54\n",
       "Miss Fortune Quinn         53\n",
       "Aphelios Viktor            52\n",
       "Azir Xerath                52\n",
       "Ezreal Caitlyn (NX)        51\n",
       "Irelia Azir                51\n",
       "Tryndamere Trundle (SI)    51\n",
       "dtype: int64"
      ]
     },
     "execution_count": 37,
     "metadata": {},
     "output_type": "execute_result"
    }
   ],
   "source": [
    "#top 10 archetypes\n",
    "df2.sort_values(ascending=False, inplace=True)\n",
    "top_archetypes = df2[:10]\n",
    "top_archetypes"
   ]
  },
  {
   "cell_type": "code",
   "execution_count": 39,
   "id": "a7f203f7-c88c-428e-b4aa-0eb316166b6f",
   "metadata": {},
   "outputs": [],
   "source": [
    "n_plays = archetypes[str(top_archetypes.index[0])]"
   ]
  },
  {
   "cell_type": "code",
   "execution_count": 10,
   "id": "8a66119c-29f5-40af-9354-3d1a725fa2dd",
   "metadata": {},
   "outputs": [],
   "source": [
    "top_archetypes.to_csv('test1.csv')"
   ]
  },
  {
   "cell_type": "code",
   "execution_count": 11,
   "id": "a15692bd-acf3-4e17-8c73-819d1487d20f",
   "metadata": {},
   "outputs": [],
   "source": [
    "#best archetype yesterday\n",
    "number_one = df2.index[0]"
   ]
  },
  {
   "cell_type": "code",
   "execution_count": 42,
   "id": "fa901223-adb9-4b60-ab89-c62c8cbadadb",
   "metadata": {},
   "outputs": [],
   "source": [
    "x = df_date.loc[df_date['archetype'] == df2.index[0]]\n",
    "archetypes = x['deck_code'].value_counts() # find the unique archetypes being played\n",
    "archetypes = archetypes[archetypes > 100] #only keep popular archetypes\n",
    "popular_list = list(archetypes.index) # make a list of popular archetypes\n",
    "x = x.loc[df['deck_code'].isin(popular_list)] # filter df to only keep popular archetypes"
   ]
  },
  {
   "cell_type": "code",
   "execution_count": 43,
   "id": "2856e6e2-c0c6-445d-9742-5dc265983671",
   "metadata": {},
   "outputs": [],
   "source": [
    "#if this errors out it is because your [archetypes > x] threshold is too high\n",
    "df_champ = x.groupby(['deck_code', 'game_outcome']).size() #get win/loss for major archetypes\n",
    "df_champ = df_champ.groupby(level=0).transform(lambda x: (x / x.sum()).round(3)*100) #get win/loss % for major archetypes\n",
    "df_champ.drop('loss', level=1, axis=0, inplace=True) #drop loss %\n",
    "df_champ = df_champ.droplevel(level=1) #drop win/loss"
   ]
  },
  {
   "cell_type": "code",
   "execution_count": 44,
   "id": "01ec96b8-616c-4c07-9247-4aecdd5a42a2",
   "metadata": {},
   "outputs": [
    {
     "data": {
      "text/plain": [
       "deck_code\n",
       "CQDACAQGFYAQGAQCAEBQIEQBAQCBABABAQGCOLJUAQCQU33YUYA4AAIBAICQU5EIAEAA                60.4\n",
       "CQCQCAYCAIAQGBASAECAIEAEAECAYJZNGQCQKCTPPCEADJQBYAAQCAICAYXAEAIBAQOACBIKGQ          60.2\n",
       "CQDACAQGFYAQGAQCAEBQIEQBAQCBAAYBAQGCOLIEAUFG66FGAHAACAQBAECDIAQFBJ2IQAIBAECQVSAB    54.4\n",
       "dtype: float64"
      ]
     },
     "execution_count": 44,
     "metadata": {},
     "output_type": "execute_result"
    }
   ],
   "source": [
    "best_decks = df_champ.sort_values(ascending=False)\n",
    "best_decks = best_decks[:10]\n",
    "best_decks"
   ]
  },
  {
   "cell_type": "markdown",
   "id": "59019a2b-79e5-464e-ab3b-fa782d57af51",
   "metadata": {},
   "source": [
    "## the optimal game length for that archetype"
   ]
  },
  {
   "cell_type": "code",
   "execution_count": 15,
   "id": "731f070a-289b-405a-bd12-deaa72b37dd7",
   "metadata": {},
   "outputs": [
    {
     "data": {
      "image/png": "[encoded data removed]",
      "text/plain": [
       "<Figure size 432x288 with 1 Axes>"
      ]
     },
     "metadata": {
      "needs_background": "light"
     },
     "output_type": "display_data"
    }
   ],
   "source": [
    "thing = [top_archetypes.index[0]]\n",
    "df_x = df_small.loc[(df_small['archetype'].isin(thing))]\n",
    "winrate = int(df2.at[top_archetypes.index[0]])\n",
    "plt.figure()\n",
    "sns.histplot(x=df_x['total_turn_count'], hue=df_small['game_outcome'], bins=30, binwidth=3)\n",
    "plt.title(f'Optimal game length for {top_archetypes.index[0]}. \\n{winrate}% Winrate')\n",
    "plt.xlabel('Total Turns')\n",
    "plt.ylabel('Number of Games Analyzed')\n",
    "# plt.legend(title=\"Outcome\", labels=['win', 'loss'], frameon=True)\n",
    "plt.savefig(f'gameLength-{this_day}-{top_archetypes.index[0]}-{winrate}.png', bbox_inches=\"tight\", dpi=200, transparent=True)"
   ]
  },
  {
   "cell_type": "markdown",
   "id": "3a90203f-9609-4426-9ec0-90c60606269a",
   "metadata": {},
   "source": [
    "##  how that deck has been growing in the meta\n",
    " - in popularity\n",
    " - in winrate"
   ]
  },
  {
   "cell_type": "code",
   "execution_count": 16,
   "id": "55ffa288-e067-447f-9115-2689314c7b33",
   "metadata": {},
   "outputs": [],
   "source": [
    "# # Number of of games chart\n",
    "# df_x = df[df['archetype'] == df2.index[0]] # make dataframe of just the best archetype\n",
    "# thing = pd.to_datetime(df_x['game_start_time_utc'].str[:10]) # just get the dates\n",
    "# dates = thing.value_counts() # how many games are played per day?\n",
    "# dates.sort_index(ascending=True, inplace=True) # sort the dates\n",
    "\n",
    "# fig, ax = plt.subplots() # graph to see if you're missing any dates\n",
    "# ax.spines['top'].set_visible(False)\n",
    "# ax.spines['right'].set_visible(False)\n",
    "# plt.title(f'{df2.index[0]} playrate over time \\n{winrate}% Winrate overall')\n",
    "# plt.xlabel('Date')\n",
    "# plt.ylabel('Number of Games')\n",
    "# dates.plot(ax=ax, kind='line')\n",
    "# plt.savefig(f'archetypePopularity.png', bbox_inches=\"tight\", dpi=200, transparent=True)"
   ]
  },
  {
   "cell_type": "code",
   "execution_count": 17,
   "id": "f32785bb-0d71-4648-ba28-e9f4e3aa9ddd",
   "metadata": {},
   "outputs": [
    {
     "data": {
      "image/png": "[encoded data removed]",
      "text/plain": [
       "<Figure size 432x288 with 1 Axes>"
      ]
     },
     "metadata": {
      "needs_background": "light"
     },
     "output_type": "display_data"
    }
   ],
   "source": [
    "# proportional playrate chart\n",
    "df_x = df[df['archetype'] == df2.index[0]] # make dataframe of just the best archetype\n",
    "thing = df_x['game_start_time_utc'].str[:10] # just get the dates\n",
    "games_arch = thing.value_counts() # how many games are played per day?\n",
    "games_arch.sort_index(ascending=True, inplace=True) # sort the dates\n",
    "\n",
    "# the total number of games played on any given day\n",
    "_ = df['game_start_time_utc'].str[:10]\n",
    "_ = _.value_counts()\n",
    "_.sort_index(ascending=True, inplace=True)\n",
    "\n",
    "# get % playrate\n",
    "dates = games_arch.divide(_)\n",
    "dates = round(dates*100, 3)\n",
    "\n",
    "# plot\n",
    "fig, ax = plt.subplots() # graph to see if you're missing any dates\n",
    "ax.spines['top'].set_visible(False)\n",
    "ax.spines['right'].set_visible(False)\n",
    "ax.yaxis.set_major_formatter(mtick.PercentFormatter(decimals=1))\n",
    "plt.title(f'{df2.index[0]} playrate over time \\n{winrate}% Winrate overall')\n",
    "plt.xlabel('Date')\n",
    "plt.ylabel('Proportional playrate')\n",
    "dates.plot(ax=ax, kind='line')\n",
    "plt.savefig(f'archetypePopularity.png', bbox_inches=\"tight\", dpi=200, transparent=True)"
   ]
  },
  {
   "cell_type": "code",
   "execution_count": 18,
   "id": "2849f6a7-d96f-4d87-a3e0-a9dce1b1ea85",
   "metadata": {},
   "outputs": [
    {
     "data": {
      "image/png": "[encoded data removed]",
      "text/plain": [
       "<Figure size 432x288 with 1 Axes>"
      ]
     },
     "metadata": {
      "needs_background": "light"
     },
     "output_type": "display_data"
    }
   ],
   "source": [
    "df_x = df[df['deck_code'] == best_decks.index[0]] # make dataframe of just the best deck\n",
    "thing = pd.to_datetime(df_x['game_start_time_utc'].str[:10]) # just get the dates\n",
    "dates = thing.value_counts() # how many games are played per day?\n",
    "dates.sort_index(ascending=True, inplace=True) # sort the dates\n",
    "\n",
    "fig, ax = plt.subplots() # graph to see if you're missing any dates\n",
    "ax.spines['top'].set_visible(False)\n",
    "ax.spines['right'].set_visible(False)\n",
    "plt.title(f'Top Deck playrate over time \\n{round(best_decks[0])}% winrate yesterday')\n",
    "plt.xlabel('Date')\n",
    "plt.ylabel('Number of Games')\n",
    "dates.plot(ax=ax, kind='line')\n",
    "plt.savefig(f'deckPopularity.png', bbox_inches=\"tight\", dpi=200, transparent=True)"
   ]
  },
  {
   "cell_type": "markdown",
   "id": "4ebf940a-c46a-48e3-bb1f-02ee019f2a55",
   "metadata": {},
   "source": [
    "## generate report"
   ]
  },
  {
   "cell_type": "code",
   "execution_count": 19,
   "id": "c8997d16-cc6b-411a-a4dc-8f1f1c0cba6b",
   "metadata": {},
   "outputs": [],
   "source": [
    "# make png for top archetypes\n",
    "_archetypes = pd.DataFrame(top_archetypes, columns=['winrate']) #convert top_archetypes to dataframe\n",
    "_archetypes.reset_index(inplace=True) # reset df index\n",
    "df_styled = _archetypes.style.background_gradient()\n",
    "dfi.export(df_styled,\"top_archetypes_winrate.png\")"
   ]
  },
  {
   "cell_type": "code",
   "execution_count": 20,
   "id": "3505ac00-958b-466b-934e-2109472fe9bf",
   "metadata": {},
   "outputs": [],
   "source": [
    "#make variables for top decks\n",
    "deck_0 = best_decks.index[0]\n",
    "deck_wr_0 = round(best_decks[0])\n",
    "deck_1 = best_decks.index[1]\n",
    "deck_wr_1 = round(best_decks[1])\n",
    "deck_2 = best_decks.index[2]\n",
    "deck_wr_2 = round(best_decks[2])"
   ]
  },
  {
   "cell_type": "code",
   "execution_count": 21,
   "id": "b9377e3b-df36-4d52-a4ca-058f379a52a7",
   "metadata": {},
   "outputs": [
    {
     "data": {
      "text/plain": [
       "''"
      ]
     },
     "execution_count": 21,
     "metadata": {},
     "output_type": "execute_result"
    }
   ],
   "source": [
    "pdf = FPDF()\n",
    "\n",
    "w = 210\n",
    "h = 297\n",
    "\n",
    "pdf.add_page()\n",
    "pdf.set_text_color(50,50,50)\n",
    "pdf.set_fill_color(252, 237, 218)\n",
    "pdf.rect(0, 0, 210, 297, 'F')\n",
    "\n",
    "# logo\n",
    "pdf.image('logo.png', w-24, 1, w/8)\n",
    "\n",
    "#title\n",
    "pdf.set_font('Arial', 'B', 25)\n",
    "pdf.ln(10)\n",
    "pdf.write(5,f'What was the best deck on {pdf_yesterday}?')\n",
    "\n",
    "#top archetypes\n",
    "pdf.set_font('Arial', 'B', 10)\n",
    "pdf.ln(5)\n",
    "pdf.write(10,f'I analyzed {df_date.shape[0]} games to discover yesterday\\'s top-performing archetypes and decks.')\n",
    "#png of top 10\n",
    "pdf.set_font('Arial', 'B', 15)\n",
    "pdf.ln(10)\n",
    "pdf.write(10,f'{df2.index[0]} is yesterday\\'s top archetype.')\n",
    "pdf.image(\"top_archetypes_winrate.png\", w/2-20, 50, w/3.5)\n",
    "\n",
    "# top decks\n",
    "pdf.ln(100)\n",
    "pdf.set_font('Arial', 'B', 15)\n",
    "pdf.write(10,f'Here are the best decks in the {df2.index[0]} archetype:')\n",
    "pdf.ln(10)\n",
    "pdf.set_font('Arial', 'B', 7.5)\n",
    "pdf.write(10,f'{deck_wr_0}% wr | {deck_0} \\n{deck_wr_1}% wr | {deck_1} \\n{deck_wr_2}% wr | {deck_2}')\n",
    "# pdf.write(10,f'{deck_wr_0}% wr | {deck_0} \\n{deck_wr_1}% wr | {deck_1}')#' \\n{deck_wr_2}% wr | {deck_2}')\n",
    "# pdf.write(10,f'{deck_wr_0}% wr | {deck_0}')#' \\n{deck_wr_1}% wr | {deck_1} \\n{deck_wr_2}% wr | {deck_2}')\n",
    "pdf.ln(10)\n",
    "pdf.set_font('Arial', 'B', 6)\n",
    "pdf.write(7,f'\\t\\t\\t\\t\\t\\t\\t\\t\\t\\t\\t\\t\\t*Each deck must have at least 100 wins to be considered.')\n",
    "\n",
    "#optimal game length\n",
    "pdf.ln(10)\n",
    "pdf.set_font('Arial', 'B', 15)\n",
    "pdf.write(10,'This archetype and this deck have been good for a while now.')\n",
    "pdf.image('archetypePopularity.png', 10, h-95, w/2.2)\n",
    "\n",
    "#optimal game length\n",
    "# pdf.ln(10)\n",
    "# pdf.set_font('Arial', 'B', 15)\n",
    "# pdf.write(0,'Has this deck always been popular?')\n",
    "pdf.image('deckPopularity.png', w/2, h-95, w/2.2)\n",
    "\n",
    "#export\n",
    "pdf.output(f'{pdf_yesterday}.pdf', 'F')"
   ]
  },
  {
   "cell_type": "code",
   "execution_count": 41,
   "id": "a345ee34-71e7-43f2-be60-ab54cde72580",
   "metadata": {
    "tags": []
   },
   "outputs": [
    {
     "name": "stdout",
     "output_type": "stream",
     "text": [
      "Fizz Lulu (BC PZ) is yesterday's best deck with a 56% overall winrate.       \n",
      "Out of 45122 matches analyzed, Fizz Lulu (BC PZ) was played 1449 times with an overall 56% winrate.       \n",
      "\n",
      "|Winrate|Deck Code|      \n",
      "|:-|:-|       \n",
      "|60%|CQDACAQGFYAQGAQCAEBQIEQBAQCBABABAQGCOLJUAQCQU33YUYA4AAIBAICQU5EIAEAA|       \n",
      "|60%|CQCQCAYCAIAQGBASAECAIEAEAECAYJZNGQCQKCTPPCEADJQBYAAQCAICAYXAEAIBAQOACBIKGQ|        \n",
      "|54%|CQDACAQGFYAQGAQCAEBQIEQBAQCBAAYBAQGCOLIEAUFG66FGAHAACAQBAECDIAQFBJ2IQAIBAECQVSAB|      \n",
      "\n",
      "Happy climbing, and all hail Balco for the data!\n"
     ]
    }
   ],
   "source": [
    "print(f'{top_archetypes.index[0]} is yesterday\\'s best deck with a {top_archetypes[0]}% overall winrate. \\\n",
    "      \\nOut of {df_date.shape[0]} matches analyzed, {top_archetypes.index[0]} was played {n_plays} times with an overall {top_archetypes[0]}% winrate. \\\n",
    "      \\n\\n|Winrate|Deck Code|\\\n",
    "      \\n|:-|:-| \\\n",
    "      \\n|{deck_wr_0}%|{deck_0}| \\\n",
    "      \\n|{deck_wr_1}%|{deck_1}|  \\\n",
    "      \\n|{deck_wr_2}%|{deck_2}|\\\n",
    "      \\n\\nHappy climbing, and all hail Balco for the data!')"
   ]
  },
  {
   "cell_type": "code",
   "execution_count": null,
   "id": "6c9ac2d5-5930-4529-bc88-8fe1c80c21e9",
   "metadata": {},
   "outputs": [],
   "source": []
  }
 ],
 "metadata": {
  "kernelspec": {
   "display_name": "Python 3",
   "language": "python",
   "name": "python3"
  },
  "language_info": {
   "codemirror_mode": {
    "name": "ipython",
    "version": 3
   },
   "file_extension": ".py",
   "mimetype": "text/x-python",
   "name": "python",
   "nbconvert_exporter": "python",
   "pygments_lexer": "ipython3",
   "version": "3.8.8"
  }
 },
 "nbformat": 4,
 "nbformat_minor": 5
}
