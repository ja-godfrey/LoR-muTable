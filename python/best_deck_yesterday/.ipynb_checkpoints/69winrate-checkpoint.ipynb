{
 "cells": [
  {
   "cell_type": "markdown",
   "id": "af86a114-98f3-4b44-b9ca-058ebf6d4b8f",
   "metadata": {},
   "source": [
    "## what deck in the last 6.9 days that has been played more than 69 times has had a 69% winrate?"
   ]
  },
  {
   "cell_type": "code",
   "execution_count": 1,
   "id": "a625680d-b7be-4ece-bb10-6fb7c97c2b10",
   "metadata": {},
   "outputs": [],
   "source": [
    "import pandas as pd\n",
    "import seaborn as sns\n",
    "import matplotlib.pyplot as plt\n",
    "from datetime import date\n",
    "from datetime import timedelta"
   ]
  },
  {
   "cell_type": "code",
   "execution_count": 2,
   "id": "359208a3-76c7-4360-9202-7fc60c5ed641",
   "metadata": {},
   "outputs": [],
   "source": [
    "df = pd.read_csv(r'./../data/raw/lor_ranked_data_all.csv')"
   ]
  },
  {
   "cell_type": "code",
   "execution_count": 3,
   "id": "f4248679-ecb2-4ac0-8b4f-281a7fcfd59c",
   "metadata": {},
   "outputs": [],
   "source": [
    "this_day = str(date.today())\n",
    "last_week = str(date.today() - timedelta(days = 6.9))\n",
    "df_date = df[(df['game_start_time_utc'] < this_day) & (df['game_start_time_utc'] > last_week)] # keep only the games past 6.9 days\n",
    "df_date = df_date.loc[:, 'match_id':]"
   ]
  },
  {
   "cell_type": "code",
   "execution_count": 4,
   "id": "f9309905-c5a9-4790-9b74-58b09699e471",
   "metadata": {},
   "outputs": [],
   "source": [
    "codes = df_date['deck_code'].value_counts() # find the unique archetypes being played\n",
    "popular_codes = codes[codes > 69]"
   ]
  },
  {
   "cell_type": "code",
   "execution_count": 5,
   "id": "507c1ae4-005c-4d47-aa4d-5bdd46a449b4",
   "metadata": {},
   "outputs": [],
   "source": [
    "popular_list = list(popular_codes.index) # make a list of popular archetypes\n",
    "df_small_69 = df_date.loc[df['deck_code'].isin(popular_list)] # filter df to only keep popular archetypes\n",
    "df_small_69 = df_small_69[df_small_69['game_outcome'] != \"tie\"] # drop ties"
   ]
  },
  {
   "cell_type": "code",
   "execution_count": 6,
   "id": "b4439305-f5ac-45c9-af61-900a73d49242",
   "metadata": {},
   "outputs": [
    {
     "data": {
      "text/html": [
       "<div>\n",
       "<style scoped>\n",
       "    .dataframe tbody tr th:only-of-type {\n",
       "        vertical-align: middle;\n",
       "    }\n",
       "\n",
       "    .dataframe tbody tr th {\n",
       "        vertical-align: top;\n",
       "    }\n",
       "\n",
       "    .dataframe thead th {\n",
       "        text-align: right;\n",
       "    }\n",
       "</style>\n",
       "<table border=\"1\" class=\"dataframe\">\n",
       "  <thead>\n",
       "    <tr style=\"text-align: right;\">\n",
       "      <th></th>\n",
       "      <th>0</th>\n",
       "    </tr>\n",
       "    <tr>\n",
       "      <th>deck_code</th>\n",
       "      <th></th>\n",
       "    </tr>\n",
       "  </thead>\n",
       "  <tbody>\n",
       "    <tr>\n",
       "      <th>CICACBIGAEBAEAYDAQCACAYCBQSSQBICAYLCMLJ2HQAQCAQGDIBACAIDB4AQEBRA</th>\n",
       "      <td>69.0</td>\n",
       "    </tr>\n",
       "  </tbody>\n",
       "</table>\n",
       "</div>"
      ],
      "text/plain": [
       "                                                       0\n",
       "deck_code                                               \n",
       "CICACBIGAEBAEAYDAQCACAYCBQSSQBICAYLCMLJ2HQAQCAQ...  69.0"
      ]
     },
     "execution_count": 6,
     "metadata": {},
     "output_type": "execute_result"
    }
   ],
   "source": [
    "df2 = df_small_69.groupby(['deck_code', 'game_outcome']).size() #get win/loss for major archetypes\n",
    "df2 = df2.groupby(level=0).transform(lambda x: (x / x.sum()).round(2)*100) #get win/loss % for major archetypes\n",
    "df2.drop('loss', level=1, axis=0, inplace=True) #drop loss %\n",
    "df2 = df2.droplevel(level=1) #drop win/loss\n",
    "df2=pd.DataFrame(df2) # cast to dataframe\n",
    "df2.loc[df2[0] == 69] # just get deck codes with a 69% winrate"
   ]
  },
  {
   "cell_type": "code",
   "execution_count": null,
   "id": "41ea4fdc-0252-479c-baa9-7517181972f2",
   "metadata": {},
   "outputs": [],
   "source": []
  }
 ],
 "metadata": {
  "kernelspec": {
   "display_name": "Python 3",
   "language": "python",
   "name": "python3"
  },
  "language_info": {
   "codemirror_mode": {
    "name": "ipython",
    "version": 3
   },
   "file_extension": ".py",
   "mimetype": "text/x-python",
   "name": "python",
   "nbconvert_exporter": "python",
   "pygments_lexer": "ipython3",
   "version": "3.8.8"
  }
 },
 "nbformat": 4,
 "nbformat_minor": 5
}
