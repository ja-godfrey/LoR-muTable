{
 "cells": [
  {
   "cell_type": "markdown",
   "id": "3a2daba6-895d-49f0-910c-4265704ddf4b",
   "metadata": {},
   "source": [
    "# Move old data to separate files\n",
    "\n",
    "- [x] only keep last two patches in the dataset\n",
    "- [x] move old data to /derived/previous-patches\n",
    "- [x] update raw/lor_ranked_data_all.csv"
   ]
  },
  {
   "cell_type": "code",
   "execution_count": 1,
   "id": "1a20d06d-ce4e-454b-802e-e42c3a675def",
   "metadata": {},
   "outputs": [],
   "source": [
    "import pandas as pd\n",
    "import glob\n",
    "import datetime\n",
    "import matplotlib.pyplot as plt\n",
    "import shutil\n",
    "import os"
   ]
  },
  {
   "cell_type": "code",
   "execution_count": 2,
   "id": "55bac680-d44e-4f5b-9638-2232e984af26",
   "metadata": {},
   "outputs": [],
   "source": [
    "path = r\"./data/raw/pieces\" # use your path\n",
    "all_files = glob.glob(path + \"/*.csv\")\n",
    "\n",
    "df_working = pd.read_csv(r'./data/raw\\\\lor_ranked_data_all.csv')\n",
    "li = [df_working]\n",
    "\n",
    "for filename in all_files:\n",
    "    df = pd.read_csv(filename, index_col=None, header=0)\n",
    "    li.append(df)\n",
    "\n",
    "frame = pd.concat(li, axis=0, ignore_index=True).drop_duplicates().reset_index(drop=True)\n",
    "frame = frame.loc[:, 'match_id':]"
   ]
  },
  {
   "cell_type": "code",
   "execution_count": 3,
   "id": "d6deb44a-1586-428b-8571-0c45f2a6bac9",
   "metadata": {},
   "outputs": [
    {
     "data": {
      "text/plain": [
       "live_3_08_27    1630942\n",
       "live_3_07_13     602628\n",
       "live_3_09_12     120416\n",
       "Name: game_version, dtype: int64"
      ]
     },
     "execution_count": 3,
     "metadata": {},
     "output_type": "execute_result"
    }
   ],
   "source": [
    "total = frame['game_version'].value_counts().sum()\n",
    "frame['game_version'].value_counts()"
   ]
  },
  {
   "cell_type": "code",
   "execution_count": 4,
   "id": "96401ed1-943f-4888-8c8f-cea927c7db3e",
   "metadata": {},
   "outputs": [
    {
     "data": {
      "text/plain": [
       "'live_3_07_13'"
      ]
     },
     "execution_count": 4,
     "metadata": {},
     "output_type": "execute_result"
    }
   ],
   "source": [
    "outtaHere = frame['game_version'].value_counts().index[1] # CHANGE THIS INDEX VALUE UNTIL THE OUTPUT IS THE PATCH YOU ARE TRYING TO EXTRACT\n",
    "outtaHere"
   ]
  },
  {
   "cell_type": "code",
   "execution_count": 5,
   "id": "3a2b9ee6-6306-457e-b22f-f5a0c62b8648",
   "metadata": {},
   "outputs": [
    {
     "name": "stdin",
     "output_type": "stream",
     "text": [
      "If you want to update the csv files and move a bunch of stuff, type \"yes\" yes\n"
     ]
    }
   ],
   "source": [
    "### This one moves the old patch out to a file for cold storage\n",
    "confirm = input('If you want to update the csv files and move a bunch of stuff, type \"yes\"')\n",
    "if confirm == 'yes':\n",
    "    df_toGo = frame[frame['game_version'] == outtaHere]\n",
    "    df_toGo.to_csv(f'./data/derived/previous-patches/lor_ranked_data_all_{outtaHere}.csv')\n",
    "else:\n",
    "    print(\"understandable, have a nice day.\")"
   ]
  },
  {
   "cell_type": "code",
   "execution_count": 6,
   "id": "d8297056-68ae-4110-9ecc-4812523f0ded",
   "metadata": {},
   "outputs": [
    {
     "name": "stdin",
     "output_type": "stream",
     "text": [
      "If you want to update the csv files and move a bunch of stuff, type \"yes\" yes\n"
     ]
    }
   ],
   "source": [
    "### This one deletes the old patch from the working database\n",
    "confirm = input('If you want to update the csv files and move a bunch of stuff, type \"yes\"')\n",
    "if confirm == 'yes':\n",
    "    df_toStay = frame[frame['game_version'] != outtaHere]\n",
    "    df_toStay.to_csv(r'./data/raw/lor_ranked_data_all.csv')\n",
    "else:\n",
    "    print(\"understandable, have a nice day.\")"
   ]
  },
  {
   "cell_type": "code",
   "execution_count": 7,
   "id": "72f45092-3913-4728-81c2-fb595cdef561",
   "metadata": {},
   "outputs": [
    {
     "data": {
      "text/plain": [
       "True"
      ]
     },
     "execution_count": 7,
     "metadata": {},
     "output_type": "execute_result"
    }
   ],
   "source": [
    "total == df_toStay.shape[0] + df_toGo.shape[0] #If this is True, then you did it right."
   ]
  },
  {
   "cell_type": "code",
   "execution_count": null,
   "id": "42764f78-ec5c-4a0f-8940-170785946af4",
   "metadata": {},
   "outputs": [],
   "source": []
  }
 ],
 "metadata": {
  "kernelspec": {
   "display_name": "Python 3",
   "language": "python",
   "name": "python3"
  },
  "language_info": {
   "codemirror_mode": {
    "name": "ipython",
    "version": 3
   },
   "file_extension": ".py",
   "mimetype": "text/x-python",
   "name": "python",
   "nbconvert_exporter": "python",
   "pygments_lexer": "ipython3",
   "version": "3.8.8"
  }
 },
 "nbformat": 4,
 "nbformat_minor": 5
}
