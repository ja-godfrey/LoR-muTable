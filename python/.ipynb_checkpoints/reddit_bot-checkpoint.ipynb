{
 "cells": [
  {
   "cell_type": "markdown",
   "id": "cf655a61-7c0f-42f7-bef1-c9e3829395ed",
   "metadata": {},
   "source": [
    "# Yesterday's best deck bot\n",
    "Build a reddit bot that posts yesterday's best deck\n",
    "\n",
    "- [x] scrape appropriate data from balco-lor.com\n",
    "- [ ] clean data\n",
    "- [ ] analyze data\n",
    "- [ ] build post\n",
    "- [ ] post to r/lor"
   ]
  },
  {
   "cell_type": "markdown",
   "id": "b9f2738b-c8ba-4ffe-9f7b-e8f54484c179",
   "metadata": {},
   "source": [
    "## 1 scrape data"
   ]
  },
  {
   "cell_type": "code",
   "execution_count": 1,
   "id": "80909dc0-5326-436f-bd32-a6f789a70f9b",
   "metadata": {
    "tags": []
   },
   "outputs": [
    {
     "data": {
      "text/plain": [
       "'C:\\\\Users\\\\jagod\\\\github\\\\LoR-muTable\\\\python'"
      ]
     },
     "execution_count": 1,
     "metadata": {},
     "output_type": "execute_result"
    }
   ],
   "source": [
    "import time\n",
    "\n",
    "import selenium\n",
    "from selenium import webdriver\n",
    "from selenium.webdriver.chrome.service import Service\n",
    "from selenium.webdriver.common.by import By\n",
    "from selenium.webdriver.support.ui import WebDriverWait\n",
    "from selenium.webdriver.support import expected_conditions as EC\n",
    "\n",
    "from webdriver_manager.chrome import ChromeDriverManager\n",
    "import os\n",
    "\n",
    "os.getcwd()"
   ]
  },
  {
   "cell_type": "code",
   "execution_count": 2,
   "id": "58d267fb-8656-4440-8627-21837feafd99",
   "metadata": {},
   "outputs": [],
   "source": [
    "#set up selenium\n",
    "driver = webdriver.Chrome(service=Service(ChromeDriverManager().install()))\n",
    "driver.get('https://www.balco-lor.com/ranked/')\n",
    "\n",
    "try:\n",
    "    wait = WebDriverWait(driver, 60) #define max wait time\n",
    "    element = wait.until(EC.presence_of_element_located((By.XPATH, '//*[@id=\"filter_dates\"]/div/span/span[6]'))) #wait until scroller appears\n",
    "finally:\n",
    "    left = driver.find_element(By.XPATH, '//*[@id=\"filter_dates\"]/div/span/span[6]') #define left scroller\n",
    "    element = driver.find_element(By.XPATH, '//*[@id=\"filter_dates\"]/div/span/span[7]') # define right element\n",
    "    time.sleep(1)\n",
    "    webdriver.ActionChains(driver).click_and_hold(left).pause(0).move_to_element_with_offset(element, -20, 0).pause(0).release().perform() # move left scroller to where it needs to be relative to right scroller\n",
    "    \n",
    "# download region files for yesterday (approx)\n",
    "regions = ['europe', 'americas', 'asia']\n",
    "for i in regions:\n",
    "    button = driver.find_element(By.XPATH, '/html/body/div[1]/div[1]/form/div[1]/div/div/div[1]') # open region selection box\n",
    "    button.click()\n",
    "    time.sleep(1)\n",
    "    region = driver.find_element(By.XPATH, f'//div[@data-value=\"{i}\"]') # click appropriate region\n",
    "    region.click()\n",
    "    time.sleep(1)\n",
    "    driver.find_element(By.XPATH, '//*[@id=\"get_info\"]').click() #click to load the data\n",
    "    time.sleep(60) #make it so that when XPATH \"//*[@id=\"DataTables_Table_2\"]/tbody/tr[1]/td[6]\" matches \"i\", you hit the download button\n",
    "    driver.find_element(By.XPATH, '//*[@id=\"dl_csv\"]').click() # click to download\n",
    "    time.sleep(5)"
   ]
  },
  {
   "cell_type": "markdown",
   "id": "216aa385-16a1-42bd-a8bd-bf7ab9b552ec",
   "metadata": {},
   "source": [
    "### 2 clean data"
   ]
  },
  {
   "cell_type": "code",
   "execution_count": null,
   "id": "5d388b18-32d1-4e53-81d6-8ab4fd27e507",
   "metadata": {},
   "outputs": [],
   "source": []
  }
 ],
 "metadata": {
  "kernelspec": {
   "display_name": "Python 3",
   "language": "python",
   "name": "python3"
  },
  "language_info": {
   "codemirror_mode": {
    "name": "ipython",
    "version": 3
   },
   "file_extension": ".py",
   "mimetype": "text/x-python",
   "name": "python",
   "nbconvert_exporter": "python",
   "pygments_lexer": "ipython3",
   "version": "3.8.8"
  }
 },
 "nbformat": 4,
 "nbformat_minor": 5
}
