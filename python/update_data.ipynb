{
 "cells": [
  {
   "cell_type": "code",
   "execution_count": 15,
   "id": "be94acb1-434b-433d-be75-d3c78a9d4e97",
   "metadata": {},
   "outputs": [],
   "source": [
    "import pandas as pd\n",
    "import glob\n",
    "import datetime\n",
    "import matplotlib.pyplot as plt\n",
    "import shutil\n",
    "import os"
   ]
  },
  {
   "cell_type": "code",
   "execution_count": 16,
   "id": "d6e51a9c-1516-444e-bacf-9342c14196cf",
   "metadata": {},
   "outputs": [],
   "source": [
    "# combine pieces with working database\n",
    "\n",
    "path = r\"./data/raw/pieces\" # use your path\n",
    "all_files = glob.glob(path + \"/*.csv\")\n",
    "\n",
    "df_working = pd.read_csv(r'./data/raw\\\\lor_ranked_data_all.csv')\n",
    "li = [df_working]\n",
    "\n",
    "for filename in all_files:\n",
    "    df = pd.read_csv(filename, index_col=None, header=0)\n",
    "    li.append(df)\n",
    "\n",
    "frame = pd.concat(li, axis=0, ignore_index=True).drop_duplicates().reset_index(drop=True)\n",
    "frame = frame.loc[:, 'match_id':] #delete all the columns before"
   ]
  },
  {
   "cell_type": "code",
   "execution_count": 17,
   "id": "2bdc53f4-4d85-4eea-9469-e99873b99ced",
   "metadata": {},
   "outputs": [
    {
     "name": "stdout",
     "output_type": "stream",
     "text": [
      "the old file is shaped (2155534, 14) and the new file is shaped (2210540, 13). You're adding 55006 entries\n"
     ]
    }
   ],
   "source": [
    "print(f'the old file is shaped {df_working.shape} and the new file is shaped {frame.shape}. You\\'re adding {frame.shape[0] - df_working.shape[0]} entries')"
   ]
  },
  {
   "cell_type": "code",
   "execution_count": 18,
   "id": "6558c285-e2df-446b-b84f-39f0b5f20bcd",
   "metadata": {},
   "outputs": [
    {
     "data": {
      "text/plain": [
       "2210540"
      ]
     },
     "execution_count": 18,
     "metadata": {},
     "output_type": "execute_result"
    }
   ],
   "source": [
    "len(frame)"
   ]
  },
  {
   "cell_type": "code",
   "execution_count": 19,
   "id": "23a7098c-d35f-4c2d-9262-9e1ff62a03ad",
   "metadata": {},
   "outputs": [],
   "source": [
    "frame = frame.drop_duplicates()"
   ]
  },
  {
   "cell_type": "code",
   "execution_count": 20,
   "id": "c71af57d-2ef0-48b8-90ad-87f004fb5670",
   "metadata": {
    "tags": []
   },
   "outputs": [
    {
     "data": {
      "text/plain": [
       "<AxesSubplot:>"
      ]
     },
     "execution_count": 20,
     "metadata": {},
     "output_type": "execute_result"
    },
    {
     "data": {
      "image/png": "[encoded data removed]",
      "text/plain": [
       "<Figure size 432x288 with 1 Axes>"
      ]
     },
     "metadata": {
      "needs_background": "light"
     },
     "output_type": "display_data"
    }
   ],
   "source": [
    "#check if you've missed any dates\n",
    "\n",
    "thing = pd.to_datetime(frame['game_start_time_utc'].str[:10]) # just get the dates\n",
    "dates = thing.value_counts() # how many games are played per day?\n",
    "dates.sort_index(ascending=True, inplace=True) # sort the dates\n",
    "\n",
    "fig, ax = plt.subplots() # graph to see if you're missing any dates\n",
    "dates.plot(ax=ax, kind='bar')"
   ]
  },
  {
   "cell_type": "code",
   "execution_count": 21,
   "id": "8aa586ba-cadb-4f22-a729-6859e8c728f6",
   "metadata": {},
   "outputs": [
    {
     "name": "stdin",
     "output_type": "stream",
     "text": [
      "If you want to update the csv files and move a bunch of stuff, type \"yes\" yes\n"
     ]
    }
   ],
   "source": [
    "### ONLY RUN IF THE PREVIOUS GRAPH LOOKS GOOD\n",
    "confirm = input('If you want to update the csv files and move a bunch of stuff, type \"yes\"')\n",
    "if confirm == 'yes':\n",
    "    frame.to_csv('./data/raw/lor_ranked_data_all.csv')\n",
    "    \n",
    "    source_dir = r'./data/raw/pieces'\n",
    "    target_dir = r'./data/raw/pieces/processed'\n",
    "\n",
    "    file_names = os.listdir(source_dir)\n",
    "\n",
    "    for file_name in file_names:\n",
    "        shutil.move(os.path.join(source_dir, file_name), target_dir)\n",
    "else:\n",
    "    print(\"understandable, have a nice day.\")\n",
    "    "
   ]
  },
  {
   "cell_type": "code",
   "execution_count": null,
   "id": "0ec36e96-1d59-4e36-b587-4c7270994d49",
   "metadata": {},
   "outputs": [],
   "source": []
  }
 ],
 "metadata": {
  "kernelspec": {
   "display_name": "Python 3",
   "language": "python",
   "name": "python3"
  },
  "language_info": {
   "codemirror_mode": {
    "name": "ipython",
    "version": 3
   },
   "file_extension": ".py",
   "mimetype": "text/x-python",
   "name": "python",
   "nbconvert_exporter": "python",
   "pygments_lexer": "ipython3",
   "version": "3.8.8"
  }
 },
 "nbformat": 4,
 "nbformat_minor": 5
}
