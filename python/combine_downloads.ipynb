{
 "cells": [
  {
   "cell_type": "code",
   "execution_count": 15,
   "id": "44fb7897-753f-4e1d-a791-d64e88aa3e53",
   "metadata": {},
   "outputs": [],
   "source": [
    "import pandas as pd\n",
    "import glob\n",
    "import datetime\n",
    "import matplotlib.pyplot as plt\n",
    "import shutil\n",
    "import os"
   ]
  },
  {
   "cell_type": "code",
   "execution_count": 16,
   "id": "52dc71b2-c193-4a0e-a21e-b17c8c4c7712",
   "metadata": {},
   "outputs": [
    {
     "data": {
      "text/plain": [
       "'C:\\\\Users\\\\jagod\\\\github\\\\LoR-muTable\\\\python'"
      ]
     },
     "execution_count": 16,
     "metadata": {},
     "output_type": "execute_result"
    }
   ],
   "source": [
    "os.getcwd() # should say: 'C:\\\\Users\\\\jagod\\\\github\\\\LoR-muTable\\\\python'"
   ]
  },
  {
   "cell_type": "code",
   "execution_count": 17,
   "id": "34f86ba6-7a5d-486e-92ac-e2aba5875487",
   "metadata": {},
   "outputs": [],
   "source": [
    "dates = '20220624-20220625'"
   ]
  },
  {
   "cell_type": "code",
   "execution_count": 18,
   "id": "b9094e69-d2f3-486c-8556-f19f0598fe72",
   "metadata": {},
   "outputs": [],
   "source": [
    "def combine_csv(dates):\n",
    "    path = r\"../../../downloads/\" # use your path\n",
    "    all_files = glob.glob(path + \"/*lor_ranked_data*.csv\")\n",
    "\n",
    "    li = []\n",
    "    for filename in all_files:\n",
    "        df = pd.read_csv(filename, index_col=None, header=0)\n",
    "        li.append(df)\n",
    "\n",
    "    frame = pd.concat(li, axis=0, ignore_index=True)\n",
    "    frame.to_csv(f'./data/raw/pieces/{dates}lor_ranked_data_all.csv')\n",
    "    for f in all_files:\n",
    "        os.remove(f)    "
   ]
  },
  {
   "cell_type": "code",
   "execution_count": 19,
   "id": "07866582-444a-4f23-9b43-595b1237711f",
   "metadata": {},
   "outputs": [],
   "source": [
    "combine_csv(dates)"
   ]
  },
  {
   "cell_type": "code",
   "execution_count": null,
   "id": "1fc37224-c8de-48d8-8856-3e8bf9439253",
   "metadata": {},
   "outputs": [],
   "source": []
  }
 ],
 "metadata": {
  "kernelspec": {
   "display_name": "Python 3",
   "language": "python",
   "name": "python3"
  },
  "language_info": {
   "codemirror_mode": {
    "name": "ipython",
    "version": 3
   },
   "file_extension": ".py",
   "mimetype": "text/x-python",
   "name": "python",
   "nbconvert_exporter": "python",
   "pygments_lexer": "ipython3",
   "version": "3.8.8"
  }
 },
 "nbformat": 4,
 "nbformat_minor": 5
}
