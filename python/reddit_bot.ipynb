{
 "cells": [
  {
   "cell_type": "markdown",
   "id": "cf655a61-7c0f-42f7-bef1-c9e3829395ed",
   "metadata": {},
   "source": [
    "# Yesterday's best deck bot\n",
    "Build a reddit bot that posts yesterday's best deck\n",
    "\n",
    "- [x] scrape appropriate data from balco-lor.com\n",
    "- [ ] combine files\n",
    "- [ ] clean data\n",
    "- [ ] analyze data\n",
    "- [ ] build post\n",
    "- [ ] post to r/lor"
   ]
  },
  {
   "cell_type": "markdown",
   "id": "b9f2738b-c8ba-4ffe-9f7b-e8f54484c179",
   "metadata": {},
   "source": [
    "## 1. scrape data"
   ]
  },
  {
   "cell_type": "code",
   "execution_count": 78,
   "id": "80909dc0-5326-436f-bd32-a6f789a70f9b",
   "metadata": {
    "tags": []
   },
   "outputs": [
    {
     "data": {
      "text/plain": [
       "'C:\\\\Users\\\\jagod\\\\github\\\\LoR-muTable\\\\python'"
      ]
     },
     "execution_count": 78,
     "metadata": {},
     "output_type": "execute_result"
    }
   ],
   "source": [
    "import time\n",
    "import shutil\n",
    "import pandas as pd\n",
    "import glob\n",
    "import datetime\n",
    "import pandas as pd\n",
    "import praw\n",
    "import json\n",
    "\n",
    "import selenium\n",
    "from selenium import webdriver\n",
    "from selenium.webdriver.chrome.service import Service\n",
    "from selenium.webdriver.common.by import By\n",
    "from selenium.webdriver.support.ui import WebDriverWait\n",
    "from selenium.webdriver.support import expected_conditions as EC\n",
    "\n",
    "from webdriver_manager.chrome import ChromeDriverManager\n",
    "import os\n",
    "\n",
    "os.getcwd()"
   ]
  },
  {
   "cell_type": "code",
   "execution_count": 2,
   "id": "58d267fb-8656-4440-8627-21837feafd99",
   "metadata": {},
   "outputs": [],
   "source": [
    "#set up selenium\n",
    "driver = webdriver.Chrome(service=Service(ChromeDriverManager().install()))\n",
    "driver.get('https://www.balco-lor.com/ranked/')\n",
    "\n",
    "try:\n",
    "    wait = WebDriverWait(driver, 60) #define max wait time\n",
    "    element = wait.until(EC.presence_of_element_located((By.XPATH, '//*[@id=\"filter_dates\"]/div/span/span[6]'))) #wait until scroller appears\n",
    "finally:\n",
    "    left = driver.find_element(By.XPATH, '//*[@id=\"filter_dates\"]/div/span/span[6]') #define left scroller\n",
    "    element = driver.find_element(By.XPATH, '//*[@id=\"filter_dates\"]/div/span/span[7]') # define right element\n",
    "    time.sleep(1)\n",
    "    webdriver.ActionChains(driver).click_and_hold(left).pause(0).move_to_element_with_offset(element, -20, 0).pause(0).release().perform() # move left scroller to where it needs to be relative to right scroller\n",
    "    \n",
    "# download region files for yesterday (approx)\n",
    "regions = ['europe', 'americas', 'asia']\n",
    "for i in regions:\n",
    "    button = driver.find_element(By.XPATH, '/html/body/div[1]/div[1]/form/div[1]/div/div/div[1]') # open region selection box\n",
    "    button.click()\n",
    "    time.sleep(1)\n",
    "    region = driver.find_element(By.XPATH, f'//div[@data-value=\"{i}\"]') # click appropriate region\n",
    "    region.click()\n",
    "    time.sleep(1)\n",
    "    driver.find_element(By.XPATH, '//*[@id=\"get_info\"]').click() #click to load the data\n",
    "    time.sleep(60) #make it so that when XPATH \"//*[@id=\"DataTables_Table_2\"]/tbody/tr[1]/td[6]\" matches \"i\", you hit the download button\n",
    "    driver.find_element(By.XPATH, '//*[@id=\"dl_csv\"]').click() # click to download\n",
    "    time.sleep(5)"
   ]
  },
  {
   "cell_type": "markdown",
   "id": "216aa385-16a1-42bd-a8bd-bf7ab9b552ec",
   "metadata": {},
   "source": [
    "### 2. combine files"
   ]
  },
  {
   "cell_type": "code",
   "execution_count": 44,
   "id": "849c9c82-73f0-43af-bc01-904018757021",
   "metadata": {},
   "outputs": [],
   "source": [
    "# get relevant dates\n",
    "today = datetime.date.today()\n",
    "yesterday = today-datetime.timedelta(days=1)\n",
    "\n",
    "yesterday_dash = yesterday.strftime('%Y-%m-%d')"
   ]
  },
  {
   "cell_type": "code",
   "execution_count": 12,
   "id": "f56c7f8a-1c2f-4f19-b0b0-98d134457494",
   "metadata": {},
   "outputs": [],
   "source": [
    "# dates = f'{yesterday}-{today}'"
   ]
  },
  {
   "cell_type": "code",
   "execution_count": 48,
   "id": "337375a9-7a76-426f-8b3a-fb8d0d311581",
   "metadata": {},
   "outputs": [],
   "source": [
    "def combine_csv(dates):\n",
    "    path = r\"../../../downloads/\" # use your path\n",
    "    all_files = glob.glob(path + \"/*lor_ranked_data*.csv\")\n",
    "\n",
    "    li = []\n",
    "    for filename in all_files:\n",
    "        df = pd.read_csv(filename, index_col=None, header=0)\n",
    "        li.append(df)\n",
    "\n",
    "    frame = pd.concat(li, axis=0, ignore_index=True)\n",
    "    return frame"
   ]
  },
  {
   "cell_type": "code",
   "execution_count": 49,
   "id": "1d96e62f-2dba-4224-89c2-d0529d4d6a8d",
   "metadata": {
    "tags": []
   },
   "outputs": [],
   "source": [
    "df = combine_csv(dates)"
   ]
  },
  {
   "cell_type": "markdown",
   "id": "57c17d51-8455-4345-9590-2aa5ab9acdfa",
   "metadata": {},
   "source": [
    "### 3. clean data"
   ]
  },
  {
   "cell_type": "code",
   "execution_count": 67,
   "id": "1b7b7eff-52e6-46ae-a0f5-bdb5312903d6",
   "metadata": {},
   "outputs": [],
   "source": [
    "df['game_start_time_utc'] = pd.to_datetime(df['game_start_time_utc']) # convert to datetime\n",
    "df['game_start_time_utc'] = df['game_start_time_utc'].dt.strftime('%Y-%m-%d') # format it how you want\n",
    "mask = (df['game_start_time_utc'] == yesterday_dash) # create mask\n",
    "df = df.loc[mask] # filter on mask"
   ]
  },
  {
   "cell_type": "markdown",
   "id": "3fb80b24-690d-4739-9933-e89bb5456670",
   "metadata": {},
   "source": [
    "### 4. analyze data"
   ]
  },
  {
   "cell_type": "code",
   "execution_count": 68,
   "id": "f808f778-9ad0-40ec-8ffe-fdb6198443c1",
   "metadata": {},
   "outputs": [],
   "source": [
    "archetypes = df['deck_code'].value_counts()\n",
    "archetypes = archetypes[archetypes > 300]\n",
    "popular_list = list(archetypes.index)\n",
    "x = df.loc[df['deck_code'].isin(popular_list)]"
   ]
  },
  {
   "cell_type": "code",
   "execution_count": 69,
   "id": "815cf51a-3d25-4120-a59b-ac8f7fee59c9",
   "metadata": {},
   "outputs": [],
   "source": [
    "df_champ = x[x['game_outcome'] != \"tie\"] # get rid of ties\n",
    "df_champ = df_champ.groupby(['deck_code', 'game_outcome']).size() # group deck codes by outcome\n",
    "df_champ = df_champ.groupby(level=0).transform(lambda x: (x / x.sum()).round(3)*100) # get winrate\n",
    "df_champ.drop('loss', level=1, axis=0, inplace=True) # drop losses\n",
    "df_champ = df_champ.droplevel(level=1) # not sure\n",
    "df_champ = df_champ.sort_values(ascending=False) # sort so good stuff at top\n",
    "df_champ = pd.DataFrame({'deck_code':df_champ.index, 'winrate':df_champ.values}) #dataframe w/ column titles"
   ]
  },
  {
   "cell_type": "code",
   "execution_count": 70,
   "id": "bcd3dc9d-8e02-4f6c-b6a2-be084573053d",
   "metadata": {},
   "outputs": [],
   "source": [
    "df_ = df[['deck_code', 'archetype']].copy() # make a dataframe with just the stuff you need\n",
    "_ = pd.merge(df_champ, df_, on=['deck_code'], copy=False).drop_duplicates().reset_index(drop=True)[:20] # get the archetypes for top decks, drop dupes, reset index, keep top 10"
   ]
  },
  {
   "cell_type": "code",
   "execution_count": 71,
   "id": "5a09850e-960e-4ba7-ae12-f7199bf3111d",
   "metadata": {},
   "outputs": [],
   "source": [
    "# get sample size for each deck\n",
    "z = df.value_counts('deck_code')\n",
    "z = pd.DataFrame(z, columns = ['n_games'])\n",
    "_ = _.merge(z, how='inner', on= 'deck_code')"
   ]
  },
  {
   "cell_type": "code",
   "execution_count": 74,
   "id": "d26b8085-fd35-4cf0-8c09-a3a06c4a772d",
   "metadata": {},
   "outputs": [],
   "source": [
    "# define a bunch of variables\n",
    "top_archetype = _['archetype'][0]\n",
    "top_archetype_plays = df['archetype'].value_counts()[top_archetype]\n",
    "top_winrate = round(_['winrate'][0])\n",
    "top_deck_n_games = _['n_games'][0]\n",
    "pdf_n_games_total = df.shape[0]\n",
    "\n",
    "deck_wr0 = round(_['winrate'][0])\n",
    "deck_wr1 = round(_['winrate'][1])\n",
    "deck_wr2 = round(_['winrate'][2])\n",
    "# deck_wr3 = round(_['winrate'][3])\n",
    "# deck_wr4 = round(_['winrate'][4])\n",
    "# deck_wr5 = round(_['winrate'][5])\n",
    "# deck_wr6 = round(_['winrate'][6])\n",
    "\n",
    "deck_code0 = _['deck_code'][0]\n",
    "deck_code1 = _['deck_code'][1]\n",
    "deck_code2 = _['deck_code'][2]\n",
    "# deck_code3 = _['deck_code'][3]\n",
    "# deck_code4 = _['deck_code'][4]\n",
    "# deck_code5 = _['deck_code'][5]\n",
    "# deck_code6 = _['deck_code'][6]\n",
    "\n",
    "deck_archetype0 = _['archetype'][0]\n",
    "deck_archetype1 = _['archetype'][1]\n",
    "deck_archetype2 = _['archetype'][2]\n",
    "# deck_archetype3 = _['archetype'][3]\n",
    "# deck_archetype4 = _['archetype'][4]\n",
    "# deck_archetype5 = _['archetype'][5]\n",
    "# deck_archetype6 = _['archetype'][6]"
   ]
  },
  {
   "cell_type": "markdown",
   "id": "8521280d-f500-4446-8c07-fa33d964827f",
   "metadata": {},
   "source": [
    "### generate post"
   ]
  },
  {
   "cell_type": "code",
   "execution_count": 75,
   "id": "ec2443bf-ca44-409f-a512-f0b14745098b",
   "metadata": {},
   "outputs": [
    {
     "name": "stdout",
     "output_type": "stream",
     "text": [
      "Yesterday's top deck is Miss Fortune Twisted Fate (NX), with a 64% winrate.       \n",
      "Out of 44938 matches analyzed, Miss Fortune Twisted Fate (NX) was played 4781 times (11%). Its top deck was played 342 times with an overall 64% winrate.       \n",
      "\n",
      "|Winrate|Archetype|Deck Code|      \n",
      "|:-|:-|:-|       \n",
      "|64%|Miss Fortune Twisted Fate (NX)|CICQCAQDAMAQKBQBAIDAMFI6AQAQGAQMB4UAIAQGCYNCMOQCAEAQGJIBAIDC2AA|       \n",
      "|59%|Miss Fortune Twisted Fate (NX)|CIDACAQDAMAQKBQBAEDAMFIBAYBROBABAMBAYDZIAQBAMFQ2EY5AEAICAYWQCBQGDYAA|        \n",
      "|56%|Miss Fortune Twisted Fate (NX)|CICQCAQDAMAQKBQBAEDAMFIEAIDBMGRGHICQCAYCBQHSKKACAEBAMLIBAYDB4AA|      \n",
      "\n",
      "Happy climbing, and all hail [Balco](https://lor-meta.com/) for the data!\n"
     ]
    }
   ],
   "source": [
    "print(f'Yesterday\\'s top deck is {top_archetype}, with a {top_winrate}% winrate. \\\n",
    "      \\nOut of {pdf_n_games_total} matches analyzed, {top_archetype} was played {top_archetype_plays} times ({round((top_archetype_plays/pdf_n_games_total)*100)}%). Its top deck was played {top_deck_n_games} times with an overall {top_winrate}% winrate. \\\n",
    "      \\n\\n|Winrate|Archetype|Deck Code|\\\n",
    "      \\n|:-|:-|:-| \\\n",
    "      \\n|{deck_wr0}%|{deck_archetype0}|{deck_code0}| \\\n",
    "      \\n|{deck_wr1}%|{deck_archetype1}|{deck_code1}|  \\\n",
    "      \\n|{deck_wr2}%|{deck_archetype2}|{deck_code2}|\\\n",
    "      \\n\\nHappy climbing, and all hail [Balco](https://lor-meta.com/) for the data!')"
   ]
  },
  {
   "cell_type": "markdown",
   "id": "5de070e9-8bed-40b9-b0f6-d50be43ad466",
   "metadata": {},
   "source": [
    "### post to reddit"
   ]
  },
  {
   "cell_type": "code",
   "execution_count": null,
   "id": "27ceae81-e7a7-455f-be3f-2b6830a59733",
   "metadata": {},
   "outputs": [],
   "source": [
    "def get_keys(path):\n",
    "    with open(path) as f:\n",
    "        return json.load(f)\n",
    "\n",
    "x = get_keys('praw.env')"
   ]
  },
  {
   "cell_type": "code",
   "execution_count": null,
   "id": "65db8ac6-659e-4a48-84f5-ecea3f98687e",
   "metadata": {},
   "outputs": [],
   "source": [
    "reddit = praw.Reddit(client_id = x['client_id'],\n",
    "                     client_secret = x['client_secret'],\n",
    "                     user_agent = x['user_agent'],\n",
    "                     username = x['username'],\n",
    "                     password = x['password'])"
   ]
  },
  {
   "cell_type": "code",
   "execution_count": 87,
   "id": "5b8f5843-e228-4e83-9afd-b38e33a177d7",
   "metadata": {},
   "outputs": [],
   "source": [
    "x = get_keys('praw.env')"
   ]
  },
  {
   "cell_type": "code",
   "execution_count": 93,
   "id": "5d8202e8-7a29-49f8-8e2b-2df37e2ac5d8",
   "metadata": {},
   "outputs": [
    {
     "data": {
      "text/plain": [
       "'Lw3fTHOcCYwmajAf-b5HiQ'"
      ]
     },
     "execution_count": 93,
     "metadata": {},
     "output_type": "execute_result"
    }
   ],
   "source": [
    "x['client_id']"
   ]
  },
  {
   "cell_type": "code",
   "execution_count": 92,
   "id": "c207da46-a6ef-47f3-8782-bee9f7f0149c",
   "metadata": {},
   "outputs": [
    {
     "data": {
      "text/plain": [
       "dict_keys(['client_id', 'client_secret', 'user_agent', 'username', 'password'])"
      ]
     },
     "execution_count": 92,
     "metadata": {},
     "output_type": "execute_result"
    }
   ],
   "source": [
    "x.keys()"
   ]
  },
  {
   "cell_type": "code",
   "execution_count": null,
   "id": "e712c88e-0986-4c9e-b48d-e9fd7802988c",
   "metadata": {},
   "outputs": [],
   "source": []
  }
 ],
 "metadata": {
  "kernelspec": {
   "display_name": "Python 3",
   "language": "python",
   "name": "python3"
  },
  "language_info": {
   "codemirror_mode": {
    "name": "ipython",
    "version": 3
   },
   "file_extension": ".py",
   "mimetype": "text/x-python",
   "name": "python",
   "nbconvert_exporter": "python",
   "pygments_lexer": "ipython3",
   "version": "3.8.8"
  }
 },
 "nbformat": 4,
 "nbformat_minor": 5
}
