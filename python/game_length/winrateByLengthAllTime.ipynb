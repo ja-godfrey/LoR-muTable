{
 "cells": [
  {
   "cell_type": "code",
   "execution_count": 1,
   "id": "75f20daf-69d8-4aa0-aebe-d1b8786c363f",
   "metadata": {},
   "outputs": [
    {
     "name": "stdout",
     "output_type": "stream",
     "text": [
      "time: 0 ns (started: 2022-08-05 10:47:23 -04:00)\n"
     ]
    }
   ],
   "source": [
    "import pandas as pd\n",
    "import seaborn as sns\n",
    "import matplotlib.pyplot as plt\n",
    "import matplotlib.ticker as mtick\n",
    "from datetime import date\n",
    "from datetime import timedelta\n",
    "from fpdf import FPDF\n",
    "from IPython.display import HTML\n",
    "import os\n",
    "import numpy as np\n",
    "from scipy.signal import savgol_filter\n",
    "import glob\n",
    "\n",
    "from dateutil import parser\n",
    "import datetime\n",
    "import dataframe_image as dfi\n",
    "\n",
    "os.chdir('../best_deck_yesterday')\n",
    "%load_ext autotime"
   ]
  },
  {
   "cell_type": "code",
   "execution_count": 2,
   "id": "b11a0d56-c8ad-4236-9c14-6f30ec320dfa",
   "metadata": {},
   "outputs": [
    {
     "name": "stdout",
     "output_type": "stream",
     "text": [
      "time: 1min 8s (started: 2022-08-05 10:47:23 -04:00)\n"
     ]
    }
   ],
   "source": [
    "names = []\n",
    "csvs = glob.glob('../data/derived/previous-patches/*.csv')\n",
    "\n",
    "#make a long df\n",
    "for proj in csvs:\n",
    "    frame = pd.read_csv(proj, usecols=['deck_code', 'game_outcome', 'archetype']).dropna()\n",
    "    names.append(frame)\n",
    "    james = pd.concat(names)"
   ]
  },
  {
   "cell_type": "code",
   "execution_count": 3,
   "id": "0a9b178b-1792-4f71-ac79-7c7b56cdb64f",
   "metadata": {},
   "outputs": [
    {
     "name": "stdout",
     "output_type": "stream",
     "text": [
      "time: 20.4 s (started: 2022-08-05 10:48:32 -04:00)\n"
     ]
    }
   ],
   "source": [
    "one_more = pd.read_csv('../data/raw/lor_ranked_data_all.csv', usecols=['deck_code', 'game_outcome', 'archetype']).dropna()"
   ]
  },
  {
   "cell_type": "code",
   "execution_count": 4,
   "id": "9bed30fb-79fc-4dab-ab02-f8f437dfd59f",
   "metadata": {},
   "outputs": [
    {
     "name": "stdout",
     "output_type": "stream",
     "text": [
      "time: 578 ms (started: 2022-08-05 10:48:52 -04:00)\n"
     ]
    }
   ],
   "source": [
    "df_full = pd.concat([james, one_more])"
   ]
  },
  {
   "cell_type": "code",
   "execution_count": 5,
   "id": "84e88337-24d7-437a-add7-24f7f7a3989c",
   "metadata": {},
   "outputs": [
    {
     "name": "stdout",
     "output_type": "stream",
     "text": [
      "time: 0 ns (started: 2022-08-05 10:48:53 -04:00)\n"
     ]
    }
   ],
   "source": [
    "df_date = df_full\n",
    "df = df_full"
   ]
  },
  {
   "cell_type": "code",
   "execution_count": 6,
   "id": "a30dc8dc-b6ce-4cd0-ab59-fbf8c59f2f03",
   "metadata": {},
   "outputs": [
    {
     "name": "stdout",
     "output_type": "stream",
     "text": [
      "time: 0 ns (started: 2022-08-05 10:48:53 -04:00)\n"
     ]
    }
   ],
   "source": [
    "n = 3"
   ]
  },
  {
   "cell_type": "code",
   "execution_count": 7,
   "id": "1d0496f0-4ba6-43ae-90b3-cfa53ca181d0",
   "metadata": {},
   "outputs": [
    {
     "name": "stdout",
     "output_type": "stream",
     "text": [
      "time: 14 s (started: 2022-08-05 10:48:53 -04:00)\n"
     ]
    }
   ],
   "source": [
    "archetypes = df_date['deck_code'].value_counts()\n",
    "archetypes = archetypes[archetypes > n]\n",
    "popular_list = list(archetypes.index)\n",
    "x = df.loc[df['deck_code'].isin(popular_list)]"
   ]
  },
  {
   "cell_type": "code",
   "execution_count": 8,
   "id": "dacbd83f-b341-459d-a9ba-84e7a12ea166",
   "metadata": {},
   "outputs": [
    {
     "name": "stdout",
     "output_type": "stream",
     "text": [
      "time: 6min 33s (started: 2022-08-05 10:49:07 -04:00)\n"
     ]
    }
   ],
   "source": [
    "df_champ = x[x['game_outcome'] != \"tie\"] # get rid of ties\n",
    "df_champ = df_champ.groupby(['deck_code', 'game_outcome']).size() # group deck codes by outcome\n",
    "df_champ = df_champ.groupby(level=0).transform(lambda x: (x / x.sum()).round(3)*100) # get winrate\n",
    "df_champ.drop('loss', level=1, axis=0, inplace=True) # drop losses\n",
    "df_champ = df_champ.droplevel(level=1) # not sure\n",
    "df_champ = df_champ.sort_values(ascending=False) # sort so good stuff at top\n",
    "df_champ = pd.DataFrame({'deck_code':df_champ.index, 'winrate':df_champ.values}) #dataframe w/ column titles"
   ]
  },
  {
   "cell_type": "code",
   "execution_count": 9,
   "id": "8807ceda-05ec-4d18-bcb9-3bbcdd3ec4b4",
   "metadata": {},
   "outputs": [
    {
     "name": "stdout",
     "output_type": "stream",
     "text": [
      "time: 10.6 s (started: 2022-08-05 10:55:40 -04:00)\n"
     ]
    }
   ],
   "source": [
    "df_ = df_date[['deck_code', 'archetype']].copy() # make a dataframe with just the stuff you need\n",
    "_ = pd.merge(df_champ, df_, on=['deck_code'], copy=False).drop_duplicates().reset_index(drop=True)#[:20] # get the archetypes for top decks, drop dupes, reset index, keep top 10"
   ]
  },
  {
   "cell_type": "code",
   "execution_count": 10,
   "id": "9b515470-0351-465c-a009-72ebf1145f93",
   "metadata": {},
   "outputs": [
    {
     "name": "stdout",
     "output_type": "stream",
     "text": [
      "time: 8.75 s (started: 2022-08-05 10:55:51 -04:00)\n"
     ]
    }
   ],
   "source": [
    "z = df_date.value_counts('deck_code')\n",
    "z = pd.DataFrame(z, columns = ['n_games'])\n",
    "_ = _.merge(z, how='inner', on= 'deck_code')"
   ]
  },
  {
   "cell_type": "code",
   "execution_count": 11,
   "id": "c92df641-1c43-4d2d-9f63-38dc11f7a81e",
   "metadata": {},
   "outputs": [
    {
     "name": "stdout",
     "output_type": "stream",
     "text": [
      "time: 125 ms (started: 2022-08-05 10:56:00 -04:00)\n"
     ]
    }
   ],
   "source": [
    "r = _\n",
    "r_small = r[['winrate', 'n_games']]\n",
    "r_small = r_small[r_small['n_games'] < 1000]"
   ]
  },
  {
   "cell_type": "code",
   "execution_count": 12,
   "id": "f3ad775f-6cc1-4ff1-bbc2-8e8eed8c190d",
   "metadata": {},
   "outputs": [
    {
     "data": {
      "text/plain": [
       "998"
      ]
     },
     "execution_count": 12,
     "metadata": {},
     "output_type": "execute_result"
    },
    {
     "name": "stdout",
     "output_type": "stream",
     "text": [
      "time: 16 ms (started: 2022-08-05 10:56:00 -04:00)\n"
     ]
    }
   ],
   "source": [
    "r_small['n_games'].max()"
   ]
  },
  {
   "cell_type": "code",
   "execution_count": 13,
   "id": "ee9e3163-a02e-4298-b473-dc3e7e615256",
   "metadata": {},
   "outputs": [
    {
     "data": {
      "text/plain": [
       "998"
      ]
     },
     "execution_count": 13,
     "metadata": {},
     "output_type": "execute_result"
    },
    {
     "name": "stdout",
     "output_type": "stream",
     "text": [
      "time: 16 ms (started: 2022-08-05 10:56:00 -04:00)\n"
     ]
    }
   ],
   "source": [
    "poop = r_small\n",
    "poop['n_games'].max()"
   ]
  },
  {
   "cell_type": "code",
   "execution_count": 14,
   "id": "ceb97b95-8d0f-4ec5-b35e-640ae498ca75",
   "metadata": {},
   "outputs": [
    {
     "name": "stdout",
     "output_type": "stream",
     "text": [
      "time: 125 ms (started: 2022-08-05 10:56:00 -04:00)\n"
     ]
    }
   ],
   "source": [
    "s_max = r_small.groupby(['n_games']).max()\n",
    "s_mean = r_small.groupby(['n_games']).mean()\n",
    "s_min = r_small.groupby(['n_games']).min()"
   ]
  },
  {
   "cell_type": "code",
   "execution_count": 15,
   "id": "c8cd52d4-0cb5-4848-ba6c-53b6397d04e2",
   "metadata": {},
   "outputs": [
    {
     "data": {
      "image/png": "[encoded data removed]",
      "text/plain": [
       "<Figure size 432x288 with 1 Axes>"
      ]
     },
     "metadata": {
      "needs_background": "light"
     },
     "output_type": "display_data"
    },
    {
     "name": "stdout",
     "output_type": "stream",
     "text": [
      "time: 844 ms (started: 2022-08-05 10:56:00 -04:00)\n"
     ]
    }
   ],
   "source": [
    "window_len = 75\n",
    "poly_order = 1\n",
    "\n",
    "x = s_max.index\n",
    "yhat = savgol_filter(s_max['winrate'], window_len, poly_order, mode='nearest')\n",
    "\n",
    "x_mean = s_mean.index\n",
    "yhat_mean = savgol_filter(s_mean['winrate'], window_len, poly_order, mode='nearest')\n",
    "\n",
    "x_min = s_min.index\n",
    "yhat_min = savgol_filter(s_min['winrate'], window_len, poly_order, mode='nearest')\n",
    "\n",
    "# plt.plot(x, y)\n",
    "plt.plot(x,yhat, color='red', label=\"maximum win%\")\n",
    "plt.plot(x_mean, yhat_mean, color='blue', label=\"mean win%\")\n",
    "plt.plot(x_min, yhat_min, color='green', label=\"min win%\")\n",
    "plt.title('What is the expected win% for a deck based on sample size?')\n",
    "plt.xlabel('Number of games the deck has played')\n",
    "plt.ylabel('win%')\n",
    "plt.axhline(y=50, color='y', linestyle='--')\n",
    "plt.legend()\n",
    "plt.show()\n",
    "# plt.savefig('../game_length/winrateByLengthMultiplePatches.png', dpi=600)"
   ]
  },
  {
   "cell_type": "code",
   "execution_count": 16,
   "id": "4eba532c-c3aa-4ad4-81e3-b6e7df180cb3",
   "metadata": {},
   "outputs": [
    {
     "data": {
      "image/png": "[encoded data removed]",
      "text/plain": [
       "<Figure size 432x288 with 1 Axes>"
      ]
     },
     "metadata": {
      "needs_background": "light"
     },
     "output_type": "display_data"
    },
    {
     "name": "stdout",
     "output_type": "stream",
     "text": [
      "time: 453 ms (started: 2022-08-05 10:56:01 -04:00)\n"
     ]
    }
   ],
   "source": [
    "window_len = 75\n",
    "poly_order = 1\n",
    "\n",
    "x = s_max.index\n",
    "# yhat = savgol_filter(s_max['winrate'], window_len, poly_order, mode='nearest')\n",
    "yhat = s_max['winrate']\n",
    "\n",
    "x_mean = s_mean.index\n",
    "# yhat_mean = savgol_filter(s_mean['winrate'], window_len, poly_order, mode='nearest')\n",
    "yhat_mean = s_mean['winrate']\n",
    "\n",
    "x_min = s_min.index\n",
    "# yhat_min = savgol_filter(s_min['winrate'], window_len, poly_order, mode='nearest')\n",
    "yhat_min = s_min['winrate']\n",
    "\n",
    "# plt.plot(x, y)\n",
    "plt.plot(x,yhat, color='red', label=\"maximum win%\")\n",
    "plt.plot(x_mean, yhat_mean, color='blue', label=\"mean win%\")\n",
    "plt.plot(x_min, yhat_min, color='green', label=\"min win%\")\n",
    "plt.title('What is the expected win% for a deck based on sample size?')\n",
    "plt.xlabel('Number of games the deck has played')\n",
    "plt.ylabel('win%')\n",
    "plt.axhline(y=50, color='y', linestyle='--')\n",
    "plt.legend()\n",
    "plt.show()\n",
    "# plt.savefig('../game_length/winrateByLengthFullPatchUnsmooth.png', dpi=600)"
   ]
  },
  {
   "cell_type": "code",
   "execution_count": 17,
   "id": "7b966d20-8fa7-4d5d-9593-156a702f0e82",
   "metadata": {},
   "outputs": [
    {
     "name": "stdout",
     "output_type": "stream",
     "text": [
      "time: 78 ms (started: 2022-08-05 10:56:01 -04:00)\n"
     ]
    }
   ],
   "source": [
    "lmao = _.sort_values(by='n_games', ascending=False)"
   ]
  },
  {
   "cell_type": "code",
   "execution_count": 18,
   "id": "1cc1693b-c2a8-4eb0-9b8f-972dcfb8dc4c",
   "metadata": {},
   "outputs": [
    {
     "name": "stdout",
     "output_type": "stream",
     "text": [
      "time: 2.59 s (started: 2022-08-05 10:56:02 -04:00)\n"
     ]
    }
   ],
   "source": [
    "lmao.to_csv('20220730-lmao.csv')"
   ]
  },
  {
   "cell_type": "code",
   "execution_count": 19,
   "id": "3fa0cf3b-75a1-40ba-88d0-8731d6552a20",
   "metadata": {},
   "outputs": [
    {
     "data": {
      "text/plain": [
       "308010"
      ]
     },
     "execution_count": 19,
     "metadata": {},
     "output_type": "execute_result"
    },
    {
     "name": "stdout",
     "output_type": "stream",
     "text": [
      "time: 0 ns (started: 2022-08-05 10:56:04 -04:00)\n"
     ]
    }
   ],
   "source": [
    "len(lmao)"
   ]
  },
  {
   "cell_type": "code",
   "execution_count": 20,
   "id": "43e16ff4-5e5e-4dc9-86df-80a847ffee97",
   "metadata": {},
   "outputs": [
    {
     "data": {
      "image/png": "[encoded data removed]",
      "text/plain": [
       "<Figure size 432x288 with 1 Axes>"
      ]
     },
     "metadata": {
      "needs_background": "light"
     },
     "output_type": "display_data"
    },
    {
     "name": "stdout",
     "output_type": "stream",
     "text": [
      "time: 33 s (started: 2022-08-05 10:56:04 -04:00)\n"
     ]
    }
   ],
   "source": [
    "plt.plot(lmao['deck_code'][:10000],lmao['n_games'][:10000])\n",
    "plt.xlabel('decks 1-10000 sorted by playrate')\n",
    "plt.ylabel('# of games')\n",
    "plt.tick_params(axis='x', bottom=False, labelbottom=False)\n",
    "plt.savefig('longtail.png', dpi=300, facecolor='w')"
   ]
  },
  {
   "cell_type": "code",
   "execution_count": 21,
   "id": "435c2ee2-5b04-463e-9bc0-367049a7325f",
   "metadata": {},
   "outputs": [
    {
     "data": {
      "text/plain": [
       "'C:\\\\Users\\\\jagod\\\\github\\\\LoR-muTable\\\\python\\\\best_deck_yesterday'"
      ]
     },
     "execution_count": 21,
     "metadata": {},
     "output_type": "execute_result"
    },
    {
     "name": "stdout",
     "output_type": "stream",
     "text": [
      "time: 0 ns (started: 2022-08-05 10:56:37 -04:00)\n"
     ]
    }
   ],
   "source": [
    "os.getcwd()"
   ]
  },
  {
   "cell_type": "code",
   "execution_count": null,
   "id": "402cd186-185c-48f1-a285-87645a23f8cc",
   "metadata": {},
   "outputs": [],
   "source": []
  }
 ],
 "metadata": {
  "kernelspec": {
   "display_name": "Python 3",
   "language": "python",
   "name": "python3"
  },
  "language_info": {
   "codemirror_mode": {
    "name": "ipython",
    "version": 3
   },
   "file_extension": ".py",
   "mimetype": "text/x-python",
   "name": "python",
   "nbconvert_exporter": "python",
   "pygments_lexer": "ipython3",
   "version": "3.8.8"
  }
 },
 "nbformat": 4,
 "nbformat_minor": 5
}
