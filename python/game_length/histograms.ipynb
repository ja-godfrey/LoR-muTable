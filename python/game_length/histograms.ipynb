{
 "cells": [
  {
   "cell_type": "markdown",
   "id": "030c5fb7-e921-4217-b288-23dc124ac427",
   "metadata": {},
   "source": [
    "## When do archetypes win?"
   ]
  },
  {
   "cell_type": "code",
   "execution_count": 1,
   "id": "82a2fc0c-b06d-46ca-82c0-4d788050dd93",
   "metadata": {},
   "outputs": [],
   "source": [
    "import pandas as pd\n",
    "import seaborn as sns\n",
    "import matplotlib.pyplot as plt"
   ]
  },
  {
   "cell_type": "code",
   "execution_count": 16,
   "id": "05d7612e-41e0-4e02-8058-cd5b38fea25a",
   "metadata": {},
   "outputs": [],
   "source": [
    "df = pd.read_csv(r'./../data/raw/lor_ranked_data_all.csv') # read in the data"
   ]
  },
  {
   "cell_type": "code",
   "execution_count": 17,
   "id": "ecde420a-6f62-4b4c-b3cd-ecda163c4f24",
   "metadata": {},
   "outputs": [],
   "source": [
    "#clean data\n",
    "df_small = df[['game_outcome', 'total_turn_count', 'archetype']] # only keep what you need\n",
    "archetypes = df['archetype'].value_counts() # find the unique archetypes being played\n",
    "archetypes = archetypes[archetypes > 10000] #only keep popular archetypes ##################################################################################\n",
    "popular_list = list(archetypes.index) # make a list of popular archetypes\n",
    "df_small = df_small.loc[df['archetype'].isin(popular_list)] # filter df to only keep popular archetypes\n",
    "df_small = df_small[df_small['game_outcome'] != \"tie\"] # drop ties"
   ]
  },
  {
   "cell_type": "code",
   "execution_count": 18,
   "id": "894bf709-e5db-4b5b-85e9-c79c8a8ef6b1",
   "metadata": {},
   "outputs": [],
   "source": [
    "#calculate winrate by archetype\n",
    "df2 = df_small.groupby(['archetype', 'game_outcome']).size() #get win/loss for major archetypes\n",
    "df2 = df2.groupby(level=0).transform(lambda x: (x / x.sum()).round(2)*100) #get win/loss % for major archetypes\n",
    "df2.drop('loss', level=1, axis=0, inplace=True) #drop loss %\n",
    "df2 = df2.droplevel(level=1) #drop win/loss"
   ]
  },
  {
   "cell_type": "code",
   "execution_count": 20,
   "id": "2cfd5e35-a862-4e7b-801b-467f02ea633c",
   "metadata": {
    "tags": []
   },
   "outputs": [
    {
     "name": "stderr",
     "output_type": "stream",
     "text": [
      "<ipython-input-20-4acbe414b0ff>:6: RuntimeWarning: More than 20 figures have been opened. Figures created through the pyplot interface (`matplotlib.pyplot.figure`) are retained until explicitly closed and may consume too much memory. (To control this warning, see the rcParam `figure.max_open_warning`).\n",
      "  plt.figure()\n"
     ]
    },
    {
     "data": {
      "text/plain": [
       "<Figure size 432x288 with 0 Axes>"
      ]
     },
     "metadata": {},
     "output_type": "display_data"
    },
    {
     "data": {
      "text/plain": [
       "<Figure size 432x288 with 0 Axes>"
      ]
     },
     "metadata": {},
     "output_type": "display_data"
    },
    {
     "data": {
      "text/plain": [
       "<Figure size 432x288 with 0 Axes>"
      ]
     },
     "metadata": {},
     "output_type": "display_data"
    },
    {
     "data": {
      "text/plain": [
       "<Figure size 432x288 with 0 Axes>"
      ]
     },
     "metadata": {},
     "output_type": "display_data"
    },
    {
     "data": {
      "text/plain": [
       "<Figure size 432x288 with 0 Axes>"
      ]
     },
     "metadata": {},
     "output_type": "display_data"
    },
    {
     "data": {
      "text/plain": [
       "<Figure size 432x288 with 0 Axes>"
      ]
     },
     "metadata": {},
     "output_type": "display_data"
    },
    {
     "data": {
      "text/plain": [
       "<Figure size 432x288 with 0 Axes>"
      ]
     },
     "metadata": {},
     "output_type": "display_data"
    },
    {
     "data": {
      "text/plain": [
       "<Figure size 432x288 with 0 Axes>"
      ]
     },
     "metadata": {},
     "output_type": "display_data"
    },
    {
     "data": {
      "text/plain": [
       "<Figure size 432x288 with 0 Axes>"
      ]
     },
     "metadata": {},
     "output_type": "display_data"
    },
    {
     "data": {
      "text/plain": [
       "<Figure size 432x288 with 0 Axes>"
      ]
     },
     "metadata": {},
     "output_type": "display_data"
    },
    {
     "data": {
      "text/plain": [
       "<Figure size 432x288 with 0 Axes>"
      ]
     },
     "metadata": {},
     "output_type": "display_data"
    },
    {
     "data": {
      "text/plain": [
       "<Figure size 432x288 with 0 Axes>"
      ]
     },
     "metadata": {},
     "output_type": "display_data"
    },
    {
     "data": {
      "text/plain": [
       "<Figure size 432x288 with 0 Axes>"
      ]
     },
     "metadata": {},
     "output_type": "display_data"
    },
    {
     "data": {
      "text/plain": [
       "<Figure size 432x288 with 0 Axes>"
      ]
     },
     "metadata": {},
     "output_type": "display_data"
    },
    {
     "data": {
      "text/plain": [
       "<Figure size 432x288 with 0 Axes>"
      ]
     },
     "metadata": {},
     "output_type": "display_data"
    },
    {
     "data": {
      "text/plain": [
       "<Figure size 432x288 with 0 Axes>"
      ]
     },
     "metadata": {},
     "output_type": "display_data"
    },
    {
     "data": {
      "text/plain": [
       "<Figure size 432x288 with 0 Axes>"
      ]
     },
     "metadata": {},
     "output_type": "display_data"
    },
    {
     "data": {
      "text/plain": [
       "<Figure size 432x288 with 0 Axes>"
      ]
     },
     "metadata": {},
     "output_type": "display_data"
    },
    {
     "data": {
      "text/plain": [
       "<Figure size 432x288 with 0 Axes>"
      ]
     },
     "metadata": {},
     "output_type": "display_data"
    },
    {
     "data": {
      "text/plain": [
       "<Figure size 432x288 with 0 Axes>"
      ]
     },
     "metadata": {},
     "output_type": "display_data"
    },
    {
     "data": {
      "text/plain": [
       "<Figure size 432x288 with 0 Axes>"
      ]
     },
     "metadata": {},
     "output_type": "display_data"
    },
    {
     "data": {
      "text/plain": [
       "<Figure size 432x288 with 0 Axes>"
      ]
     },
     "metadata": {},
     "output_type": "display_data"
    },
    {
     "data": {
      "text/plain": [
       "<Figure size 432x288 with 0 Axes>"
      ]
     },
     "metadata": {},
     "output_type": "display_data"
    },
    {
     "data": {
      "text/plain": [
       "<Figure size 432x288 with 0 Axes>"
      ]
     },
     "metadata": {},
     "output_type": "display_data"
    }
   ],
   "source": [
    "#build graphs\n",
    "for i in popular_list:\n",
    "    thing = [i]\n",
    "    df_x = df_small.loc[(df_small['archetype'].isin(thing))]\n",
    "    winrate = int(df2.at[i])\n",
    "    plt.figure()\n",
    "    sns.histplot(x=df_x['total_turn_count'], hue=df_small['game_outcome'], bins=30, binwidth=3)\n",
    "    plt.title(f'Optimal game length for {i}. \\n{winrate}% Winrate')\n",
    "    plt.xlabel('Total Turns')\n",
    "    plt.ylabel('Number of Games Analyzed')\n",
    "    plt.legend(title=\"Outcome\", labels=['win', 'loss'], frameon=False)\n",
    "    plt.savefig(f'./wk03/0-{winrate}-{i}.png', bbox_inches=\"tight\", dpi=600, transparent=True)\n",
    "    plt.clf() # uncomment this to display figures in notebook"
   ]
  },
  {
   "cell_type": "code",
   "execution_count": 5,
   "id": "3bc86713-fac9-44ba-adf7-ab7b7c7bb036",
   "metadata": {},
   "outputs": [
    {
     "data": {
      "text/plain": [
       "archetype\n",
       "Yuumi Pantheon (DE)         55\n",
       "Fizz Lulu (BC PZ)           55\n",
       "Teemo Tristana Gnar (DE)    55\n",
       "Sivir Akshan (DE)           54\n",
       "Miss Fortune Quinn          54\n",
       "Gnar Ziggs (BC NX)          54\n",
       "Trundle Gnar (PZ)           53\n",
       "Akshan Gnar (BC)            53\n",
       "Fizz Gnar (BC PZ)           53\n",
       "dtype: int64"
      ]
     },
     "execution_count": 5,
     "metadata": {},
     "output_type": "execute_result"
    }
   ],
   "source": [
    "#top 10 archetypes\n",
    "df2.sort_values(ascending=False, inplace=True)\n",
    "df2[:9]"
   ]
  },
  {
   "cell_type": "markdown",
   "id": "d8d6e3a2-8056-4103-89fb-6eb9971ba1d4",
   "metadata": {},
   "source": [
    "# Spicy decks from date X"
   ]
  },
  {
   "cell_type": "code",
   "execution_count": 6,
   "id": "d1c58408-8504-4ee8-abe4-e73be59acb12",
   "metadata": {},
   "outputs": [],
   "source": [
    "date = '2022-03-06'\n",
    "n = 200\n",
    "df_date = df[df['game_start_time_utc'] > date] # insert date X"
   ]
  },
  {
   "cell_type": "code",
   "execution_count": 7,
   "id": "5c08085e-fa84-47e7-b583-93aee5d058cf",
   "metadata": {},
   "outputs": [],
   "source": [
    "#clean data\n",
    "df_small = df_date[['game_outcome', 'total_turn_count', 'deck_code']] # only keep what you need\n",
    "archetypes = df_date['deck_code'].value_counts() # find the unique archetypes being played\n",
    "archetypes = archetypes[archetypes > n] #only keep popular archetypes\n",
    "popular_list = list(archetypes.index) # make a list of popular archetypes\n",
    "df_small = df_small.loc[df['deck_code'].isin(popular_list)] # filter df to only keep popular archetypes\n",
    "df_small = df_small[df_small['game_outcome'] != \"tie\"] # drop ties"
   ]
  },
  {
   "cell_type": "code",
   "execution_count": 8,
   "id": "702acc4b-d1fd-4088-af9b-cf9e32de339f",
   "metadata": {},
   "outputs": [],
   "source": [
    "#calculate winrate by archetype\n",
    "df2 = df_small.groupby(['deck_code', 'game_outcome']).size() #get win/loss for major archetypes\n",
    "df2 = df2.groupby(level=0).transform(lambda x: (x / x.sum()).round(2)*100) #get win/loss % for major archetypes\n",
    "df2.drop('loss', level=1, axis=0, inplace=True) #drop loss %\n",
    "df2 = df2.droplevel(level=1) #drop win/loss"
   ]
  },
  {
   "cell_type": "code",
   "execution_count": 9,
   "id": "8ea09052-0d50-43a3-85c5-13e77e35b710",
   "metadata": {},
   "outputs": [
    {
     "data": {
      "text/plain": [
       "deck_code\n",
       "CQDACAIABEAQGAAOAECAAAYBAUFB2AYDBENTGXADAUEQGBIGAMAQCAA2AEBAAAIBAMESGAYBAEAA2AIFBEFAEAYJCNKQ                  60.0\n",
       "CQCQCAIADIAQGAAOAECQUHIDAMERWI24AMCQSAYFAYCACAIABEAQEAABAEBQSMYBAQAAEBABAEAA2AIEAABQCBIJBIBAGCITKU            59.0\n",
       "CIDACAQAAYAQGAAOAIBAMFR6AICAAAQHAICQACQMAQAQABQJDUZQCAIFAYAQCAQCAADQU                                         58.0\n",
       "CQCQCAYABYAQKCQ5AIAQACI2AMBQSGZDGMBQKCIDAUDAGAICAAAQCAYJLQAQIAACAMAQIAADAECQSCQCAMERGVI                       56.0\n",
       "CMBAIBAGAEBQKDYHAQDQCEYWIFCEUUABAICAONSFAIAQIBZ3AICAMAQH                                                      55.0\n",
       "CQBQCAYABYAQIAACBECQUIDPOB2IKANGAGXQDNYB3EAQEAICAADQEBIKQQA2CAIBAEAQICA                                       55.0\n",
       "CIDACAYABYAQIAACAIBAMFR6AIBAAAQGAICQACQMAQAQABQJDUZQEAICAADQCBAAA4AA                                          55.0\n",
       "CQBQEAIFAEUAEBIFBAEQOBIKGE4V2XTCUYA5KAIBAECQKAYCAIAQKDYUAMCQUBGGAHQAC                                         54.0\n",
       "CQCQCAYBAYAQKBAYAIAQIGZNAICAICQQAICQVGABUEAQIAIBAQ2AEAIBAMFQEAYBAIBQEBABBIGAEAIBAQTQCAYEBM                    54.0\n",
       "CEDACBAABAAQKAAMAECQEBYCAEAASGQCAEBAYIACAMAAMDQEAEBAAAIBAQAAEAQBAAFR2AQBAISSWAIBAEBDC                         54.0\n",
       "CIDACAYABYAQIAACAIBAMFR6AIBAABQHAICQACQMAQAQABQJDUZQEAIBAABQCAQAAIAA                                          53.0\n",
       "CQBQCAIDFYBQEAYHBAEQMBIKGFEXJIIBUYA26AIDAEBAGAIBAMBQ2AQFBIA2IAIBAIAQGBBT                                      53.0\n",
       "CQCQCAIABEAQGAAOAECQUHIDAMERWIZTAMCQSAYFAYCACAIADIAQEAABAEBQSXACAQAAEAYCAECQSCQCAMERGVI                       53.0\n",
       "CQBQCAQDAMCACAYCBQHSQBYFBIDQ4MKJUEA2GANGAEAQCAQDAQBACAIDG4AQKCVEAE                                            53.0\n",
       "CIDACAQAAYAQGAAOAIBAMFR6AICAAAQHAICQACQMAQAQABQJDUZQCAICAADQEAICAAFACBIGAE                                    52.0\n",
       "CQCQCBAFAUAQKBAYAIAQIGZUAICQKCYPAMAQKAJIGEBQCAIFEEAQEBAIAECQVGABAIBAIBIDCACQCBIPCMMR2NI                       51.0\n",
       "CQDACAIBAMAQCBBNAEBQCBQBAUCBQAQEAQFBAAQFBKMADIIBAQAQCAILAIAQIGZUAIBQCAQDAICACCQMAIAQCBBHAEBQICY               51.0\n",
       "CECQCAQDBEAQGBARAIAQGLRXAMAQIHZEGQBQKBAGBQGQIAIBAMZQCAIEDMAQGAYNAECAGAQCAEAQGFQBAQBQU                         51.0\n",
       "CMCQCAIABEAQGAAOAECAAAQBAUAAYAYEA4KDNAQBAMAQEAABAIAQABRTAUCAOXLHQAAYCAMKAEBQCAIADIAQIAADAECAODI               51.0\n",
       "CMCACAIABEAQGAAOAECQADAFAQDRINTHQEAYEAIEAEBAAAIBAQAAEAIFAAKAGBAHLWAADCQBAQAQCAA5AECAAAYBAQDTWAIFAAHA          51.0\n",
       "CQCQCAYABYAQIAACAECQUHIDAUEQGBIGAQBQSGZDGNOAGAICAAAQCBIJBIBACAAJDIBACAIABUAQGCOXAE                            50.0\n",
       "CMBAKBAGAEBQKBYPBACAOAITCY3ECRCKKAAACAIEAYCA                                                                  50.0\n",
       "CQCQCAQEBEAQGBANAECAIBYEAECAMHBQGQCQKCRIUYA5KAOZAHQACAIBAECACAQBAECDCAIFAQGA                                  49.0\n",
       "CQDACBAECAAQKCSYAECQGDICAMCAKEQDAECCOLJUAQAQGAQLCMKACAIFAMDAEAIDAMHQCBIDBE                                    49.0\n",
       "CQDACAIBAMAQCBBNAEBQCBQBAQCAUAIFAQMAEBIKTAA2CAIFAECACDABAQCBAAQBAEFTEAQBAQNTIAQDAEBAGAYBAECCOAIDAQFQCBABBI    48.0\n",
       "CQBQCAIDFYCAEAYBA4EASBQFBIYUS5FBAGTADLYBAIAQGAYNAICQUANEAEAQCAIDAQ                                            47.0\n",
       "CQCQCAYABYAQIAACAIAQACI2AIBQSGZDAMCQSAYFAYCACAQAAEAQIAADAECQUHICAMETGXABAMBQSEZ2KU                            47.0\n",
       "CMBAKBAGAEBQKBYPA4CAOAITCZAUISSQAEAQIBZWAEBAIBZ3IU                                                            46.0\n",
       "CMBAIBAGAEBQKDYHAQDQCEYWIFCEUUACAECAMAQBAQDUKAQBAQDTMAQEAYCAO                                                 46.0\n",
       "CICQCAYGCEAQKBQFAIBAMGRLAMAQIAIQGQCAGBAFBUJBSAQBAECCOAIEAQDQGAIBAQWQCBIGBMAQKBAM                              43.0\n",
       "CQDACAIBGIAQEAABAEBQCAQBAUFKCAIBAUAQIBIFAAEQYDQSCQBQCAYABYAQKAARAICQCAICAIAQCAA2AEAQCBA                       43.0\n",
       "dtype: float64"
      ]
     },
     "execution_count": 9,
     "metadata": {},
     "output_type": "execute_result"
    }
   ],
   "source": [
    "df2.sort_values(ascending=False)\n",
    "# archetypes # if you want to see n"
   ]
  },
  {
   "cell_type": "code",
   "execution_count": 75,
   "id": "3edbe1c3-4000-4db1-bdb4-50c0a2c4da85",
   "metadata": {},
   "outputs": [],
   "source": [
    "df2.to_csv(f'deck_codes-{date}-{n}.csv')"
   ]
  },
  {
   "cell_type": "markdown",
   "id": "90d1adfd-81df-48ff-ae61-3b97390e1dd3",
   "metadata": {},
   "source": [
    "## Give me best deck with Champion X"
   ]
  },
  {
   "cell_type": "code",
   "execution_count": 29,
   "id": "53ae36f7-a71c-4faf-adc9-d58671a2faa7",
   "metadata": {},
   "outputs": [],
   "source": [
    "champion = 'Tristana'\n",
    "n = 1000"
   ]
  },
  {
   "cell_type": "code",
   "execution_count": 30,
   "id": "3faf4dca-6f5d-4e15-8130-aadaf3fb5fd9",
   "metadata": {},
   "outputs": [],
   "source": [
    "# x = df_date[df_date['archetype'].str.contains(champion)]\n",
    "x = df[df['archetype'].str.contains(champion)]\n",
    "archetypes = x['deck_code'].value_counts() # find the unique archetypes being played\n",
    "archetypes = archetypes[archetypes > n] #only keep popular archetypes\n",
    "popular_list = list(archetypes.index) # make a list of popular archetypes\n",
    "x = x.loc[df['deck_code'].isin(popular_list)] # filter df to only keep popular archetypes"
   ]
  },
  {
   "cell_type": "code",
   "execution_count": 31,
   "id": "2f947bea-2578-4bb3-9a38-35caa57c9418",
   "metadata": {},
   "outputs": [],
   "source": [
    "df_champ = x.groupby(['deck_code', 'game_outcome']).size() #get win/loss for major archetypes\n",
    "df_champ = df_champ.groupby(level=0).transform(lambda x: (x / x.sum()).round(2)*100) #get win/loss % for major archetypes\n",
    "df_champ.drop('loss', level=1, axis=0, inplace=True) #drop loss %\n",
    "df_champ = df_champ.droplevel(level=1) #drop win/loss"
   ]
  },
  {
   "cell_type": "code",
   "execution_count": 32,
   "id": "48dcd891-b2c8-4265-971a-812020ccb9f9",
   "metadata": {},
   "outputs": [
    {
     "data": {
      "text/plain": [
       "deck_code\n",
       "CQBQCAYABYAQIAACBECQUIDPOB2IKANGAGXQDNYB3EAQEAICAADQEBIKQQA2CAIBAEAQICA                       55\n",
       "CQBQCAYABYAQIAACBECQUIDPOSCADBIBUYA26ANXAHMQCAICAUFKCANHAEBQCAIEBAAQEAAHAECQVIAB              54\n",
       "CQBQCAYABYAQIAACBECQUIDPOB2IIAMFAGTADLYBW4AQEAICAADQEBIKDXMQCAIBAECAQ                         50\n",
       "CQBQCAIADUAQGAAOAUCQU5EFAGTQDLYBW4AQKAIBAAEQCAQGFYAQEAAHAECAAAQFAUFG7BABUYA4AAOZAEAQCAIEBA    49\n",
       "CQBACAYECYFQKCRAE5QG64EFAGTADJYBV4A3OAOZAEAQCBIKDUBACAIEBAAQKCVAAE                            48\n",
       "CQBQCAYABYAQIAACBECQUIDPOB2IKANGAGXQDNYB3EAQEAICAADQEBIKQQA2CAIBAEAQICA                        0\n",
       "dtype: int64"
      ]
     },
     "execution_count": 32,
     "metadata": {},
     "output_type": "execute_result"
    }
   ],
   "source": [
    "df_champ.sort_values(ascending=False)"
   ]
  },
  {
   "cell_type": "code",
   "execution_count": null,
   "id": "2dc8daa8-e678-46df-873a-06046da734e8",
   "metadata": {},
   "outputs": [],
   "source": []
  }
 ],
 "metadata": {
  "kernelspec": {
   "display_name": "Python 3",
   "language": "python",
   "name": "python3"
  },
  "language_info": {
   "codemirror_mode": {
    "name": "ipython",
    "version": 3
   },
   "file_extension": ".py",
   "mimetype": "text/x-python",
   "name": "python",
   "nbconvert_exporter": "python",
   "pygments_lexer": "ipython3",
   "version": "3.8.8"
  }
 },
 "nbformat": 4,
 "nbformat_minor": 5
}
