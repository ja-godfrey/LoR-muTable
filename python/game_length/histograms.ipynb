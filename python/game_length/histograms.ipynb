{
 "cells": [
  {
   "cell_type": "markdown",
   "id": "030c5fb7-e921-4217-b288-23dc124ac427",
   "metadata": {},
   "source": [
    "## When do archetypes win?"
   ]
  },
  {
   "cell_type": "code",
   "execution_count": 97,
   "id": "82a2fc0c-b06d-46ca-82c0-4d788050dd93",
   "metadata": {},
   "outputs": [],
   "source": [
    "import pandas as pd\n",
    "import seaborn as sns\n",
    "import matplotlib.pyplot as plt"
   ]
  },
  {
   "cell_type": "code",
   "execution_count": 98,
   "id": "05d7612e-41e0-4e02-8058-cd5b38fea25a",
   "metadata": {},
   "outputs": [],
   "source": [
    "df = pd.read_csv(r'./../data/raw/lor_ranked_data_all.csv') # read in the data"
   ]
  },
  {
   "cell_type": "code",
   "execution_count": 26,
   "id": "17fbe058-1730-4e7d-ad6d-836b0f913dc8",
   "metadata": {},
   "outputs": [],
   "source": [
    "date = '2022-06-00'"
   ]
  },
  {
   "cell_type": "code",
   "execution_count": 39,
   "id": "0d3517b2-ec5c-4233-8ba2-63e2235e919f",
   "metadata": {},
   "outputs": [],
   "source": [
    "#clean data\n",
    "df_date = df[df['game_start_time_utc'] > date]\n",
    "df_small = df_date[['game_outcome', 'total_turn_count', 'archetype']]\n",
    "archetypes = df['archetype'].value_counts() # find the unique archetypes being played\n",
    "archetypes = archetypes[archetypes > len(df_small)/10] #only keep popular archetypes ##################################################################################\n",
    "popular_list = list(archetypes.index) # make a list of popular archetypes\n",
    "df_small = df_small.loc[df['archetype'].isin(popular_list)] # filter df to only keep popular archetypes\n",
    "df_small = df_small[df_small['game_outcome'] != \"tie\"] # drop ties"
   ]
  },
  {
   "cell_type": "code",
   "execution_count": 40,
   "id": "0dcfa87e-799f-49c3-83f0-cdc3e1cf84bd",
   "metadata": {},
   "outputs": [
    {
     "data": {
      "text/plain": [
       "6248.433333333333"
      ]
     },
     "execution_count": 40,
     "metadata": {},
     "output_type": "execute_result"
    }
   ],
   "source": [
    "len(df_small)/30"
   ]
  },
  {
   "cell_type": "code",
   "execution_count": 41,
   "id": "894bf709-e5db-4b5b-85e9-c79c8a8ef6b1",
   "metadata": {},
   "outputs": [],
   "source": [
    "#calculate winrate by archetype\n",
    "df2 = df_small.groupby(['archetype', 'game_outcome']).size() #get win/loss for major archetypes\n",
    "df2 = df2.groupby(level=0).transform(lambda x: (x / x.sum()).round(2)*100) #get win/loss % for major archetypes\n",
    "df2.drop('loss', level=1, axis=0, inplace=True) #drop loss %\n",
    "df2 = df2.droplevel(level=1) #drop win/loss"
   ]
  },
  {
   "cell_type": "code",
   "execution_count": 42,
   "id": "2cfd5e35-a862-4e7b-801b-467f02ea633c",
   "metadata": {
    "tags": []
   },
   "outputs": [
    {
     "name": "stderr",
     "output_type": "stream",
     "text": [
      "<ipython-input-42-f97e92152bfa>:6: RuntimeWarning: More than 20 figures have been opened. Figures created through the pyplot interface (`matplotlib.pyplot.figure`) are retained until explicitly closed and may consume too much memory. (To control this warning, see the rcParam `figure.max_open_warning`).\n",
      "  plt.figure()\n"
     ]
    },
    {
     "data": {
      "text/plain": [
       "<Figure size 432x288 with 0 Axes>"
      ]
     },
     "metadata": {},
     "output_type": "display_data"
    },
    {
     "data": {
      "text/plain": [
       "<Figure size 432x288 with 0 Axes>"
      ]
     },
     "metadata": {},
     "output_type": "display_data"
    },
    {
     "data": {
      "text/plain": [
       "<Figure size 432x288 with 0 Axes>"
      ]
     },
     "metadata": {},
     "output_type": "display_data"
    },
    {
     "data": {
      "text/plain": [
       "<Figure size 432x288 with 0 Axes>"
      ]
     },
     "metadata": {},
     "output_type": "display_data"
    },
    {
     "data": {
      "text/plain": [
       "<Figure size 432x288 with 0 Axes>"
      ]
     },
     "metadata": {},
     "output_type": "display_data"
    },
    {
     "data": {
      "text/plain": [
       "<Figure size 432x288 with 0 Axes>"
      ]
     },
     "metadata": {},
     "output_type": "display_data"
    },
    {
     "data": {
      "text/plain": [
       "<Figure size 432x288 with 0 Axes>"
      ]
     },
     "metadata": {},
     "output_type": "display_data"
    },
    {
     "data": {
      "text/plain": [
       "<Figure size 432x288 with 0 Axes>"
      ]
     },
     "metadata": {},
     "output_type": "display_data"
    },
    {
     "data": {
      "text/plain": [
       "<Figure size 432x288 with 0 Axes>"
      ]
     },
     "metadata": {},
     "output_type": "display_data"
    },
    {
     "data": {
      "text/plain": [
       "<Figure size 432x288 with 0 Axes>"
      ]
     },
     "metadata": {},
     "output_type": "display_data"
    },
    {
     "data": {
      "text/plain": [
       "<Figure size 432x288 with 0 Axes>"
      ]
     },
     "metadata": {},
     "output_type": "display_data"
    },
    {
     "data": {
      "text/plain": [
       "<Figure size 432x288 with 0 Axes>"
      ]
     },
     "metadata": {},
     "output_type": "display_data"
    },
    {
     "data": {
      "text/plain": [
       "<Figure size 432x288 with 0 Axes>"
      ]
     },
     "metadata": {},
     "output_type": "display_data"
    },
    {
     "data": {
      "text/plain": [
       "<Figure size 432x288 with 0 Axes>"
      ]
     },
     "metadata": {},
     "output_type": "display_data"
    },
    {
     "data": {
      "text/plain": [
       "<Figure size 432x288 with 0 Axes>"
      ]
     },
     "metadata": {},
     "output_type": "display_data"
    },
    {
     "data": {
      "text/plain": [
       "<Figure size 432x288 with 0 Axes>"
      ]
     },
     "metadata": {},
     "output_type": "display_data"
    },
    {
     "data": {
      "text/plain": [
       "<Figure size 432x288 with 0 Axes>"
      ]
     },
     "metadata": {},
     "output_type": "display_data"
    },
    {
     "data": {
      "text/plain": [
       "<Figure size 432x288 with 0 Axes>"
      ]
     },
     "metadata": {},
     "output_type": "display_data"
    },
    {
     "data": {
      "text/plain": [
       "<Figure size 432x288 with 0 Axes>"
      ]
     },
     "metadata": {},
     "output_type": "display_data"
    },
    {
     "data": {
      "text/plain": [
       "<Figure size 432x288 with 0 Axes>"
      ]
     },
     "metadata": {},
     "output_type": "display_data"
    },
    {
     "data": {
      "text/plain": [
       "<Figure size 432x288 with 0 Axes>"
      ]
     },
     "metadata": {},
     "output_type": "display_data"
    },
    {
     "data": {
      "text/plain": [
       "<Figure size 432x288 with 0 Axes>"
      ]
     },
     "metadata": {},
     "output_type": "display_data"
    },
    {
     "data": {
      "text/plain": [
       "<Figure size 432x288 with 0 Axes>"
      ]
     },
     "metadata": {},
     "output_type": "display_data"
    },
    {
     "data": {
      "text/plain": [
       "<Figure size 432x288 with 0 Axes>"
      ]
     },
     "metadata": {},
     "output_type": "display_data"
    },
    {
     "data": {
      "text/plain": [
       "<Figure size 432x288 with 0 Axes>"
      ]
     },
     "metadata": {},
     "output_type": "display_data"
    },
    {
     "data": {
      "text/plain": [
       "<Figure size 432x288 with 0 Axes>"
      ]
     },
     "metadata": {},
     "output_type": "display_data"
    }
   ],
   "source": [
    "# #build graphs\n",
    "# for i in popular_list:\n",
    "#     thing = [i]\n",
    "#     df_x = df_small.loc[(df_small['archetype'].isin(thing))]\n",
    "#     winrate = int(df2.at[i])\n",
    "#     plt.figure()\n",
    "#     sns.histplot(x=df_x['total_turn_count'], hue=df_small['game_outcome'], bins=30, binwidth=3)\n",
    "#     plt.title(f'Optimal game length for {i}. \\n{winrate}% Winrate')\n",
    "#     plt.xlabel('Total Turns')\n",
    "#     plt.ylabel('Number of Games Analyzed')\n",
    "#     plt.legend(title=\"Outcome\", labels=['win', 'loss'], frameon=False)\n",
    "#     plt.xlim([0, 75])\n",
    "#     plt.savefig(f'./wk05/{winrate}-{i}.png', bbox_inches=\"tight\", dpi=600, transparent=True)\n",
    "#     plt.clf() # uncomment this to display figures in notebook"
   ]
  },
  {
   "cell_type": "code",
   "execution_count": null,
   "id": "f9068460-9621-4a59-9217-3ea09ba4751b",
   "metadata": {},
   "outputs": [],
   "source": [
    "df_x"
   ]
  },
  {
   "cell_type": "code",
   "execution_count": null,
   "id": "3bc86713-fac9-44ba-adf7-ab7b7c7bb036",
   "metadata": {},
   "outputs": [],
   "source": [
    "#top 10 archetypes\n",
    "df2.sort_values(ascending=False, inplace=True)\n",
    "df2[:9]"
   ]
  },
  {
   "cell_type": "markdown",
   "id": "d8d6e3a2-8056-4103-89fb-6eb9971ba1d4",
   "metadata": {},
   "source": [
    "# Spicy decks from date X"
   ]
  },
  {
   "cell_type": "code",
   "execution_count": null,
   "id": "d1c58408-8504-4ee8-abe4-e73be59acb12",
   "metadata": {},
   "outputs": [],
   "source": [
    "date = '2022-04-07'\n",
    "n = 500\n",
    "df_date = df[df['game_start_time_utc'] > date] # insert date X"
   ]
  },
  {
   "cell_type": "code",
   "execution_count": null,
   "id": "5c08085e-fa84-47e7-b583-93aee5d058cf",
   "metadata": {},
   "outputs": [],
   "source": [
    "#clean data\n",
    "df_small = df_date[['game_outcome', 'total_turn_count', 'deck_code']] # only keep what you need\n",
    "archetypes = df_date['deck_code'].value_counts() # find the unique archetypes being played\n",
    "archetypes = archetypes[archetypes > n] #only keep popular archetypes\n",
    "popular_list = list(archetypes.index) # make a list of popular archetypes\n",
    "df_small = df_small.loc[df['deck_code'].isin(popular_list)] # filter df to only keep popular archetypes\n",
    "df_small = df_small[df_small['game_outcome'] != \"tie\"] # drop ties"
   ]
  },
  {
   "cell_type": "code",
   "execution_count": null,
   "id": "702acc4b-d1fd-4088-af9b-cf9e32de339f",
   "metadata": {},
   "outputs": [],
   "source": [
    "#calculate winrate by archetype\n",
    "df2 = df_small.groupby(['deck_code', 'game_outcome']).size() #get win/loss for major archetypes\n",
    "df2 = df2.groupby(level=0).transform(lambda x: (x / x.sum()).round(2)*100) #get win/loss % for major archetypes\n",
    "df2.drop('loss', level=1, axis=0, inplace=True) #drop loss %\n",
    "df2 = df2.droplevel(level=1) #drop win/loss"
   ]
  },
  {
   "cell_type": "code",
   "execution_count": null,
   "id": "8ea09052-0d50-43a3-85c5-13e77e35b710",
   "metadata": {},
   "outputs": [],
   "source": [
    "df2.sort_values(ascending=False)\n",
    "# archetypes # if you want to see n"
   ]
  },
  {
   "cell_type": "code",
   "execution_count": null,
   "id": "3edbe1c3-4000-4db1-bdb4-50c0a2c4da85",
   "metadata": {},
   "outputs": [],
   "source": [
    "df2.to_csv(f'deck_codes-{date}-{n}.csv')"
   ]
  },
  {
   "cell_type": "markdown",
   "id": "90d1adfd-81df-48ff-ae61-3b97390e1dd3",
   "metadata": {},
   "source": [
    "## Give me best deck with Champion X"
   ]
  },
  {
   "cell_type": "code",
   "execution_count": 160,
   "id": "53ae36f7-a71c-4faf-adc9-d58671a2faa7",
   "metadata": {},
   "outputs": [],
   "source": [
    "champion = 'Hecarim'\n",
    "date = '2022-06-00'\n",
    "n = 50"
   ]
  },
  {
   "cell_type": "code",
   "execution_count": 161,
   "id": "3faf4dca-6f5d-4e15-8130-aadaf3fb5fd9",
   "metadata": {},
   "outputs": [],
   "source": [
    "# x = df_date[df_date['archetype'].str.contains(champion)]\n",
    "df_date = df[df['game_start_time_utc'] > date] # insert date X\n",
    "x = df_date[df_date['archetype'].str.contains(champion)]\n",
    "archetypes = x['deck_code'].value_counts() # find the unique archetypes being played\n",
    "archetypes = archetypes[archetypes > n] #only keep popular archetypes\n",
    "popular_list = list(archetypes.index) # make a list of popular archetypes\n",
    "x = x.loc[df['deck_code'].isin(popular_list)] # filter df to only keep popular archetypes"
   ]
  },
  {
   "cell_type": "code",
   "execution_count": 162,
   "id": "2f947bea-2578-4bb3-9a38-35caa57c9418",
   "metadata": {},
   "outputs": [],
   "source": [
    "df_champ = x.groupby(['deck_code', 'game_outcome']).size() #get win/loss for major archetypes\n",
    "df_champ = df_champ.groupby(level=0).transform(lambda x: (x / x.sum()).round(2)*100) #get win/loss % for major archetypes\n",
    "df_champ.drop('loss', level=1, axis=0, inplace=True) #drop loss %\n",
    "df_champ = df_champ.droplevel(level=1) #drop win/loss"
   ]
  },
  {
   "cell_type": "code",
   "execution_count": 163,
   "id": "48dcd891-b2c8-4265-971a-812020ccb9f9",
   "metadata": {},
   "outputs": [
    {
     "data": {
      "text/plain": [
       "deck_code\n",
       "CECQCBACBYAQIBINAIAQEAYJAIDAEAYJAUAQKBAVC4VC6AQBAECQYAIDAUCAEAIGAUSQEAICDAYQ     40.0\n",
       "CEBQEAICAMEQEBQCAMEQOAIFAQDQYFIXFIYQEAIEAIDQEAIFAEBQCAIGAUSQ                     39.0\n",
       "CECACBACAEBAEBIBBEBAMAQDBECACBIVC4VC6AYBAECQYAICAICQGAICAMETCAQBAICQQAQBAUBTC    39.0\n",
       "dtype: float64"
      ]
     },
     "execution_count": 163,
     "metadata": {},
     "output_type": "execute_result"
    }
   ],
   "source": [
    "df_champ.sort_values(ascending=False)"
   ]
  },
  {
   "cell_type": "code",
   "execution_count": null,
   "id": "d13a4d76-6582-4b87-a02a-75aeb51fb842",
   "metadata": {},
   "outputs": [],
   "source": []
  },
  {
   "cell_type": "code",
   "execution_count": null,
   "id": "b8661e6d-ae08-4567-9306-93f6db73d838",
   "metadata": {},
   "outputs": [],
   "source": []
  }
 ],
 "metadata": {
  "kernelspec": {
   "display_name": "Python 3",
   "language": "python",
   "name": "python3"
  },
  "language_info": {
   "codemirror_mode": {
    "name": "ipython",
    "version": 3
   },
   "file_extension": ".py",
   "mimetype": "text/x-python",
   "name": "python",
   "nbconvert_exporter": "python",
   "pygments_lexer": "ipython3",
   "version": "3.8.8"
  }
 },
 "nbformat": 4,
 "nbformat_minor": 5
}
