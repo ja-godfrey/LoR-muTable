{
 "cells": [
  {
   "cell_type": "markdown",
   "id": "77e05095-2f65-486c-96c6-4351defa942e",
   "metadata": {},
   "source": [
    "## Are games getting longer?"
   ]
  },
  {
   "cell_type": "code",
   "execution_count": 136,
   "id": "bd6cf60d-f202-4c66-ac17-7c61d1313c88",
   "metadata": {},
   "outputs": [],
   "source": [
    "import pandas as pd\n",
    "import numpy as np\n",
    "import matplotlib.pyplot as plt\n",
    "import os\n",
    "import glob\n",
    "import seaborn as sns"
   ]
  },
  {
   "cell_type": "markdown",
   "id": "6fc66df0-8799-473f-8443-0487c9c52d50",
   "metadata": {},
   "source": [
    "## practice"
   ]
  },
  {
   "cell_type": "code",
   "execution_count": 137,
   "id": "40bd0716-26c6-404b-8334-587757023bc9",
   "metadata": {},
   "outputs": [],
   "source": [
    "# df = pd.read_csv('../data/derived/previous-patches/lor_ranked_data_all_live_3_06_7.csv', usecols=['game_start_time_utc', 'total_turn_count']).dropna()\n",
    "# df['game_start_time_utc'] = pd.to_datetime(df['game_start_time_utc'].str[:10]) # just get the dates\n",
    "# df = df.pivot_table(df, index='game_start_time_utc', aggfunc=np.mean)\n",
    "# df.head()"
   ]
  },
  {
   "cell_type": "markdown",
   "id": "b39bbee1-77f4-4385-a2e0-4f819670adc5",
   "metadata": {},
   "source": [
    "## for real"
   ]
  },
  {
   "cell_type": "code",
   "execution_count": 138,
   "id": "6ed2a902-90f1-4086-ac78-c5fc89691094",
   "metadata": {},
   "outputs": [],
   "source": [
    "names = []\n",
    "csvs = glob.glob('../data/derived/previous-patches/*.csv')\n",
    "\n",
    "#make a long df\n",
    "for proj in csvs:\n",
    "    frame = pd.read_csv(proj, usecols=['game_start_time_utc', 'total_turn_count']).dropna()\n",
    "    names.append(frame)\n",
    "    james = pd.concat(names)"
   ]
  },
  {
   "cell_type": "code",
   "execution_count": 139,
   "id": "c985e36d-0aa2-4e21-9332-042ce3dd2859",
   "metadata": {},
   "outputs": [],
   "source": [
    "one_more = pd.read_csv('../data/raw/lor_ranked_data_all.csv', usecols=['game_start_time_utc', 'total_turn_count']).dropna()"
   ]
  },
  {
   "cell_type": "code",
   "execution_count": 140,
   "id": "d7f65b41-04bb-4400-ab58-08b757c80c1a",
   "metadata": {},
   "outputs": [],
   "source": [
    "df_full = pd.concat([james, one_more])"
   ]
  },
  {
   "cell_type": "code",
   "execution_count": 141,
   "id": "09addf8b-61cd-49cb-959d-d68f69d89de5",
   "metadata": {},
   "outputs": [],
   "source": [
    "df_full['game_start_time_utc'] = pd.to_datetime(df_full['game_start_time_utc'].str[:10])\n",
    "df_cool = df_full.pivot_table(df_full, index='game_start_time_utc', aggfunc=np.mean)"
   ]
  },
  {
   "cell_type": "code",
   "execution_count": 142,
   "id": "a142eeb0-0bdf-4ca9-9a24-285390739c48",
   "metadata": {},
   "outputs": [
    {
     "data": {
      "text/plain": [
       "(6677809, 2)"
      ]
     },
     "execution_count": 142,
     "metadata": {},
     "output_type": "execute_result"
    }
   ],
   "source": [
    "df_full.shape"
   ]
  },
  {
   "cell_type": "code",
   "execution_count": 143,
   "id": "c2e5a917-dea1-4e9a-8d43-b1927ab52ec2",
   "metadata": {},
   "outputs": [
    {
     "data": {
      "text/html": [
       "<div>\n",
       "<style scoped>\n",
       "    .dataframe tbody tr th:only-of-type {\n",
       "        vertical-align: middle;\n",
       "    }\n",
       "\n",
       "    .dataframe tbody tr th {\n",
       "        vertical-align: top;\n",
       "    }\n",
       "\n",
       "    .dataframe thead th {\n",
       "        text-align: right;\n",
       "    }\n",
       "</style>\n",
       "<table border=\"1\" class=\"dataframe\">\n",
       "  <thead>\n",
       "    <tr style=\"text-align: right;\">\n",
       "      <th></th>\n",
       "      <th>total_turn_count</th>\n",
       "    </tr>\n",
       "    <tr>\n",
       "      <th>game_start_time_utc</th>\n",
       "      <th></th>\n",
       "    </tr>\n",
       "  </thead>\n",
       "  <tbody>\n",
       "    <tr>\n",
       "      <th>2022-02-15</th>\n",
       "      <td>26.633272</td>\n",
       "    </tr>\n",
       "    <tr>\n",
       "      <th>2022-02-16</th>\n",
       "      <td>25.388801</td>\n",
       "    </tr>\n",
       "    <tr>\n",
       "      <th>2022-02-17</th>\n",
       "      <td>25.841846</td>\n",
       "    </tr>\n",
       "    <tr>\n",
       "      <th>2022-02-18</th>\n",
       "      <td>26.718562</td>\n",
       "    </tr>\n",
       "    <tr>\n",
       "      <th>2022-02-19</th>\n",
       "      <td>27.225122</td>\n",
       "    </tr>\n",
       "    <tr>\n",
       "      <th>...</th>\n",
       "      <td>...</td>\n",
       "    </tr>\n",
       "    <tr>\n",
       "      <th>2022-06-01</th>\n",
       "      <td>26.373877</td>\n",
       "    </tr>\n",
       "    <tr>\n",
       "      <th>2022-06-02</th>\n",
       "      <td>26.021530</td>\n",
       "    </tr>\n",
       "    <tr>\n",
       "      <th>2022-06-03</th>\n",
       "      <td>26.089985</td>\n",
       "    </tr>\n",
       "    <tr>\n",
       "      <th>2022-06-04</th>\n",
       "      <td>25.899734</td>\n",
       "    </tr>\n",
       "    <tr>\n",
       "      <th>2022-06-05</th>\n",
       "      <td>26.278957</td>\n",
       "    </tr>\n",
       "  </tbody>\n",
       "</table>\n",
       "<p>111 rows × 1 columns</p>\n",
       "</div>"
      ],
      "text/plain": [
       "                     total_turn_count\n",
       "game_start_time_utc                  \n",
       "2022-02-15                  26.633272\n",
       "2022-02-16                  25.388801\n",
       "2022-02-17                  25.841846\n",
       "2022-02-18                  26.718562\n",
       "2022-02-19                  27.225122\n",
       "...                               ...\n",
       "2022-06-01                  26.373877\n",
       "2022-06-02                  26.021530\n",
       "2022-06-03                  26.089985\n",
       "2022-06-04                  25.899734\n",
       "2022-06-05                  26.278957\n",
       "\n",
       "[111 rows x 1 columns]"
      ]
     },
     "execution_count": 143,
     "metadata": {},
     "output_type": "execute_result"
    }
   ],
   "source": [
    "df_cool"
   ]
  },
  {
   "cell_type": "code",
   "execution_count": 144,
   "id": "dd30a572-7b95-460f-8e59-424d264e94de",
   "metadata": {},
   "outputs": [
    {
     "data": {
      "image/png": "[encoded data removed]",
      "text/plain": [
       "<Figure size 432x288 with 1 Axes>"
      ]
     },
     "metadata": {
      "needs_background": "light"
     },
     "output_type": "display_data"
    }
   ],
   "source": [
    "fig, ax = plt.subplots() # graph to see if you're missing any dates\n",
    "plt.title('How has game length changed over time?')\n",
    "plt.xlabel('test')\n",
    "df_cool.plot(ax=ax, kind='line')\n",
    "plt.savefig(f'LMAO.png', bbox_inches=\"tight\", dpi=300, transparent=False)"
   ]
  },
  {
   "cell_type": "code",
   "execution_count": null,
   "id": "a54ccfb9-f6ed-4861-8ffd-98f8330e9300",
   "metadata": {},
   "outputs": [],
   "source": []
  },
  {
   "cell_type": "code",
   "execution_count": null,
   "id": "134b132b-6e73-437b-b54f-aa1fd9e73c4e",
   "metadata": {},
   "outputs": [],
   "source": []
  },
  {
   "cell_type": "code",
   "execution_count": null,
   "id": "81946910-926e-4f79-9be2-0963e644525b",
   "metadata": {},
   "outputs": [],
   "source": []
  },
  {
   "cell_type": "code",
   "execution_count": null,
   "id": "3dedbdfe-74f1-4f6a-ad19-a21291fbbbcf",
   "metadata": {},
   "outputs": [],
   "source": []
  }
 ],
 "metadata": {
  "kernelspec": {
   "display_name": "Python 3",
   "language": "python",
   "name": "python3"
  },
  "language_info": {
   "codemirror_mode": {
    "name": "ipython",
    "version": 3
   },
   "file_extension": ".py",
   "mimetype": "text/x-python",
   "name": "python",
   "nbconvert_exporter": "python",
   "pygments_lexer": "ipython3",
   "version": "3.8.8"
  }
 },
 "nbformat": 4,
 "nbformat_minor": 5
}
