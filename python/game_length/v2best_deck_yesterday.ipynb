{
 "cells": [
  {
   "cell_type": "markdown",
   "id": "7a30a241-af79-4c3a-94f6-332434f8b136",
   "metadata": {},
   "source": [
    "## best deck yesterday\n",
    "\n",
    "What this does:\n",
    "- constrain data to yesterday\n",
    "- find the decks with the highest winrate given a particular sample size\n",
    "- show which archetypes those decks come from"
   ]
  },
  {
   "cell_type": "code",
   "execution_count": 22,
   "id": "1a830f91-68ab-4ea5-98ef-e8241933ac5e",
   "metadata": {},
   "outputs": [],
   "source": [
    "import pandas as pd\n",
    "import seaborn as sns\n",
    "import matplotlib.pyplot as plt\n",
    "import matplotlib.ticker as mtick\n",
    "from datetime import date\n",
    "from datetime import timedelta\n",
    "from fpdf import FPDF\n",
    "from IPython.display import HTML\n",
    "import os\n",
    "import numpy as np\n",
    "\n",
    "from dateutil import parser\n",
    "import datetime\n",
    "import dataframe_image as dfi\n",
    "\n",
    "os.chdir('../best_deck_yesterday')"
   ]
  },
  {
   "cell_type": "code",
   "execution_count": 23,
   "id": "ee624c0f-5804-4bc0-a229-b114e55dd0ce",
   "metadata": {},
   "outputs": [],
   "source": [
    "df = pd.read_csv(r'./../data/raw/lor_ranked_data_all.csv')"
   ]
  },
  {
   "cell_type": "code",
   "execution_count": 24,
   "id": "2f1d4876-92f7-43cf-81ea-64f4af4cdc8b",
   "metadata": {},
   "outputs": [],
   "source": [
    "this_day = str(date.today())\n",
    "yesterday = str(date.today() - timedelta(days = 1))\n",
    "df_date = df[(df['game_start_time_utc'] < this_day) & (df['game_start_time_utc'] > yesterday)] # keep only the games played yesterday\n",
    "pdf_n_games_total = df_date.shape[0]"
   ]
  },
  {
   "cell_type": "code",
   "execution_count": 25,
   "id": "71a5dcdf-26e9-4402-86b5-991fb83ab7b3",
   "metadata": {},
   "outputs": [],
   "source": [
    "d = datetime.datetime.strptime(yesterday, '%Y-%m-%d')\n",
    "pdf_yesterday = d.strftime('%b %d, %Y')"
   ]
  },
  {
   "cell_type": "code",
   "execution_count": 26,
   "id": "dc50e5ea-6f60-4bda-a719-eea4e64942b3",
   "metadata": {},
   "outputs": [],
   "source": [
    "n = 300"
   ]
  },
  {
   "cell_type": "markdown",
   "id": "0d8e49b9-2144-4170-a278-8e57b3592d95",
   "metadata": {},
   "source": [
    "# top 3 decks yesterday, regardless of archetype"
   ]
  },
  {
   "cell_type": "code",
   "execution_count": 27,
   "id": "3548ba69-4d05-4a9e-bd16-cc59ee8de8fd",
   "metadata": {},
   "outputs": [],
   "source": [
    "archetypes = df_date['deck_code'].value_counts()\n",
    "archetypes = archetypes[archetypes > n]\n",
    "popular_list = list(archetypes.index)\n",
    "x = df.loc[df['deck_code'].isin(popular_list)]"
   ]
  },
  {
   "cell_type": "code",
   "execution_count": 28,
   "id": "dc1ecafd-6f1e-41a8-ae1e-05a7be1aa474",
   "metadata": {},
   "outputs": [],
   "source": [
    "df_champ = x[x['game_outcome'] != \"tie\"] # get rid of ties\n",
    "df_champ = df_champ.groupby(['deck_code', 'game_outcome']).size() # group deck codes by outcome\n",
    "df_champ = df_champ.groupby(level=0).transform(lambda x: (x / x.sum()).round(3)*100) # get winrate\n",
    "df_champ.drop('loss', level=1, axis=0, inplace=True) # drop losses\n",
    "df_champ = df_champ.droplevel(level=1) # not sure\n",
    "df_champ = df_champ.sort_values(ascending=False) # sort so good stuff at top\n",
    "df_champ = pd.DataFrame({'deck_code':df_champ.index, 'winrate':df_champ.values}) #dataframe w/ column titles"
   ]
  },
  {
   "cell_type": "code",
   "execution_count": 29,
   "id": "860b5f75-aa89-4eab-b2c7-07f74e4aa99a",
   "metadata": {},
   "outputs": [],
   "source": [
    "df_ = df_date[['deck_code', 'archetype']].copy() # make a dataframe with just the stuff you need\n",
    "_ = pd.merge(df_champ, df_, on=['deck_code'], copy=False).drop_duplicates().reset_index(drop=True)[:20] # get the archetypes for top decks, drop dupes, reset index, keep top 10"
   ]
  },
  {
   "cell_type": "code",
   "execution_count": 30,
   "id": "5e0896c6-9ce8-463a-983d-e9dec802c77c",
   "metadata": {},
   "outputs": [],
   "source": [
    "# get sample size for each deck\n",
    "z = df_date.value_counts('deck_code')\n",
    "z = pd.DataFrame(z, columns = ['n_games'])\n",
    "_ = _.merge(z, how='inner', on= 'deck_code')"
   ]
  },
  {
   "cell_type": "code",
   "execution_count": 31,
   "id": "ff4df470-e0b3-4f79-9668-bf31183141a3",
   "metadata": {},
   "outputs": [
    {
     "data": {
      "text/html": [
       "<div>\n",
       "<style scoped>\n",
       "    .dataframe tbody tr th:only-of-type {\n",
       "        vertical-align: middle;\n",
       "    }\n",
       "\n",
       "    .dataframe tbody tr th {\n",
       "        vertical-align: top;\n",
       "    }\n",
       "\n",
       "    .dataframe thead th {\n",
       "        text-align: right;\n",
       "    }\n",
       "</style>\n",
       "<table border=\"1\" class=\"dataframe\">\n",
       "  <thead>\n",
       "    <tr style=\"text-align: right;\">\n",
       "      <th></th>\n",
       "      <th>deck_code</th>\n",
       "      <th>winrate</th>\n",
       "      <th>archetype</th>\n",
       "      <th>n_games</th>\n",
       "    </tr>\n",
       "  </thead>\n",
       "  <tbody>\n",
       "    <tr>\n",
       "      <th>0</th>\n",
       "      <td>CUCQCBAAAIAQMCQ2AEDAYAICAEAACHICAUAAUDAFAEBAAA...</td>\n",
       "      <td>56.1</td>\n",
       "      <td>Jarvan IV Poppy Bard</td>\n",
       "      <td>2377</td>\n",
       "    </tr>\n",
       "    <tr>\n",
       "      <th>1</th>\n",
       "      <td>CUCQCBQKDIAQMDABAIAQAAI5AICAAAQHAICQACQMAUAQEA...</td>\n",
       "      <td>55.8</td>\n",
       "      <td>Jarvan IV Poppy Bard</td>\n",
       "      <td>1866</td>\n",
       "    </tr>\n",
       "    <tr>\n",
       "      <th>2</th>\n",
       "      <td>CIDQCAYGCEAQGBIQAEDAMHQBAYCSKAQBAUUDCAQCAYMBUA...</td>\n",
       "      <td>54.5</td>\n",
       "      <td>Twisted Fate Nami (SI)</td>\n",
       "      <td>451</td>\n",
       "    </tr>\n",
       "    <tr>\n",
       "      <th>3</th>\n",
       "      <td>CQBQCAQDAQCACAYCBQSSQBIEA4BDMN2SM4CACAQDAMAQKC...</td>\n",
       "      <td>54.5</td>\n",
       "      <td>Katarina Ziggs Annie (SH)</td>\n",
       "      <td>423</td>\n",
       "    </tr>\n",
       "    <tr>\n",
       "      <th>4</th>\n",
       "      <td>CUDACAIABEAQGAAOAECAADYBAYFBUAIGBQAQGBIABEFAYB...</td>\n",
       "      <td>53.9</td>\n",
       "      <td>Galio Bard</td>\n",
       "      <td>621</td>\n",
       "    </tr>\n",
       "    <tr>\n",
       "      <th>5</th>\n",
       "      <td>CICQCAYECIAQIBAQAEDASJQCAMEUTWIBAUAQIDBGE4WTIA...</td>\n",
       "      <td>53.8</td>\n",
       "      <td>Vi Zoe Aphelios</td>\n",
       "      <td>408</td>\n",
       "    </tr>\n",
       "    <tr>\n",
       "      <th>6</th>\n",
       "      <td>CECQCAQDBEAQMAY6AIAQGLRXAIAQKKBRAMCAKNJWG4CACB...</td>\n",
       "      <td>53.4</td>\n",
       "      <td>Katarina Elise Viego</td>\n",
       "      <td>340</td>\n",
       "    </tr>\n",
       "    <tr>\n",
       "      <th>7</th>\n",
       "      <td>CUFACAIEGYAQEBR4AEBQKBQBAQEQ2AIFAEDACBQCAMAQMA...</td>\n",
       "      <td>53.0</td>\n",
       "      <td>Annie Jhin</td>\n",
       "      <td>743</td>\n",
       "    </tr>\n",
       "    <tr>\n",
       "      <th>8</th>\n",
       "      <td>CMCACAIBGIAQMAI6AQCACAIFBIHAIBAHD4WEESIEAEAQCF...</td>\n",
       "      <td>52.6</td>\n",
       "      <td>Lissandra Taliyah</td>\n",
       "      <td>591</td>\n",
       "    </tr>\n",
       "    <tr>\n",
       "      <th>9</th>\n",
       "      <td>CECQCAQDBEAQMAY6AIAQGLRXAIAQKKBRAMCAKNJWG4CACB...</td>\n",
       "      <td>51.5</td>\n",
       "      <td>Katarina Elise Viego</td>\n",
       "      <td>364</td>\n",
       "    </tr>\n",
       "    <tr>\n",
       "      <th>10</th>\n",
       "      <td>CEDACAQDBEAQGBIQAECAGAQCAEBS4NYCAECSQNICAYBQYH...</td>\n",
       "      <td>51.3</td>\n",
       "      <td>Elise Annie</td>\n",
       "      <td>426</td>\n",
       "    </tr>\n",
       "    <tr>\n",
       "      <th>11</th>\n",
       "      <td>CQDACAYBAYAQKCUYAEAQMAI4AIAQILJUAICAICQQAICQIB...</td>\n",
       "      <td>50.4</td>\n",
       "      <td>Trundle Caitlyn</td>\n",
       "      <td>324</td>\n",
       "    </tr>\n",
       "    <tr>\n",
       "      <th>12</th>\n",
       "      <td>CIDACAYGCEAQMBQ6AEDAKJICAECSQMICAUDAKCYDAIDA4G...</td>\n",
       "      <td>49.0</td>\n",
       "      <td>Twisted Fate Nami (SI)</td>\n",
       "      <td>479</td>\n",
       "    </tr>\n",
       "  </tbody>\n",
       "</table>\n",
       "</div>"
      ],
      "text/plain": [
       "                                            deck_code  winrate  \\\n",
       "0   CUCQCBAAAIAQMCQ2AEDAYAICAEAACHICAUAAUDAFAEBAAA...     56.1   \n",
       "1   CUCQCBQKDIAQMDABAIAQAAI5AICAAAQHAICQACQMAUAQEA...     55.8   \n",
       "2   CIDQCAYGCEAQGBIQAEDAMHQBAYCSKAQBAUUDCAQCAYMBUA...     54.5   \n",
       "3   CQBQCAQDAQCACAYCBQSSQBIEA4BDMN2SM4CACAQDAMAQKC...     54.5   \n",
       "4   CUDACAIABEAQGAAOAECAADYBAYFBUAIGBQAQGBIABEFAYB...     53.9   \n",
       "5   CICQCAYECIAQIBAQAEDASJQCAMEUTWIBAUAQIDBGE4WTIA...     53.8   \n",
       "6   CECQCAQDBEAQMAY6AIAQGLRXAIAQKKBRAMCAKNJWG4CACB...     53.4   \n",
       "7   CUFACAIEGYAQEBR4AEBQKBQBAQEQ2AIFAEDACBQCAMAQMA...     53.0   \n",
       "8   CMCACAIBGIAQMAI6AQCACAIFBIHAIBAHD4WEESIEAEAQCF...     52.6   \n",
       "9   CECQCAQDBEAQMAY6AIAQGLRXAIAQKKBRAMCAKNJWG4CACB...     51.5   \n",
       "10  CEDACAQDBEAQGBIQAECAGAQCAEBS4NYCAECSQNICAYBQYH...     51.3   \n",
       "11  CQDACAYBAYAQKCUYAEAQMAI4AIAQILJUAICAICQQAICQIB...     50.4   \n",
       "12  CIDACAYGCEAQMBQ6AEDAKJICAECSQMICAUDAKCYDAIDA4G...     49.0   \n",
       "\n",
       "                    archetype  n_games  \n",
       "0        Jarvan IV Poppy Bard     2377  \n",
       "1        Jarvan IV Poppy Bard     1866  \n",
       "2      Twisted Fate Nami (SI)      451  \n",
       "3   Katarina Ziggs Annie (SH)      423  \n",
       "4                  Galio Bard      621  \n",
       "5             Vi Zoe Aphelios      408  \n",
       "6        Katarina Elise Viego      340  \n",
       "7                  Annie Jhin      743  \n",
       "8           Lissandra Taliyah      591  \n",
       "9        Katarina Elise Viego      364  \n",
       "10                Elise Annie      426  \n",
       "11            Trundle Caitlyn      324  \n",
       "12     Twisted Fate Nami (SI)      479  "
      ]
     },
     "execution_count": 31,
     "metadata": {},
     "output_type": "execute_result"
    }
   ],
   "source": [
    "_"
   ]
  },
  {
   "cell_type": "code",
   "execution_count": 32,
   "id": "7cea4b5c-68ab-4294-8520-b2824f24cb28",
   "metadata": {},
   "outputs": [],
   "source": [
    "# define a bunch of variables\n",
    "top_archetype = _['archetype'][0]\n",
    "top_archetype_plays = df_date['archetype'].value_counts()[top_archetype]\n",
    "top_winrate = round(_['winrate'][0])\n",
    "top_deck_n_games = _['n_games'][0]\n",
    "\n",
    "deck_wr0 = round(_['winrate'][0])\n",
    "deck_wr1 = round(_['winrate'][1])\n",
    "deck_wr2 = round(_['winrate'][2])\n",
    "\n",
    "deck_code0 = _['deck_code'][0]\n",
    "deck_code1 = _['deck_code'][1]\n",
    "deck_code2 = _['deck_code'][2]\n",
    "\n",
    "deck_archetype0 = _['archetype'][0]\n",
    "deck_archetype1 = _['archetype'][1]\n",
    "deck_archetype2 = _['archetype'][2]"
   ]
  },
  {
   "cell_type": "code",
   "execution_count": 33,
   "id": "c74727f2-2953-4495-b0bc-22e22d8a7c56",
   "metadata": {},
   "outputs": [
    {
     "data": {
      "text/plain": [
       "5389"
      ]
     },
     "execution_count": 33,
     "metadata": {},
     "output_type": "execute_result"
    }
   ],
   "source": [
    "top_archetype_plays"
   ]
  },
  {
   "cell_type": "code",
   "execution_count": 34,
   "id": "39f9c048-fc7a-4aa3-a93b-c0441642fcf9",
   "metadata": {},
   "outputs": [
    {
     "data": {
      "text/plain": [
       "61376"
      ]
     },
     "execution_count": 34,
     "metadata": {},
     "output_type": "execute_result"
    }
   ],
   "source": [
    "pdf_n_games_total"
   ]
  },
  {
   "cell_type": "markdown",
   "id": "acaaf594-028c-41d6-b885-4592495450a0",
   "metadata": {},
   "source": [
    "## yesterday's top 10 archetypes + wr"
   ]
  },
  {
   "cell_type": "code",
   "execution_count": 35,
   "id": "9e0b8657-7838-4cea-b53d-40abb1d4914e",
   "metadata": {},
   "outputs": [],
   "source": [
    "#clean data\n",
    "df_small = df_date[['game_outcome', 'total_turn_count', 'archetype']]\n",
    "archetypes = df_small['archetype'].value_counts() # find the unique archetypes being played\n",
    "popular_archetypes = archetypes[archetypes > len(df_small)/50] #only keep popular archetypes ##################################################################################\n",
    "popular_list = list(popular_archetypes.index) # make a list of popular archetypes\n",
    "df_small_popular = df_small.loc[df['archetype'].isin(popular_list)] # filter df to only keep popular archetypes\n",
    "df_small_popular = df_small_popular[df_small_popular['game_outcome'] != \"tie\"] # drop ties\n",
    "\n",
    "#calculate winrate by archetype\n",
    "df2 = df_small_popular.groupby(['archetype', 'game_outcome']).size() #get win/loss for major archetypes\n",
    "df2 = df2.groupby(level=0).transform(lambda x: (x / x.sum()).round(2)*100) #get win/loss % for major archetypes\n",
    "df2.drop('loss', level=1, axis=0, inplace=True) #drop loss %\n",
    "df2 = df2.droplevel(level=1) #drop win/loss\n",
    "df2 = df2.to_frame('winrate').reset_index()\n",
    "df2 = df2.sort_values(by='winrate', ascending=False)\n",
    "dfi.export(df2, \"top_archetypes_winrate.png\")"
   ]
  },
  {
   "cell_type": "markdown",
   "id": "545645c1-1dcf-4808-bbfb-0d1b4863a0b5",
   "metadata": {},
   "source": [
    "## generate graphs"
   ]
  },
  {
   "cell_type": "code",
   "execution_count": 36,
   "id": "2f7478ae-797b-414f-806d-c76e6f2c9d70",
   "metadata": {},
   "outputs": [
    {
     "data": {
      "image/png": "[encoded data removed]",
      "text/plain": [
       "<Figure size 144x144 with 1 Axes>"
      ]
     },
     "metadata": {
      "needs_background": "light"
     },
     "output_type": "display_data"
    }
   ],
   "source": [
    "# proportional playrate chart\n",
    "df_x = df[df['archetype'] == top_archetype] # make dataframe of just the best archetype\n",
    "thing = df_x['game_start_time_utc'].str[:10] # just get the dates\n",
    "games_arch = thing.value_counts() # how many games are played per day?\n",
    "games_arch.sort_index(ascending=True, inplace=True) # sort the dates\n",
    "\n",
    "# the total number of games played on any given day\n",
    "_temp = df['game_start_time_utc'].str[:10]\n",
    "_temp = _temp.value_counts()\n",
    "_temp.sort_index(ascending=True, inplace=True)\n",
    "\n",
    "# get % playrate\n",
    "dates = games_arch.divide(_temp)\n",
    "dates = round(dates*100, 3)\n",
    "\n",
    "# plot\n",
    "fig, ax = plt.subplots(figsize=(2,2)) # graph to see if you're missing any dates\n",
    "ax.spines['top'].set_visible(False)\n",
    "ax.spines['right'].set_visible(False)\n",
    "ax.yaxis.set_major_formatter(mtick.PercentFormatter(decimals=1))\n",
    "plt.title(f'{top_archetype} playrate over time \\n{deck_wr0}% Winrate overall')\n",
    "plt.xlabel('Date')\n",
    "plt.ylabel('Proportional playrate')\n",
    "dates.plot(ax=ax, kind='line')\n",
    "plt.savefig(f'archetypePopularity.png', bbox_inches=\"tight\", dpi=200, transparent=True)"
   ]
  },
  {
   "cell_type": "code",
   "execution_count": 37,
   "id": "2a16225d-6e61-4acd-95f4-90cb78b92676",
   "metadata": {},
   "outputs": [
    {
     "data": {
      "image/png": "[encoded data removed]",
      "text/plain": [
       "<Figure size 144x144 with 1 Axes>"
      ]
     },
     "metadata": {
      "needs_background": "light"
     },
     "output_type": "display_data"
    }
   ],
   "source": [
    "df_x = df[df['deck_code'] == deck_code0] # make dataframe of just the best deck\n",
    "thing = pd.to_datetime(df_x['game_start_time_utc'].str[:10]) # just get the dates\n",
    "dates = thing.value_counts() # how many games are played per day?\n",
    "dates.sort_index(ascending=True, inplace=True) # sort the dates\n",
    "\n",
    "fig, ax = plt.subplots(figsize=(2,2)) # graph to see if you're missing any dates\n",
    "ax.spines['top'].set_visible(False)\n",
    "ax.spines['right'].set_visible(False)\n",
    "plt.title(f'Top Deck playrate over time \\n{deck_wr0}% winrate yesterday')\n",
    "plt.xlabel('Date')\n",
    "plt.ylabel('Number of Games')\n",
    "dates.plot(ax=ax, kind='line')\n",
    "plt.savefig(f'deckPopularity.png', bbox_inches=\"tight\", dpi=200, transparent=True)"
   ]
  },
  {
   "cell_type": "markdown",
   "id": "695d7f42-0a43-4b83-a9b6-d21e981c97f5",
   "metadata": {},
   "source": [
    "## Generate html and convert to image"
   ]
  },
  {
   "cell_type": "code",
   "execution_count": 38,
   "id": "a62e2034-2b2e-4e5f-a7e2-9fda690b8cf9",
   "metadata": {},
   "outputs": [],
   "source": [
    "# import jinja2\n",
    "\n",
    "# os.chdir('../best_deck_yesterday') # change directory\n",
    "\n",
    "# #make top 10 archetypes table into html table\n",
    "# _df2 = df2.to_frame('winrate').reset_index()\n",
    "# top_archetype_html = _df2.to_html(classes='table table-stripped', index=False)\n",
    "# text_file = open(\"top-ten-archentypes.html\", \"w\")\n",
    "# text_file.write(top_archetype_html)\n",
    "# text_file.close()\n",
    "\n",
    "# #vars\n",
    "# title = f'What was the best deck on {pdf_yesterday}?'\n",
    "# intro_text = f'I analyzed {pdf_n_games_total} games to discover yesterday\\'s top-performing archetypes and decks'\n",
    "# top_arch_intro = f'{top_archetype} is yesterdays top archetype. <br> Here are the 10 other best archetypes:'\n",
    "# best_deck_intro = 'Here are the best decks from yesterday:'\n",
    "# test = _.to_html(columns=['winrate', 'archetype', 'deck_code'],index=False, justify='left')\n",
    "# graph_intro='This deck is new and this archetype is new'\n",
    "\n",
    "# #make html file\n",
    "# outputfile = 'myfile.html'\n",
    "# subs = jinja2.Environment( \n",
    "#               loader=jinja2.FileSystemLoader('./')      \n",
    "#               ).get_template('best-deck-yesterday.html').render(title=title, \n",
    "#                                                                 intro_text=intro_text, \n",
    "#                                                                 top_archetype_html=top_archetype_html,\n",
    "#                                                                 top_arch_intro=top_arch_intro,\n",
    "#                                                                best_deck_intro=best_deck_intro,\n",
    "#                                                                test=test,\n",
    "#                                                                graph_intro=graph_intro)\n",
    "\n",
    "# # lets write the substitution to a file\n",
    "# with open(outputfile,'w') as f: f.write(subs)"
   ]
  },
  {
   "cell_type": "code",
   "execution_count": 39,
   "id": "8b3a8db8-78e6-4cf4-ac18-7faebc379e54",
   "metadata": {},
   "outputs": [],
   "source": [
    "# pdf = FPDF()\n",
    "\n",
    "# w = 210\n",
    "# h = 297\n",
    "\n",
    "# pdf.add_page()\n",
    "# pdf.set_text_color(50,50,50)\n",
    "# pdf.set_fill_color(252, 237, 218)\n",
    "# pdf.rect(0, 0, 210, 297, 'F')\n",
    "\n",
    "# # logo\n",
    "# pdf.image('logo.png', w-24, 1, w/8)\n",
    "# pdf.image('z.png', w-24, 1, w/8)\n",
    "\n",
    "# #title\n",
    "# pdf.set_font('Arial', 'B', 25)\n",
    "# pdf.ln(10)\n",
    "# pdf.write(5,f'What was the best deck on {pdf_yesterday}?')\n",
    "\n",
    "# #top archetypes\n",
    "# pdf.set_font('Arial', 'B', 10)\n",
    "# pdf.ln(5)\n",
    "# pdf.write(10,f'I analyzed {pdf_n_games_total} games to discover yesterday\\'s top-performing archetypes and decks.')\n",
    "# #png of top 10\n",
    "# pdf.set_font('Arial', 'B', 15)\n",
    "# pdf.ln(10)\n",
    "# pdf.write(10,f'{top_archetype} is yesterday\\'s top archetype.')\n",
    "# pdf.image(\"top_archetypes_winrate.png\", w/2-20, 50, w/3.5)\n",
    "\n",
    "# # top decks\n",
    "# pdf.ln(100)\n",
    "# pdf.set_font('Arial', 'B', 15)\n",
    "# pdf.write(10,f'Here are the best decks in the {df2.index[0]} archetype:')\n",
    "# pdf.ln(10)\n",
    "# pdf.set_font('Arial', 'B', 7.5)\n",
    "# pdf.write(10,f'{deck_wr0}% wr | {deck_code0} \\n{deck_wr1}% wr | {deck_code1} \\n{deck_wr2}% wr | {deck_code2}')\n",
    "# # pdf.write(10,f'{deck_wr_0}% wr | {deck_0} \\n{deck_wr_1}% wr | {deck_1}')#' \\n{deck_wr_2}% wr | {deck_2}')\n",
    "# # pdf.write(10,f'{deck_wr_0}% wr | {deck_0}')#' \\n{deck_wr_1}% wr | {deck_1} \\n{deck_wr_2}% wr | {deck_2}')\n",
    "# pdf.ln(10)\n",
    "# pdf.set_font('Arial', 'B', 6)\n",
    "# pdf.write(7,f'\\t\\t\\t\\t\\t\\t\\t\\t\\t\\t\\t\\t\\t*Each deck must have at least 150 wins to be considered.')\n",
    "\n",
    "# #optimal game length\n",
    "# pdf.ln(10)\n",
    "# pdf.set_font('Arial', 'B', 15)\n",
    "# pdf.write(10,'This archetype used to be good and is making a comeback, and this deck is new to the meta.')\n",
    "# pdf.image('archetypePopularity.png', 10, h-95, w/2.2)\n",
    "\n",
    "# #optimal game length\n",
    "# # pdf.ln(10)\n",
    "# # pdf.set_font('Arial', 'B', 15)\n",
    "# # pdf.write(0,'Has this deck always been popular?')\n",
    "# pdf.image('deckPopularity.png', w/2, h-95, w/2.2)\n",
    "\n",
    "# #export\n",
    "# pdf.output(f'{pdf_yesterday}.pdf', 'F')"
   ]
  },
  {
   "cell_type": "markdown",
   "id": "b25f81eb-c4a8-46c6-a67d-4ead122e4eb0",
   "metadata": {},
   "source": [
    "## Generate Post"
   ]
  },
  {
   "cell_type": "code",
   "execution_count": 40,
   "id": "0c76b61a-5fae-4855-8864-7cf0365a797c",
   "metadata": {},
   "outputs": [
    {
     "name": "stdout",
     "output_type": "stream",
     "text": [
      "Yesterday's top deck is an Jarvan IV Poppy Bard deck with a 56% winrate.       \n",
      "Out of 61376 matches analyzed, Jarvan IV Poppy Bard was played 5389 times (9%). Its top deck was played 2377 times with an overall 56% winrate.       \n",
      "\n",
      "|Winrate|Archetype|Deck Code|      \n",
      "|:-|:-|:-|       \n",
      "|56%|Jarvan IV Poppy Bard|CUCQCBAAAIAQMCQ2AEDAYAICAEAACHICAUAAUDAFAEBAAAIBAMAA4AIFBIUQEBAAA4HQGAIAAYEQWAQBAQAAQAQBAACBK|       \n",
      "|56%|Jarvan IV Poppy Bard|CUCQCBQKDIAQMDABAIAQAAI5AICAAAQHAICQACQMAUAQEAABAEBQADQBAQAA6AIFBIUQEAIABEFQEAIEAAEAGAIAAQDBK|        \n",
      "|55%|Twisted Fate Nami (SI)|CIDQCAYGCEAQGBIQAEDAMHQBAYCSKAQBAUUDCAQCAYMBUAQFAYCQWAYBAYDBYAQBAUAS6AQCAYHCMAA|      \n",
      "\n",
      "Happy climbing, and all hail [Balco](https://lor-meta.com/) for the data!\n"
     ]
    }
   ],
   "source": [
    "print(f'Yesterday\\'s top deck is an {top_archetype} deck with a {top_winrate}% winrate. \\\n",
    "      \\nOut of {pdf_n_games_total} matches analyzed, {top_archetype} was played {top_archetype_plays} times ({round((top_archetype_plays/pdf_n_games_total)*100)}%). Its top deck was played {top_deck_n_games} times with an overall {top_winrate}% winrate. \\\n",
    "      \\n\\n|Winrate|Archetype|Deck Code|\\\n",
    "      \\n|:-|:-|:-| \\\n",
    "      \\n|{deck_wr0}%|{deck_archetype0}|{deck_code0}| \\\n",
    "      \\n|{deck_wr1}%|{deck_archetype1}|{deck_code1}|  \\\n",
    "      \\n|{deck_wr2}%|{deck_archetype2}|{deck_code2}|\\\n",
    "      \\n\\nHappy climbing, and all hail [Balco](https://lor-meta.com/) for the data!')"
   ]
  },
  {
   "cell_type": "code",
   "execution_count": 41,
   "id": "847babb8-c90b-4295-be10-8d12b7892f18",
   "metadata": {},
   "outputs": [
    {
     "name": "stdout",
     "output_type": "stream",
     "text": [
      "for the mobile homies:     \n",
      " ((CUCQCBAAAIAQMCQ2AEDAYAICAEAACHICAUAAUDAFAEBAAAIBAMAA4AIFBIUQEBAAA4HQGAIAAYEQWAQBAQAAQAQBAACBK))      \n",
      " ((CUCQCBQKDIAQMDABAIAQAAI5AICAAAQHAICQACQMAUAQEAABAEBQADQBAQAA6AIFBIUQEAIABEFQEAIEAAEAGAIAAQDBK))       \n",
      " ((CIDQCAYGCEAQGBIQAEDAMHQBAYCSKAQBAUUDCAQCAYMBUAQFAYCQWAYBAYDBYAQBAUAS6AQCAYHCMAA))\n"
     ]
    }
   ],
   "source": [
    "print(f'for the mobile homies: \\\n",
    "    \\n (({deck_code0})) \\\n",
    "     \\n (({deck_code1})) \\\n",
    "      \\n (({deck_code2}))')"
   ]
  },
  {
   "cell_type": "code",
   "execution_count": 42,
   "id": "d19fe7ab-c6ea-481a-adf3-793a07ff96e0",
   "metadata": {},
   "outputs": [
    {
     "data": {
      "text/plain": [
       "'CQBQCAQDAQCACAYCBQSSQBIEA4BDMN2SM4CACAQDAMAQKCVDAEAQMAYMAIAQGEZKAA'"
      ]
     },
     "execution_count": 42,
     "metadata": {},
     "output_type": "execute_result"
    }
   ],
   "source": [
    "_ = pd.merge(df_champ, df_, on=['deck_code'], copy=False).drop_duplicates().reset_index(drop=True)\n",
    "_['deck_code'][3]"
   ]
  }
 ],
 "metadata": {
  "kernelspec": {
   "display_name": "Python 3",
   "language": "python",
   "name": "python3"
  },
  "language_info": {
   "codemirror_mode": {
    "name": "ipython",
    "version": 3
   },
   "file_extension": ".py",
   "mimetype": "text/x-python",
   "name": "python",
   "nbconvert_exporter": "python",
   "pygments_lexer": "ipython3",
   "version": "3.8.8"
  }
 },
 "nbformat": 4,
 "nbformat_minor": 5
}
