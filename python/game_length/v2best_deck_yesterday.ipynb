{
 "cells": [
  {
   "cell_type": "markdown",
   "id": "7a30a241-af79-4c3a-94f6-332434f8b136",
   "metadata": {},
   "source": [
    "## best deck yesterday\n",
    "\n",
    "What this does:\n",
    "- constrain data to yesterday\n",
    "- find the decks with the highest winrate given a particular sample size\n",
    "- show which archetypes those decks come from"
   ]
  },
  {
   "cell_type": "code",
   "execution_count": 1,
   "id": "1a830f91-68ab-4ea5-98ef-e8241933ac5e",
   "metadata": {},
   "outputs": [],
   "source": [
    "import pandas as pd\n",
    "import seaborn as sns\n",
    "import matplotlib.pyplot as plt\n",
    "import matplotlib.ticker as mtick\n",
    "from datetime import date\n",
    "from datetime import timedelta\n",
    "from fpdf import FPDF\n",
    "from IPython.display import HTML\n",
    "import os\n",
    "import numpy as np\n",
    "\n",
    "from dateutil import parser\n",
    "import datetime\n",
    "import dataframe_image as dfi\n",
    "\n",
    "os.chdir('../best_deck_yesterday')"
   ]
  },
  {
   "cell_type": "code",
   "execution_count": 2,
   "id": "ee624c0f-5804-4bc0-a229-b114e55dd0ce",
   "metadata": {},
   "outputs": [],
   "source": [
    "df = pd.read_csv(r'./../data/raw/lor_ranked_data_all.csv')"
   ]
  },
  {
   "cell_type": "code",
   "execution_count": 3,
   "id": "2f1d4876-92f7-43cf-81ea-64f4af4cdc8b",
   "metadata": {},
   "outputs": [],
   "source": [
    "this_day = str(date.today())\n",
    "yesterday = str(date.today() - timedelta(days = 1))\n",
    "df_date = df[(df['game_start_time_utc'] < this_day) & (df['game_start_time_utc'] > yesterday)] # keep only the games played yesterday\n",
    "pdf_n_games_total = df_date.shape[0]"
   ]
  },
  {
   "cell_type": "code",
   "execution_count": 4,
   "id": "71a5dcdf-26e9-4402-86b5-991fb83ab7b3",
   "metadata": {},
   "outputs": [],
   "source": [
    "d = datetime.datetime.strptime(yesterday, '%Y-%m-%d')\n",
    "pdf_yesterday = d.strftime('%b %d, %Y')"
   ]
  },
  {
   "cell_type": "code",
   "execution_count": 27,
   "id": "dc50e5ea-6f60-4bda-a719-eea4e64942b3",
   "metadata": {},
   "outputs": [],
   "source": [
    "n = 300"
   ]
  },
  {
   "cell_type": "markdown",
   "id": "0d8e49b9-2144-4170-a278-8e57b3592d95",
   "metadata": {},
   "source": [
    "# top 3 decks yesterday, regardless of archetype"
   ]
  },
  {
   "cell_type": "code",
   "execution_count": 28,
   "id": "3548ba69-4d05-4a9e-bd16-cc59ee8de8fd",
   "metadata": {},
   "outputs": [],
   "source": [
    "archetypes = df_date['deck_code'].value_counts()\n",
    "archetypes = archetypes[archetypes > n]\n",
    "popular_list = list(archetypes.index)\n",
    "x = df.loc[df['deck_code'].isin(popular_list)]"
   ]
  },
  {
   "cell_type": "code",
   "execution_count": 29,
   "id": "dc1ecafd-6f1e-41a8-ae1e-05a7be1aa474",
   "metadata": {},
   "outputs": [],
   "source": [
    "df_champ = x[x['game_outcome'] != \"tie\"] # get rid of ties\n",
    "df_champ = df_champ.groupby(['deck_code', 'game_outcome']).size() # group deck codes by outcome\n",
    "df_champ = df_champ.groupby(level=0).transform(lambda x: (x / x.sum()).round(3)*100) # get winrate\n",
    "df_champ.drop('loss', level=1, axis=0, inplace=True) # drop losses\n",
    "df_champ = df_champ.droplevel(level=1) # not sure\n",
    "df_champ = df_champ.sort_values(ascending=False) # sort so good stuff at top\n",
    "df_champ = pd.DataFrame({'deck_code':df_champ.index, 'winrate':df_champ.values}) #dataframe w/ column titles"
   ]
  },
  {
   "cell_type": "code",
   "execution_count": 30,
   "id": "860b5f75-aa89-4eab-b2c7-07f74e4aa99a",
   "metadata": {},
   "outputs": [],
   "source": [
    "df_ = df_date[['deck_code', 'archetype']].copy() # make a dataframe with just the stuff you need\n",
    "_ = pd.merge(df_champ, df_, on=['deck_code'], copy=False).drop_duplicates().reset_index(drop=True)[:20] # get the archetypes for top decks, drop dupes, reset index, keep top 10"
   ]
  },
  {
   "cell_type": "code",
   "execution_count": 31,
   "id": "5e0896c6-9ce8-463a-983d-e9dec802c77c",
   "metadata": {},
   "outputs": [],
   "source": [
    "# get sample size for each deck\n",
    "z = df_date.value_counts('deck_code')\n",
    "z = pd.DataFrame(z, columns = ['n_games'])\n",
    "_ = _.merge(z, how='inner', on= 'deck_code')"
   ]
  },
  {
   "cell_type": "code",
   "execution_count": 32,
   "id": "ff4df470-e0b3-4f79-9668-bf31183141a3",
   "metadata": {},
   "outputs": [
    {
     "data": {
      "text/html": [
       "<div>\n",
       "<style scoped>\n",
       "    .dataframe tbody tr th:only-of-type {\n",
       "        vertical-align: middle;\n",
       "    }\n",
       "\n",
       "    .dataframe tbody tr th {\n",
       "        vertical-align: top;\n",
       "    }\n",
       "\n",
       "    .dataframe thead th {\n",
       "        text-align: right;\n",
       "    }\n",
       "</style>\n",
       "<table border=\"1\" class=\"dataframe\">\n",
       "  <thead>\n",
       "    <tr style=\"text-align: right;\">\n",
       "      <th></th>\n",
       "      <th>deck_code</th>\n",
       "      <th>winrate</th>\n",
       "      <th>archetype</th>\n",
       "      <th>n_games</th>\n",
       "    </tr>\n",
       "  </thead>\n",
       "  <tbody>\n",
       "    <tr>\n",
       "      <th>0</th>\n",
       "      <td>CICQCAQDAMAQKBQBAEDAMFIEAIDBMGRGHICQCAYCBQHSKK...</td>\n",
       "      <td>59.8</td>\n",
       "      <td>Miss Fortune Twisted Fate (NX)</td>\n",
       "      <td>1554</td>\n",
       "    </tr>\n",
       "    <tr>\n",
       "      <th>1</th>\n",
       "      <td>CMBQCAQAAIBAIB3HQIAQKBQHA4EASCQOAUAQEAABAECAAA...</td>\n",
       "      <td>58.1</td>\n",
       "      <td>Akshan Kai'Sa (DE)</td>\n",
       "      <td>989</td>\n",
       "    </tr>\n",
       "    <tr>\n",
       "      <th>2</th>\n",
       "      <td>CICACAQDAMAQKBQBAQBAMFQ2EY5AKAIDAIGA6JJIAIAQEB...</td>\n",
       "      <td>57.3</td>\n",
       "      <td>Miss Fortune Twisted Fate (NX)</td>\n",
       "      <td>566</td>\n",
       "    </tr>\n",
       "    <tr>\n",
       "      <th>3</th>\n",
       "      <td>CUEQCAIEGYAQGBIGAECASDIBAUAQMAIGAIBQCBQDBQAQMD...</td>\n",
       "      <td>53.3</td>\n",
       "      <td>Annie Jhin</td>\n",
       "      <td>410</td>\n",
       "    </tr>\n",
       "    <tr>\n",
       "      <th>4</th>\n",
       "      <td>CUFACAIEGYAQEBR4AEBQKBQBAQEQ2AIFAEDACBQCAMAQMA...</td>\n",
       "      <td>51.8</td>\n",
       "      <td>Annie Jhin</td>\n",
       "      <td>943</td>\n",
       "    </tr>\n",
       "    <tr>\n",
       "      <th>5</th>\n",
       "      <td>CICQCAIFFAAQEBIKAECAKDYBAYCSWBACAYLSKLZVAUAQCB...</td>\n",
       "      <td>51.7</td>\n",
       "      <td>Nautilus Maokai</td>\n",
       "      <td>387</td>\n",
       "    </tr>\n",
       "    <tr>\n",
       "      <th>6</th>\n",
       "      <td>CMCACAIEGQAQMBZQAQCAIAICAQDQKBAHAEOCOTKPAIAQKB...</td>\n",
       "      <td>50.8</td>\n",
       "      <td>Ekko Zilean</td>\n",
       "      <td>314</td>\n",
       "    </tr>\n",
       "    <tr>\n",
       "      <th>7</th>\n",
       "      <td>CQCACBIKUYAQCBQGFEBAGBQOCQDQEBQLCQNCCLJXHIBQCA...</td>\n",
       "      <td>50.4</td>\n",
       "      <td>Teemo Twisted Fate (BC)</td>\n",
       "      <td>347</td>\n",
       "    </tr>\n",
       "    <tr>\n",
       "      <th>8</th>\n",
       "      <td>CQBAEBIFBAEQMBIKGE4V2XTCUYAQEAYBAUAR2KADAUFBVV...</td>\n",
       "      <td>50.2</td>\n",
       "      <td>Veigar Senna (BC)</td>\n",
       "      <td>462</td>\n",
       "    </tr>\n",
       "  </tbody>\n",
       "</table>\n",
       "</div>"
      ],
      "text/plain": [
       "                                           deck_code  winrate  \\\n",
       "0  CICQCAQDAMAQKBQBAEDAMFIEAIDBMGRGHICQCAYCBQHSKK...     59.8   \n",
       "1  CMBQCAQAAIBAIB3HQIAQKBQHA4EASCQOAUAQEAABAECAAA...     58.1   \n",
       "2  CICACAQDAMAQKBQBAQBAMFQ2EY5AKAIDAIGA6JJIAIAQEB...     57.3   \n",
       "3  CUEQCAIEGYAQGBIGAECASDIBAUAQMAIGAIBQCBQDBQAQMD...     53.3   \n",
       "4  CUFACAIEGYAQEBR4AEBQKBQBAQEQ2AIFAEDACBQCAMAQMA...     51.8   \n",
       "5  CICQCAIFFAAQEBIKAECAKDYBAYCSWBACAYLSKLZVAUAQCB...     51.7   \n",
       "6  CMCACAIEGQAQMBZQAQCAIAICAQDQKBAHAEOCOTKPAIAQKB...     50.8   \n",
       "7  CQCACBIKUYAQCBQGFEBAGBQOCQDQEBQLCQNCCLJXHIBQCA...     50.4   \n",
       "8  CQBAEBIFBAEQMBIKGE4V2XTCUYAQEAYBAUAR2KADAUFBVV...     50.2   \n",
       "\n",
       "                        archetype  n_games  \n",
       "0  Miss Fortune Twisted Fate (NX)     1554  \n",
       "1              Akshan Kai'Sa (DE)      989  \n",
       "2  Miss Fortune Twisted Fate (NX)      566  \n",
       "3                      Annie Jhin      410  \n",
       "4                      Annie Jhin      943  \n",
       "5                 Nautilus Maokai      387  \n",
       "6                     Ekko Zilean      314  \n",
       "7         Teemo Twisted Fate (BC)      347  \n",
       "8               Veigar Senna (BC)      462  "
      ]
     },
     "execution_count": 32,
     "metadata": {},
     "output_type": "execute_result"
    }
   ],
   "source": [
    "_"
   ]
  },
  {
   "cell_type": "code",
   "execution_count": 33,
   "id": "7cea4b5c-68ab-4294-8520-b2824f24cb28",
   "metadata": {},
   "outputs": [],
   "source": [
    "# define a bunch of variables\n",
    "top_archetype = _['archetype'][0]\n",
    "top_archetype_plays = df_date['archetype'].value_counts()[top_archetype]\n",
    "top_winrate = round(_['winrate'][0])\n",
    "top_deck_n_games = _['n_games'][0]\n",
    "\n",
    "deck_wr0 = round(_['winrate'][0])\n",
    "deck_wr1 = round(_['winrate'][1])\n",
    "deck_wr2 = round(_['winrate'][2])\n",
    "deck_wr3 = round(_['winrate'][3])\n",
    "deck_wr4 = round(_['winrate'][4])\n",
    "deck_wr5 = round(_['winrate'][5])\n",
    "deck_wr6 = round(_['winrate'][6])\n",
    "\n",
    "deck_code0 = _['deck_code'][0]\n",
    "deck_code1 = _['deck_code'][1]\n",
    "deck_code2 = _['deck_code'][2]\n",
    "deck_code3 = _['deck_code'][3]\n",
    "deck_code4 = _['deck_code'][4]\n",
    "deck_code5 = _['deck_code'][5]\n",
    "deck_code6 = _['deck_code'][6]\n",
    "\n",
    "deck_archetype0 = _['archetype'][0]\n",
    "deck_archetype1 = _['archetype'][1]\n",
    "deck_archetype2 = _['archetype'][2]\n",
    "deck_archetype3 = _['archetype'][3]\n",
    "deck_archetype4 = _['archetype'][4]\n",
    "deck_archetype5 = _['archetype'][5]\n",
    "deck_archetype6 = _['archetype'][6]"
   ]
  },
  {
   "cell_type": "code",
   "execution_count": 34,
   "id": "c74727f2-2953-4495-b0bc-22e22d8a7c56",
   "metadata": {},
   "outputs": [
    {
     "data": {
      "text/plain": [
       "3946"
      ]
     },
     "execution_count": 34,
     "metadata": {},
     "output_type": "execute_result"
    }
   ],
   "source": [
    "top_archetype_plays"
   ]
  },
  {
   "cell_type": "code",
   "execution_count": 35,
   "id": "39f9c048-fc7a-4aa3-a93b-c0441642fcf9",
   "metadata": {},
   "outputs": [
    {
     "data": {
      "text/plain": [
       "66332"
      ]
     },
     "execution_count": 35,
     "metadata": {},
     "output_type": "execute_result"
    }
   ],
   "source": [
    "pdf_n_games_total"
   ]
  },
  {
   "cell_type": "markdown",
   "id": "acaaf594-028c-41d6-b885-4592495450a0",
   "metadata": {},
   "source": [
    "## yesterday's top 10 archetypes + wr"
   ]
  },
  {
   "cell_type": "code",
   "execution_count": 36,
   "id": "9e0b8657-7838-4cea-b53d-40abb1d4914e",
   "metadata": {},
   "outputs": [],
   "source": [
    "#clean data\n",
    "df_small = df_date[['game_outcome', 'total_turn_count', 'archetype']]\n",
    "archetypes = df_small['archetype'].value_counts() # find the unique archetypes being played\n",
    "popular_archetypes = archetypes[archetypes > len(df_small)/50] #only keep popular archetypes ##################################################################################\n",
    "popular_list = list(popular_archetypes.index) # make a list of popular archetypes\n",
    "df_small_popular = df_small.loc[df['archetype'].isin(popular_list)] # filter df to only keep popular archetypes\n",
    "df_small_popular = df_small_popular[df_small_popular['game_outcome'] != \"tie\"] # drop ties\n",
    "\n",
    "#calculate winrate by archetype\n",
    "df2 = df_small_popular.groupby(['archetype', 'game_outcome']).size() #get win/loss for major archetypes\n",
    "df2 = df2.groupby(level=0).transform(lambda x: (x / x.sum()).round(2)*100) #get win/loss % for major archetypes\n",
    "df2.drop('loss', level=1, axis=0, inplace=True) #drop loss %\n",
    "df2 = df2.droplevel(level=1) #drop win/loss\n",
    "df2 = df2.to_frame('winrate').reset_index()\n",
    "df2 = df2.sort_values(by='winrate', ascending=False)\n",
    "dfi.export(df2, \"top_archetypes_winrate.png\")"
   ]
  },
  {
   "cell_type": "markdown",
   "id": "545645c1-1dcf-4808-bbfb-0d1b4863a0b5",
   "metadata": {},
   "source": [
    "## generate graphs"
   ]
  },
  {
   "cell_type": "code",
   "execution_count": 37,
   "id": "2f7478ae-797b-414f-806d-c76e6f2c9d70",
   "metadata": {},
   "outputs": [
    {
     "data": {
      "image/png": "[encoded data removed]",
      "text/plain": [
       "<Figure size 144x144 with 1 Axes>"
      ]
     },
     "metadata": {
      "needs_background": "light"
     },
     "output_type": "display_data"
    }
   ],
   "source": [
    "# proportional playrate chart\n",
    "df_x = df[df['archetype'] == top_archetype] # make dataframe of just the best archetype\n",
    "thing = df_x['game_start_time_utc'].str[:10] # just get the dates\n",
    "games_arch = thing.value_counts() # how many games are played per day?\n",
    "games_arch.sort_index(ascending=True, inplace=True) # sort the dates\n",
    "\n",
    "# the total number of games played on any given day\n",
    "_temp = df['game_start_time_utc'].str[:10]\n",
    "_temp = _temp.value_counts()\n",
    "_temp.sort_index(ascending=True, inplace=True)\n",
    "\n",
    "# get % playrate\n",
    "dates = games_arch.divide(_temp)\n",
    "dates = round(dates*100, 3)\n",
    "\n",
    "# plot\n",
    "fig, ax = plt.subplots(figsize=(2,2)) # graph to see if you're missing any dates\n",
    "ax.spines['top'].set_visible(False)\n",
    "ax.spines['right'].set_visible(False)\n",
    "ax.yaxis.set_major_formatter(mtick.PercentFormatter(decimals=1))\n",
    "plt.title(f'{top_archetype} playrate over time \\n{deck_wr0}% Winrate overall')\n",
    "plt.xlabel('Date')\n",
    "plt.ylabel('Proportional playrate')\n",
    "dates.plot(ax=ax, kind='line')\n",
    "plt.savefig(f'archetypePopularity.png', bbox_inches=\"tight\", dpi=200, transparent=True)"
   ]
  },
  {
   "cell_type": "code",
   "execution_count": 38,
   "id": "2a16225d-6e61-4acd-95f4-90cb78b92676",
   "metadata": {},
   "outputs": [
    {
     "data": {
      "image/png": "[encoded data removed]",
      "text/plain": [
       "<Figure size 144x144 with 1 Axes>"
      ]
     },
     "metadata": {
      "needs_background": "light"
     },
     "output_type": "display_data"
    }
   ],
   "source": [
    "df_x = df[df['deck_code'] == deck_code0] # make dataframe of just the best deck\n",
    "thing = pd.to_datetime(df_x['game_start_time_utc'].str[:10]) # just get the dates\n",
    "dates = thing.value_counts() # how many games are played per day?\n",
    "dates.sort_index(ascending=True, inplace=True) # sort the dates\n",
    "\n",
    "fig, ax = plt.subplots(figsize=(2,2)) # graph to see if you're missing any dates\n",
    "ax.spines['top'].set_visible(False)\n",
    "ax.spines['right'].set_visible(False)\n",
    "plt.title(f'Top Deck playrate over time \\n{deck_wr0}% winrate yesterday')\n",
    "plt.xlabel('Date')\n",
    "plt.ylabel('Number of Games')\n",
    "dates.plot(ax=ax, kind='line')\n",
    "plt.savefig(f'deckPopularity.png', bbox_inches=\"tight\", dpi=200, transparent=True)"
   ]
  },
  {
   "cell_type": "markdown",
   "id": "695d7f42-0a43-4b83-a9b6-d21e981c97f5",
   "metadata": {},
   "source": [
    "## Generate html and convert to image"
   ]
  },
  {
   "cell_type": "code",
   "execution_count": 39,
   "id": "a62e2034-2b2e-4e5f-a7e2-9fda690b8cf9",
   "metadata": {},
   "outputs": [],
   "source": [
    "# import jinja2\n",
    "\n",
    "# os.chdir('../best_deck_yesterday') # change directory\n",
    "\n",
    "# #make top 10 archetypes table into html table\n",
    "# _df2 = df2.to_frame('winrate').reset_index()\n",
    "# top_archetype_html = _df2.to_html(classes='table table-stripped', index=False)\n",
    "# text_file = open(\"top-ten-archentypes.html\", \"w\")\n",
    "# text_file.write(top_archetype_html)\n",
    "# text_file.close()\n",
    "\n",
    "# #vars\n",
    "# title = f'What was the best deck on {pdf_yesterday}?'\n",
    "# intro_text = f'I analyzed {pdf_n_games_total} games to discover yesterday\\'s top-performing archetypes and decks'\n",
    "# top_arch_intro = f'{top_archetype} is yesterdays top archetype. <br> Here are the 10 other best archetypes:'\n",
    "# best_deck_intro = 'Here are the best decks from yesterday:'\n",
    "# test = _.to_html(columns=['winrate', 'archetype', 'deck_code'],index=False, justify='left')\n",
    "# graph_intro='This deck is new and this archetype is new'\n",
    "\n",
    "# #make html file\n",
    "# outputfile = 'myfile.html'\n",
    "# subs = jinja2.Environment( \n",
    "#               loader=jinja2.FileSystemLoader('./')      \n",
    "#               ).get_template('best-deck-yesterday.html').render(title=title, \n",
    "#                                                                 intro_text=intro_text, \n",
    "#                                                                 top_archetype_html=top_archetype_html,\n",
    "#                                                                 top_arch_intro=top_arch_intro,\n",
    "#                                                                best_deck_intro=best_deck_intro,\n",
    "#                                                                test=test,\n",
    "#                                                                graph_intro=graph_intro)\n",
    "\n",
    "# # lets write the substitution to a file\n",
    "# with open(outputfile,'w') as f: f.write(subs)"
   ]
  },
  {
   "cell_type": "code",
   "execution_count": 40,
   "id": "8b3a8db8-78e6-4cf4-ac18-7faebc379e54",
   "metadata": {},
   "outputs": [],
   "source": [
    "# pdf = FPDF()\n",
    "\n",
    "# w = 210\n",
    "# h = 297\n",
    "\n",
    "# pdf.add_page()\n",
    "# pdf.set_text_color(50,50,50)\n",
    "# pdf.set_fill_color(252, 237, 218)\n",
    "# pdf.rect(0, 0, 210, 297, 'F')\n",
    "\n",
    "# # logo\n",
    "# pdf.image('logo.png', w-24, 1, w/8)\n",
    "# pdf.image('z.png', w-24, 1, w/8)\n",
    "\n",
    "# #title\n",
    "# pdf.set_font('Arial', 'B', 25)\n",
    "# pdf.ln(10)\n",
    "# pdf.write(5,f'What was the best deck on {pdf_yesterday}?')\n",
    "\n",
    "# #top archetypes\n",
    "# pdf.set_font('Arial', 'B', 10)\n",
    "# pdf.ln(5)\n",
    "# pdf.write(10,f'I analyzed {pdf_n_games_total} games to discover yesterday\\'s top-performing archetypes and decks.')\n",
    "# #png of top 10\n",
    "# pdf.set_font('Arial', 'B', 15)\n",
    "# pdf.ln(10)\n",
    "# pdf.write(10,f'{top_archetype} is yesterday\\'s top archetype.')\n",
    "# pdf.image(\"top_archetypes_winrate.png\", w/2-20, 50, w/3.5)\n",
    "\n",
    "# # top decks\n",
    "# pdf.ln(100)\n",
    "# pdf.set_font('Arial', 'B', 15)\n",
    "# pdf.write(10,f'Here are the best decks in the {df2.index[0]} archetype:')\n",
    "# pdf.ln(10)\n",
    "# pdf.set_font('Arial', 'B', 7.5)\n",
    "# pdf.write(10,f'{deck_wr0}% wr | {deck_code0} \\n{deck_wr1}% wr | {deck_code1} \\n{deck_wr2}% wr | {deck_code2}')\n",
    "# # pdf.write(10,f'{deck_wr_0}% wr | {deck_0} \\n{deck_wr_1}% wr | {deck_1}')#' \\n{deck_wr_2}% wr | {deck_2}')\n",
    "# # pdf.write(10,f'{deck_wr_0}% wr | {deck_0}')#' \\n{deck_wr_1}% wr | {deck_1} \\n{deck_wr_2}% wr | {deck_2}')\n",
    "# pdf.ln(10)\n",
    "# pdf.set_font('Arial', 'B', 6)\n",
    "# pdf.write(7,f'\\t\\t\\t\\t\\t\\t\\t\\t\\t\\t\\t\\t\\t*Each deck must have at least 150 wins to be considered.')\n",
    "\n",
    "# #optimal game length\n",
    "# pdf.ln(10)\n",
    "# pdf.set_font('Arial', 'B', 15)\n",
    "# pdf.write(10,'This archetype used to be good and is making a comeback, and this deck is new to the meta.')\n",
    "# pdf.image('archetypePopularity.png', 10, h-95, w/2.2)\n",
    "\n",
    "# #optimal game length\n",
    "# # pdf.ln(10)\n",
    "# # pdf.set_font('Arial', 'B', 15)\n",
    "# # pdf.write(0,'Has this deck always been popular?')\n",
    "# pdf.image('deckPopularity.png', w/2, h-95, w/2.2)\n",
    "\n",
    "# #export\n",
    "# pdf.output(f'{pdf_yesterday}.pdf', 'F')"
   ]
  },
  {
   "cell_type": "markdown",
   "id": "b25f81eb-c4a8-46c6-a67d-4ead122e4eb0",
   "metadata": {},
   "source": [
    "## Generate Post"
   ]
  },
  {
   "cell_type": "code",
   "execution_count": 41,
   "id": "58a11e76-2489-49c3-9336-d2a16f279455",
   "metadata": {},
   "outputs": [
    {
     "name": "stdout",
     "output_type": "stream",
     "text": [
      "Yesterday's top deck is Miss Fortune Twisted Fate (NX), with a 60% winrate.       \n",
      "Out of 66332 matches analyzed, Miss Fortune Twisted Fate (NX) was played 3946 times (6%). Its top deck was played 1554 times with an overall 60% winrate.       \n",
      "\n",
      "|Winrate|Archetype|Deck Code|      \n",
      "|:-|:-|:-|       \n",
      "|60%|Miss Fortune Twisted Fate (NX)|CICQCAQDAMAQKBQBAEDAMFIEAIDBMGRGHICQCAYCBQHSKKACAEBAMLIBAYDB4AA|       \n",
      "|58%|Akshan Kai'Sa (DE)|CMBQCAQAAIBAIB3HQIAQKBQHA4EASCQOAUAQEAABAECAAAQCAEAASDYCAQDQ2OYCAUAAYDQA|        \n",
      "|57%|Miss Fortune Twisted Fate (NX)|CICACAQDAMAQKBQBAQBAMFQ2EY5AKAIDAIGA6JJIAIAQEBRNAIDAMFI6AEAQMBQ4|      \n",
      "\n",
      "Happy climbing, and all hail [Balco](https://lor-meta.com/) for the data!\n"
     ]
    }
   ],
   "source": [
    "print(f'Yesterday\\'s top deck is {top_archetype}, with a {top_winrate}% winrate. \\\n",
    "      \\nOut of {pdf_n_games_total} matches analyzed, {top_archetype} was played {top_archetype_plays} times ({round((top_archetype_plays/pdf_n_games_total)*100)}%). Its top deck was played {top_deck_n_games} times with an overall {top_winrate}% winrate. \\\n",
    "      \\n\\n|Winrate|Archetype|Deck Code|\\\n",
    "      \\n|:-|:-|:-| \\\n",
    "      \\n|{deck_wr0}%|{deck_archetype0}|{deck_code0}| \\\n",
    "      \\n|{deck_wr1}%|{deck_archetype1}|{deck_code1}|  \\\n",
    "      \\n|{deck_wr2}%|{deck_archetype2}|{deck_code2}|\\\n",
    "      \\n\\nHappy climbing, and all hail [Balco](https://lor-meta.com/) for the data!')"
   ]
  },
  {
   "cell_type": "code",
   "execution_count": 42,
   "id": "0c76b61a-5fae-4855-8864-7cf0365a797c",
   "metadata": {},
   "outputs": [],
   "source": [
    "# print(f'Yesterday\\'s top deck is {top_archetype}, with a {top_winrate}% winrate. \\\n",
    "#       \\nOut of {pdf_n_games_total} matches analyzed, {top_archetype} was played {top_archetype_plays} times ({round((top_archetype_plays/pdf_n_games_total)*100)}%). Its top deck was played {top_deck_n_games} times with an overall {top_winrate}% winrate. \\\n",
    "#       \\n\\n|Winrate|Archetype|Deck Code|\\\n",
    "#       \\n|:-|:-|:-| \\\n",
    "#       \\n|{deck_wr0}%|{deck_archetype0}|{deck_code0}| \\\n",
    "#       \\n|{deck_wr1}%|{deck_archetype1}|{deck_code1}|  \\\n",
    "#       \\n|{deck_wr2}%|{deck_archetype2}|{deck_code2}|\\\n",
    "#       \\n|{deck_wr3}%|{deck_archetype3}|{deck_code3}|  \\\n",
    "#       \\n|{deck_wr4}%|{deck_archetype4}|{deck_code4}|\\\n",
    "#       \\n\\nHappy climbing, and all hail [Balco](https://lor-meta.com/) for the data!')"
   ]
  },
  {
   "cell_type": "code",
   "execution_count": 43,
   "id": "471e3fe0-c785-44c6-9d7f-a14af2dbb772",
   "metadata": {},
   "outputs": [],
   "source": [
    "# print(f'for the mobile homies: \\\n",
    "#     \\n (({deck_code0})) \\\n",
    "#      \\n (({deck_code1})) \\\n",
    "#       \\n (({deck_code2})) \\\n",
    "#         \\n (({deck_code3})) \\\n",
    "#         \\n (({deck_code4}))')"
   ]
  },
  {
   "cell_type": "code",
   "execution_count": 44,
   "id": "847babb8-c90b-4295-be10-8d12b7892f18",
   "metadata": {},
   "outputs": [
    {
     "name": "stdout",
     "output_type": "stream",
     "text": [
      "for the mobile homies:     \n",
      " ((CICQCAQDAMAQKBQBAEDAMFIEAIDBMGRGHICQCAYCBQHSKKACAEBAMLIBAYDB4AA))      \n",
      " ((CMBQCAQAAIBAIB3HQIAQKBQHA4EASCQOAUAQEAABAECAAAQCAEAASDYCAQDQ2OYCAUAAYDQA))         \n",
      " ((CICACAQDAMAQKBQBAQBAMFQ2EY5AKAIDAIGA6JJIAIAQEBRNAIDAMFI6AEAQMBQ4))\n"
     ]
    }
   ],
   "source": [
    "print(f'for the mobile homies: \\\n",
    "    \\n (({deck_code0})) \\\n",
    "     \\n (({deck_code1})) \\\n",
    "        \\n (({deck_code2}))')"
   ]
  },
  {
   "cell_type": "code",
   "execution_count": 45,
   "id": "d19fe7ab-c6ea-481a-adf3-793a07ff96e0",
   "metadata": {},
   "outputs": [
    {
     "data": {
      "text/plain": [
       "'CICQCAIFFAAQEBIKAECAKDYBAYCSWBACAYLSKLZVAUAQCBIBAEBAKCABAQDAEAIGAYTAEAQGE44AEAIBAUMQGAQGDIOSY'"
      ]
     },
     "execution_count": 45,
     "metadata": {},
     "output_type": "execute_result"
    }
   ],
   "source": [
    "_ = pd.merge(df_champ, df_, on=['deck_code'], copy=False).drop_duplicates().reset_index(drop=True)\n",
    "_['deck_code'][5]"
   ]
  },
  {
   "cell_type": "code",
   "execution_count": 46,
   "id": "38582d57-22bc-407b-9890-6fcac1b58906",
   "metadata": {},
   "outputs": [],
   "source": [
    "##"
   ]
  },
  {
   "cell_type": "code",
   "execution_count": 47,
   "id": "442b97f9-64df-4e5b-b220-88ff90ee92da",
   "metadata": {},
   "outputs": [],
   "source": [
    "df_x = df_date[['deck_code', 'player']]"
   ]
  },
  {
   "cell_type": "code",
   "execution_count": 48,
   "id": "2a3b90b4-b641-4789-86a2-f42273579964",
   "metadata": {},
   "outputs": [
    {
     "data": {
      "text/plain": [
       "deck_code                                                                                                                      player          \n",
       "CUFACAIEGYAQEBR4AEBQKBQBAQEQ2AIFAEDACBQCAMAQMAYMAEDAYAQCAIBQGBADAEBQEDBIAAAQCAIDFY                                             Toki#123            66\n",
       "CUFACAIEGYAQEBR4AEBAGAYBAMCQMAIEBEGQCBIBAYAQMAQDAEDAGDABAYGAEAYBAMBAYKABAEBAGBACAEAQGLQBAQBQG                                  ABG Dosar#GAMER     65\n",
       "CQCQCAIEBAAQKCVGAEAQMBRJAIBQMDQUA4BAMCYUDIQS2NZ2AEAQMBQVAIAQEBQSAEDAMHQ                                                        KİNG DRAVEN#TR1     64\n",
       "CQBQGBIKMSSADXYBAMCQIAQOEMCACBAIDE2DUBABAECDKAIDAQKACBQKDYBAKCSGUYAQA                                                          Kodret#moc          57\n",
       "CQBQCAIFFABAKBIIBEDAKCRRHFOV4YVGAEBACAIFAEBAKCQ22UAQEAQFBKMADYABAUAQKDYTCQOS4                                                  PCS ML#4833         56\n",
       "                                                                                                                                                   ..\n",
       "CMDACAIABEAQEAACAECAAAYBAUAAYAYEA4KEY3IDAYDQOCIKAMAQIB2KAECQADQBAYDQ4BABAEAA2AICAACACBAHDQAQMBYI                               cooledcannon#moc     1\n",
       "CMDACAIABUAQEAACAECAO6IBAUAAYAQEAABAGAYGA4DQSCQDAEBAABACAQDUUTACAYDQQCYDAECAOOYBAUAA4AIGA4HA                                   Miley#2694           1\n",
       "CMDACAIABUAQEAAEAECAAAYBAUAAYAQEA5FHSBAGA4DQQCIKAQAQEAACAECAAAQBAYDQWAQEA45UYAA                                                OYan5#EUW            1\n",
       "CMDACAIABUAQEAAEAECAAAYBAUAAYAYEA4GUU6IEAYDQOCAJBIBACBAAAIAQIBZ3AIAQIB2MAIDAOCZE                                               OYan5#EUW            1\n",
       "CEAAMAIBAEZACAQAAEAQEAIGAEBQAAQBAQAAOBQBAAFRIGI2EUTQSAICAACQCBQAEYAQMAI4AIBQABALAIBQCBQWAICQCDANAMAQAAQMDQBQCAIHDMTQGBAABAERA  Raad#5440            1\n",
       "Length: 22729, dtype: int64"
      ]
     },
     "execution_count": 48,
     "metadata": {},
     "output_type": "execute_result"
    }
   ],
   "source": [
    "df_x = df_x.value_counts()\n",
    "df_x"
   ]
  },
  {
   "cell_type": "code",
   "execution_count": null,
   "id": "1ea78467-99dc-47b9-9909-084a15590096",
   "metadata": {},
   "outputs": [],
   "source": []
  },
  {
   "cell_type": "code",
   "execution_count": null,
   "id": "f8e05ef6-ffe7-4e52-b9ae-c9a3ae214443",
   "metadata": {},
   "outputs": [],
   "source": []
  }
 ],
 "metadata": {
  "kernelspec": {
   "display_name": "Python 3",
   "language": "python",
   "name": "python3"
  },
  "language_info": {
   "codemirror_mode": {
    "name": "ipython",
    "version": 3
   },
   "file_extension": ".py",
   "mimetype": "text/x-python",
   "name": "python",
   "nbconvert_exporter": "python",
   "pygments_lexer": "ipython3",
   "version": "3.8.8"
  }
 },
 "nbformat": 4,
 "nbformat_minor": 5
}
