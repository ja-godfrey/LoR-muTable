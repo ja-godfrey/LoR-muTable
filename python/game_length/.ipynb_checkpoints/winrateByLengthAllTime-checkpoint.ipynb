{
 "cells": [
  {
   "cell_type": "code",
   "execution_count": 3,
   "id": "75f20daf-69d8-4aa0-aebe-d1b8786c363f",
   "metadata": {},
   "outputs": [
    {
     "name": "stdout",
     "output_type": "stream",
     "text": [
      "The autotime extension is already loaded. To reload it, use:\n",
      "  %reload_ext autotime\n",
      "time: 0 ns (started: 2022-06-12 00:55:03 -04:00)\n"
     ]
    }
   ],
   "source": [
    "import pandas as pd\n",
    "import seaborn as sns\n",
    "import matplotlib.pyplot as plt\n",
    "import matplotlib.ticker as mtick\n",
    "from datetime import date\n",
    "from datetime import timedelta\n",
    "from fpdf import FPDF\n",
    "from IPython.display import HTML\n",
    "import os\n",
    "import numpy as np\n",
    "from scipy.signal import savgol_filter\n",
    "import glob\n",
    "\n",
    "from dateutil import parser\n",
    "import datetime\n",
    "import dataframe_image as dfi\n",
    "\n",
    "os.chdir('../best_deck_yesterday')\n",
    "%load_ext autotime"
   ]
  },
  {
   "cell_type": "code",
   "execution_count": 29,
   "id": "b11a0d56-c8ad-4236-9c14-6f30ec320dfa",
   "metadata": {},
   "outputs": [
    {
     "name": "stdout",
     "output_type": "stream",
     "text": [
      "time: 11.1 s (started: 2022-06-12 01:01:29 -04:00)\n"
     ]
    }
   ],
   "source": [
    "names = []\n",
    "csvs = glob.glob('../data/derived/previous-patches/*.csv')\n",
    "\n",
    "#make a long df\n",
    "for proj in csvs:\n",
    "    frame = pd.read_csv(proj, usecols=['deck_code', 'game_outcome', 'archetype']).dropna()\n",
    "    names.append(frame)\n",
    "    james = pd.concat(names)"
   ]
  },
  {
   "cell_type": "code",
   "execution_count": 30,
   "id": "0a9b178b-1792-4f71-ac79-7c7b56cdb64f",
   "metadata": {},
   "outputs": [
    {
     "name": "stdout",
     "output_type": "stream",
     "text": [
      "time: 4.25 s (started: 2022-06-12 01:01:40 -04:00)\n"
     ]
    }
   ],
   "source": [
    "one_more = pd.read_csv('../data/raw/lor_ranked_data_all.csv', usecols=['deck_code', 'game_outcome', 'archetype']).dropna()"
   ]
  },
  {
   "cell_type": "code",
   "execution_count": 31,
   "id": "9bed30fb-79fc-4dab-ab02-f8f437dfd59f",
   "metadata": {},
   "outputs": [
    {
     "name": "stdout",
     "output_type": "stream",
     "text": [
      "time: 188 ms (started: 2022-06-12 01:01:44 -04:00)\n"
     ]
    }
   ],
   "source": [
    "df_full = pd.concat([james, one_more])"
   ]
  },
  {
   "cell_type": "code",
   "execution_count": 32,
   "id": "84e88337-24d7-437a-add7-24f7f7a3989c",
   "metadata": {},
   "outputs": [
    {
     "name": "stdout",
     "output_type": "stream",
     "text": [
      "time: 0 ns (started: 2022-06-12 01:01:45 -04:00)\n"
     ]
    }
   ],
   "source": [
    "df_date = df_full\n",
    "df = df_full"
   ]
  },
  {
   "cell_type": "code",
   "execution_count": 33,
   "id": "a30dc8dc-b6ce-4cd0-ab59-fbf8c59f2f03",
   "metadata": {},
   "outputs": [
    {
     "name": "stdout",
     "output_type": "stream",
     "text": [
      "time: 0 ns (started: 2022-06-12 01:01:45 -04:00)\n"
     ]
    }
   ],
   "source": [
    "n = 3"
   ]
  },
  {
   "cell_type": "code",
   "execution_count": 34,
   "id": "1d0496f0-4ba6-43ae-90b3-cfa53ca181d0",
   "metadata": {},
   "outputs": [
    {
     "name": "stdout",
     "output_type": "stream",
     "text": [
      "time: 2.66 s (started: 2022-06-12 01:01:45 -04:00)\n"
     ]
    }
   ],
   "source": [
    "archetypes = df_date['deck_code'].value_counts()\n",
    "archetypes = archetypes[archetypes > n]\n",
    "popular_list = list(archetypes.index)\n",
    "x = df.loc[df['deck_code'].isin(popular_list)]"
   ]
  },
  {
   "cell_type": "code",
   "execution_count": 35,
   "id": "dacbd83f-b341-459d-a9ba-84e7a12ea166",
   "metadata": {},
   "outputs": [
    {
     "name": "stdout",
     "output_type": "stream",
     "text": [
      "time: 1min 30s (started: 2022-06-12 01:01:47 -04:00)\n"
     ]
    }
   ],
   "source": [
    "df_champ = x[x['game_outcome'] != \"tie\"] # get rid of ties\n",
    "df_champ = df_champ.groupby(['deck_code', 'game_outcome']).size() # group deck codes by outcome\n",
    "df_champ = df_champ.groupby(level=0).transform(lambda x: (x / x.sum()).round(3)*100) # get winrate\n",
    "df_champ.drop('loss', level=1, axis=0, inplace=True) # drop losses\n",
    "df_champ = df_champ.droplevel(level=1) # not sure\n",
    "df_champ = df_champ.sort_values(ascending=False) # sort so good stuff at top\n",
    "df_champ = pd.DataFrame({'deck_code':df_champ.index, 'winrate':df_champ.values}) #dataframe w/ column titles"
   ]
  },
  {
   "cell_type": "code",
   "execution_count": 36,
   "id": "8807ceda-05ec-4d18-bcb9-3bbcdd3ec4b4",
   "metadata": {},
   "outputs": [
    {
     "name": "stdout",
     "output_type": "stream",
     "text": [
      "time: 4.2 s (started: 2022-06-12 01:03:17 -04:00)\n"
     ]
    }
   ],
   "source": [
    "df_ = df_date[['deck_code', 'archetype']].copy() # make a dataframe with just the stuff you need\n",
    "_ = pd.merge(df_champ, df_, on=['deck_code'], copy=False).drop_duplicates().reset_index(drop=True)#[:20] # get the archetypes for top decks, drop dupes, reset index, keep top 10"
   ]
  },
  {
   "cell_type": "code",
   "execution_count": 37,
   "id": "9b515470-0351-465c-a009-72ebf1145f93",
   "metadata": {},
   "outputs": [
    {
     "name": "stdout",
     "output_type": "stream",
     "text": [
      "time: 3.11 s (started: 2022-06-12 01:03:22 -04:00)\n"
     ]
    }
   ],
   "source": [
    "z = df_date.value_counts('deck_code')\n",
    "z = pd.DataFrame(z, columns = ['n_games'])\n",
    "_ = _.merge(z, how='inner', on= 'deck_code')"
   ]
  },
  {
   "cell_type": "code",
   "execution_count": 64,
   "id": "c92df641-1c43-4d2d-9f63-38dc11f7a81e",
   "metadata": {},
   "outputs": [
    {
     "name": "stdout",
     "output_type": "stream",
     "text": [
      "time: 16 ms (started: 2022-06-12 01:05:00 -04:00)\n"
     ]
    }
   ],
   "source": [
    "r = _\n",
    "# r_small = r[['winrate', 'n_games']]\n",
    "r_small = r_small[r_small['n_games'] < 1000]"
   ]
  },
  {
   "cell_type": "code",
   "execution_count": 65,
   "id": "f3ad775f-6cc1-4ff1-bbc2-8e8eed8c190d",
   "metadata": {},
   "outputs": [
    {
     "data": {
      "text/plain": [
       "997"
      ]
     },
     "execution_count": 65,
     "metadata": {},
     "output_type": "execute_result"
    },
    {
     "name": "stdout",
     "output_type": "stream",
     "text": [
      "time: 0 ns (started: 2022-06-12 01:05:00 -04:00)\n"
     ]
    }
   ],
   "source": [
    "r_small['n_games'].max()"
   ]
  },
  {
   "cell_type": "code",
   "execution_count": 66,
   "id": "ee9e3163-a02e-4298-b473-dc3e7e615256",
   "metadata": {},
   "outputs": [
    {
     "data": {
      "text/plain": [
       "997"
      ]
     },
     "execution_count": 66,
     "metadata": {},
     "output_type": "execute_result"
    },
    {
     "name": "stdout",
     "output_type": "stream",
     "text": [
      "time: 0 ns (started: 2022-06-12 01:05:00 -04:00)\n"
     ]
    }
   ],
   "source": [
    "poop = r_small\n",
    "poop['n_games'].max()"
   ]
  },
  {
   "cell_type": "code",
   "execution_count": 67,
   "id": "ceb97b95-8d0f-4ec5-b35e-640ae498ca75",
   "metadata": {},
   "outputs": [
    {
     "name": "stdout",
     "output_type": "stream",
     "text": [
      "time: 16 ms (started: 2022-06-12 01:05:01 -04:00)\n"
     ]
    }
   ],
   "source": [
    "s_max = r_small.groupby(['n_games']).max()\n",
    "s_mean = r_small.groupby(['n_games']).mean()\n",
    "s_min = r_small.groupby(['n_games']).min()"
   ]
  },
  {
   "cell_type": "code",
   "execution_count": 68,
   "id": "c8cd52d4-0cb5-4848-ba6c-53b6397d04e2",
   "metadata": {},
   "outputs": [
    {
     "data": {
      "image/png": "[encoded data removed]",
      "text/plain": [
       "<Figure size 432x288 with 1 Axes>"
      ]
     },
     "metadata": {
      "needs_background": "light"
     },
     "output_type": "display_data"
    },
    {
     "name": "stdout",
     "output_type": "stream",
     "text": [
      "time: 188 ms (started: 2022-06-12 01:05:01 -04:00)\n"
     ]
    }
   ],
   "source": [
    "window_len = 75\n",
    "poly_order = 1\n",
    "\n",
    "x = s_max.index\n",
    "yhat = savgol_filter(s_max['winrate'], window_len, poly_order, mode='nearest')\n",
    "\n",
    "x_mean = s_mean.index\n",
    "yhat_mean = savgol_filter(s_mean['winrate'], window_len, poly_order, mode='nearest')\n",
    "\n",
    "x_min = s_min.index\n",
    "yhat_min = savgol_filter(s_min['winrate'], window_len, poly_order, mode='nearest')\n",
    "\n",
    "# plt.plot(x, y)\n",
    "plt.plot(x,yhat, color='red', label=\"maximum win%\")\n",
    "plt.plot(x_mean, yhat_mean, color='blue', label=\"mean win%\")\n",
    "plt.plot(x_min, yhat_min, color='green', label=\"min win%\")\n",
    "plt.title('What is the expected win% for a deck based on sample size?')\n",
    "plt.xlabel('Number of games the deck has played')\n",
    "plt.ylabel('win%')\n",
    "plt.axhline(y=50, color='y', linestyle='--')\n",
    "plt.legend()\n",
    "plt.show()\n",
    "# plt.savefig('../game_length/winrateByLengthMultiplePatches.png', dpi=600)"
   ]
  },
  {
   "cell_type": "code",
   "execution_count": 69,
   "id": "4eba532c-c3aa-4ad4-81e3-b6e7df180cb3",
   "metadata": {},
   "outputs": [
    {
     "data": {
      "image/png": "[encoded data removed]",
      "text/plain": [
       "<Figure size 432x288 with 1 Axes>"
      ]
     },
     "metadata": {
      "needs_background": "light"
     },
     "output_type": "display_data"
    },
    {
     "name": "stdout",
     "output_type": "stream",
     "text": [
      "time: 172 ms (started: 2022-06-12 01:05:03 -04:00)\n"
     ]
    }
   ],
   "source": [
    "window_len = 75\n",
    "poly_order = 1\n",
    "\n",
    "x = s_max.index\n",
    "# yhat = savgol_filter(s_max['winrate'], window_len, poly_order, mode='nearest')\n",
    "yhat = s_max['winrate']\n",
    "\n",
    "x_mean = s_mean.index\n",
    "# yhat_mean = savgol_filter(s_mean['winrate'], window_len, poly_order, mode='nearest')\n",
    "yhat_mean = s_mean['winrate']\n",
    "\n",
    "x_min = s_min.index\n",
    "# yhat_min = savgol_filter(s_min['winrate'], window_len, poly_order, mode='nearest')\n",
    "yhat_min = s_min['winrate']\n",
    "\n",
    "# plt.plot(x, y)\n",
    "plt.plot(x,yhat, color='red', label=\"maximum win%\")\n",
    "plt.plot(x_mean, yhat_mean, color='blue', label=\"mean win%\")\n",
    "plt.plot(x_min, yhat_min, color='green', label=\"min win%\")\n",
    "plt.title('What is the expected win% for a deck based on sample size?')\n",
    "plt.xlabel('Number of games the deck has played')\n",
    "plt.ylabel('win%')\n",
    "plt.axhline(y=50, color='y', linestyle='--')\n",
    "plt.legend()\n",
    "plt.show()\n",
    "# plt.savefig('../game_length/winrateByLengthFullPatchUnsmooth.png', dpi=600)"
   ]
  },
  {
   "cell_type": "code",
   "execution_count": 44,
   "id": "bd8aaaa4-810d-414c-9043-cf3552c100d4",
   "metadata": {},
   "outputs": [
    {
     "data": {
      "text/plain": [
       "712"
      ]
     },
     "execution_count": 44,
     "metadata": {},
     "output_type": "execute_result"
    },
    {
     "name": "stdout",
     "output_type": "stream",
     "text": [
      "time: 0 ns (started: 2022-06-12 01:03:26 -04:00)\n"
     ]
    }
   ],
   "source": [
    "len(yhat)"
   ]
  },
  {
   "cell_type": "code",
   "execution_count": 45,
   "id": "b2b0a79a-98eb-47cf-a71f-6f34f6cfb2a4",
   "metadata": {},
   "outputs": [
    {
     "ename": "NameError",
     "evalue": "name 'y' is not defined",
     "output_type": "error",
     "traceback": [
      "\u001b[1;31m---------------------------------------------------------------------------\u001b[0m",
      "\u001b[1;31mNameError\u001b[0m                                 Traceback (most recent call last)",
      "\u001b[1;32m<ipython-input-45-24c1855bc88d>\u001b[0m in \u001b[0;36m<module>\u001b[1;34m\u001b[0m\n\u001b[1;32m----> 1\u001b[1;33m \u001b[0mlen\u001b[0m\u001b[1;33m(\u001b[0m\u001b[0my\u001b[0m\u001b[1;33m)\u001b[0m\u001b[1;33m\u001b[0m\u001b[1;33m\u001b[0m\u001b[0m\n\u001b[0m",
      "\u001b[1;31mNameError\u001b[0m: name 'y' is not defined"
     ]
    },
    {
     "name": "stdout",
     "output_type": "stream",
     "text": [
      "time: 15 ms (started: 2022-06-12 01:03:26 -04:00)\n"
     ]
    }
   ],
   "source": [
    "len(y)"
   ]
  },
  {
   "cell_type": "code",
   "execution_count": null,
   "id": "137ef990-402a-419e-a407-34fd24612eee",
   "metadata": {},
   "outputs": [],
   "source": []
  },
  {
   "cell_type": "code",
   "execution_count": 76,
   "id": "7b966d20-8fa7-4d5d-9593-156a702f0e82",
   "metadata": {},
   "outputs": [
    {
     "name": "stdout",
     "output_type": "stream",
     "text": [
      "time: 31 ms (started: 2022-06-12 01:06:48 -04:00)\n"
     ]
    }
   ],
   "source": [
    "lmao = _.sort_values(by='n_games', ascending=False)"
   ]
  },
  {
   "cell_type": "code",
   "execution_count": 77,
   "id": "1cc1693b-c2a8-4eb0-9b8f-972dcfb8dc4c",
   "metadata": {},
   "outputs": [
    {
     "name": "stdout",
     "output_type": "stream",
     "text": [
      "time: 922 ms (started: 2022-06-12 01:07:02 -04:00)\n"
     ]
    }
   ],
   "source": [
    "lmao.to_csv('lmao.csv')"
   ]
  },
  {
   "cell_type": "code",
   "execution_count": 78,
   "id": "3fa0cf3b-75a1-40ba-88d0-8731d6552a20",
   "metadata": {},
   "outputs": [
    {
     "data": {
      "text/html": [
       "<div>\n",
       "<style scoped>\n",
       "    .dataframe tbody tr th:only-of-type {\n",
       "        vertical-align: middle;\n",
       "    }\n",
       "\n",
       "    .dataframe tbody tr th {\n",
       "        vertical-align: top;\n",
       "    }\n",
       "\n",
       "    .dataframe thead th {\n",
       "        text-align: right;\n",
       "    }\n",
       "</style>\n",
       "<table border=\"1\" class=\"dataframe\">\n",
       "  <thead>\n",
       "    <tr style=\"text-align: right;\">\n",
       "      <th></th>\n",
       "      <th>deck_code</th>\n",
       "      <th>winrate</th>\n",
       "      <th>archetype</th>\n",
       "      <th>n_games</th>\n",
       "    </tr>\n",
       "  </thead>\n",
       "  <tbody>\n",
       "    <tr>\n",
       "      <th>81388</th>\n",
       "      <td>CQBQCAYABYAQIAACBECQUIDPOB2IKANGAGXQDNYB3EAQEA...</td>\n",
       "      <td>55.1</td>\n",
       "      <td>Teemo Tristana Gnar (DE)</td>\n",
       "      <td>68866</td>\n",
       "    </tr>\n",
       "    <tr>\n",
       "      <th>88281</th>\n",
       "      <td>CQDACAIBAMAQCBBNAEBQCBQBAUCBQAQEAQFBAAQFBKMADI...</td>\n",
       "      <td>53.1</td>\n",
       "      <td>Trundle Gnar (PZ)</td>\n",
       "      <td>44168</td>\n",
       "    </tr>\n",
       "    <tr>\n",
       "      <th>81990</th>\n",
       "      <td>CIDACAQAAYAQGAAOAIBAMFR6AICAAAQHAICQACQMAQAQAB...</td>\n",
       "      <td>54.8</td>\n",
       "      <td>Miss Fortune Quinn</td>\n",
       "      <td>38688</td>\n",
       "    </tr>\n",
       "    <tr>\n",
       "      <th>92453</th>\n",
       "      <td>CEDACAIDFYAQEAYJAEBQGDIBAMCBCAYBAQPSINAEAUCAMD...</td>\n",
       "      <td>51.3</td>\n",
       "      <td>Ezreal Caitlyn (NX)</td>\n",
       "      <td>31266</td>\n",
       "    </tr>\n",
       "    <tr>\n",
       "      <th>87100</th>\n",
       "      <td>CQCQCAIABEAQGAAOAECQUHIDAMERWIZTAMCQSAYFAYCACA...</td>\n",
       "      <td>53.3</td>\n",
       "      <td>Yuumi Pantheon (DE)</td>\n",
       "      <td>25993</td>\n",
       "    </tr>\n",
       "    <tr>\n",
       "      <th>...</th>\n",
       "      <td>...</td>\n",
       "      <td>...</td>\n",
       "      <td>...</td>\n",
       "      <td>...</td>\n",
       "    </tr>\n",
       "    <tr>\n",
       "      <th>97088</th>\n",
       "      <td>CQBQCAIDG4AQEAYJAUCQU5EEAGTADLYBYIAQEAIDAMGQOB...</td>\n",
       "      <td>50.0</td>\n",
       "      <td>Poppy Kennen Gnar (BC NX)</td>\n",
       "      <td>4</td>\n",
       "    </tr>\n",
       "    <tr>\n",
       "      <th>97087</th>\n",
       "      <td>CQBQCAIDG4AQEAYJAUCQU5EEAGTADLYBYIAQEAIDAMGQOB...</td>\n",
       "      <td>50.0</td>\n",
       "      <td>No Champions (BC NX)</td>\n",
       "      <td>4</td>\n",
       "    </tr>\n",
       "    <tr>\n",
       "      <th>97086</th>\n",
       "      <td>CQBQCAIDG4AQEAYJAUCQU5EEAGTADQQBYYAQEAIDAMGQQB...</td>\n",
       "      <td>50.0</td>\n",
       "      <td>Poppy Kennen Gnar (BC NX)</td>\n",
       "      <td>4</td>\n",
       "    </tr>\n",
       "    <tr>\n",
       "      <th>97085</th>\n",
       "      <td>CEBQGAIFAMYTIAYCAMBQIBIFAEBQYDZFEY3QGAIBAMBACA...</td>\n",
       "      <td>50.0</td>\n",
       "      <td>Darius Thresh</td>\n",
       "      <td>4</td>\n",
       "    </tr>\n",
       "    <tr>\n",
       "      <th>0</th>\n",
       "      <td>CECACAIBGIAQCBJIAECACDQDAMAQMCQWAQAQIAIKAIAQKA...</td>\n",
       "      <td>100.0</td>\n",
       "      <td>Tryndamere Trundle (SI)</td>\n",
       "      <td>4</td>\n",
       "    </tr>\n",
       "  </tbody>\n",
       "</table>\n",
       "<p>211118 rows × 4 columns</p>\n",
       "</div>"
      ],
      "text/plain": [
       "                                               deck_code  winrate  \\\n",
       "81388  CQBQCAYABYAQIAACBECQUIDPOB2IKANGAGXQDNYB3EAQEA...     55.1   \n",
       "88281  CQDACAIBAMAQCBBNAEBQCBQBAUCBQAQEAQFBAAQFBKMADI...     53.1   \n",
       "81990  CIDACAQAAYAQGAAOAIBAMFR6AICAAAQHAICQACQMAQAQAB...     54.8   \n",
       "92453  CEDACAIDFYAQEAYJAEBQGDIBAMCBCAYBAQPSINAEAUCAMD...     51.3   \n",
       "87100  CQCQCAIABEAQGAAOAECQUHIDAMERWIZTAMCQSAYFAYCACA...     53.3   \n",
       "...                                                  ...      ...   \n",
       "97088  CQBQCAIDG4AQEAYJAUCQU5EEAGTADLYBYIAQEAIDAMGQOB...     50.0   \n",
       "97087  CQBQCAIDG4AQEAYJAUCQU5EEAGTADLYBYIAQEAIDAMGQOB...     50.0   \n",
       "97086  CQBQCAIDG4AQEAYJAUCQU5EEAGTADQQBYYAQEAIDAMGQQB...     50.0   \n",
       "97085  CEBQGAIFAMYTIAYCAMBQIBIFAEBQYDZFEY3QGAIBAMBACA...     50.0   \n",
       "0      CECACAIBGIAQCBJIAECACDQDAMAQMCQWAQAQIAIKAIAQKA...    100.0   \n",
       "\n",
       "                       archetype  n_games  \n",
       "81388   Teemo Tristana Gnar (DE)    68866  \n",
       "88281          Trundle Gnar (PZ)    44168  \n",
       "81990         Miss Fortune Quinn    38688  \n",
       "92453        Ezreal Caitlyn (NX)    31266  \n",
       "87100        Yuumi Pantheon (DE)    25993  \n",
       "...                          ...      ...  \n",
       "97088  Poppy Kennen Gnar (BC NX)        4  \n",
       "97087       No Champions (BC NX)        4  \n",
       "97086  Poppy Kennen Gnar (BC NX)        4  \n",
       "97085              Darius Thresh        4  \n",
       "0        Tryndamere Trundle (SI)        4  \n",
       "\n",
       "[211118 rows x 4 columns]"
      ]
     },
     "execution_count": 78,
     "metadata": {},
     "output_type": "execute_result"
    },
    {
     "name": "stdout",
     "output_type": "stream",
     "text": [
      "time: 0 ns (started: 2022-06-12 01:10:12 -04:00)\n"
     ]
    }
   ],
   "source": [
    "lmao"
   ]
  },
  {
   "cell_type": "code",
   "execution_count": 82,
   "id": "43e16ff4-5e5e-4dc9-86df-80a847ffee97",
   "metadata": {},
   "outputs": [
    {
     "data": {
      "text/html": [
       "<div>\n",
       "<style scoped>\n",
       "    .dataframe tbody tr th:only-of-type {\n",
       "        vertical-align: middle;\n",
       "    }\n",
       "\n",
       "    .dataframe tbody tr th {\n",
       "        vertical-align: top;\n",
       "    }\n",
       "\n",
       "    .dataframe thead th {\n",
       "        text-align: right;\n",
       "    }\n",
       "</style>\n",
       "<table border=\"1\" class=\"dataframe\">\n",
       "  <thead>\n",
       "    <tr style=\"text-align: right;\">\n",
       "      <th></th>\n",
       "      <th>index</th>\n",
       "      <th>deck_code</th>\n",
       "      <th>winrate</th>\n",
       "      <th>archetype</th>\n",
       "      <th>n_games</th>\n",
       "    </tr>\n",
       "  </thead>\n",
       "  <tbody>\n",
       "    <tr>\n",
       "      <th>0</th>\n",
       "      <td>81388</td>\n",
       "      <td>CQBQCAYABYAQIAACBECQUIDPOB2IKANGAGXQDNYB3EAQEA...</td>\n",
       "      <td>55.1</td>\n",
       "      <td>Teemo Tristana Gnar (DE)</td>\n",
       "      <td>68866</td>\n",
       "    </tr>\n",
       "    <tr>\n",
       "      <th>1</th>\n",
       "      <td>88281</td>\n",
       "      <td>CQDACAIBAMAQCBBNAEBQCBQBAUCBQAQEAQFBAAQFBKMADI...</td>\n",
       "      <td>53.1</td>\n",
       "      <td>Trundle Gnar (PZ)</td>\n",
       "      <td>44168</td>\n",
       "    </tr>\n",
       "    <tr>\n",
       "      <th>2</th>\n",
       "      <td>81990</td>\n",
       "      <td>CIDACAQAAYAQGAAOAIBAMFR6AICAAAQHAICQACQMAQAQAB...</td>\n",
       "      <td>54.8</td>\n",
       "      <td>Miss Fortune Quinn</td>\n",
       "      <td>38688</td>\n",
       "    </tr>\n",
       "    <tr>\n",
       "      <th>3</th>\n",
       "      <td>92453</td>\n",
       "      <td>CEDACAIDFYAQEAYJAEBQGDIBAMCBCAYBAQPSINAEAUCAMD...</td>\n",
       "      <td>51.3</td>\n",
       "      <td>Ezreal Caitlyn (NX)</td>\n",
       "      <td>31266</td>\n",
       "    </tr>\n",
       "    <tr>\n",
       "      <th>4</th>\n",
       "      <td>87100</td>\n",
       "      <td>CQCQCAIABEAQGAAOAECQUHIDAMERWIZTAMCQSAYFAYCACA...</td>\n",
       "      <td>53.3</td>\n",
       "      <td>Yuumi Pantheon (DE)</td>\n",
       "      <td>25993</td>\n",
       "    </tr>\n",
       "    <tr>\n",
       "      <th>...</th>\n",
       "      <td>...</td>\n",
       "      <td>...</td>\n",
       "      <td>...</td>\n",
       "      <td>...</td>\n",
       "      <td>...</td>\n",
       "    </tr>\n",
       "    <tr>\n",
       "      <th>211113</th>\n",
       "      <td>97088</td>\n",
       "      <td>CQBQCAIDG4AQEAYJAUCQU5EEAGTADLYBYIAQEAIDAMGQOB...</td>\n",
       "      <td>50.0</td>\n",
       "      <td>Poppy Kennen Gnar (BC NX)</td>\n",
       "      <td>4</td>\n",
       "    </tr>\n",
       "    <tr>\n",
       "      <th>211114</th>\n",
       "      <td>97087</td>\n",
       "      <td>CQBQCAIDG4AQEAYJAUCQU5EEAGTADLYBYIAQEAIDAMGQOB...</td>\n",
       "      <td>50.0</td>\n",
       "      <td>No Champions (BC NX)</td>\n",
       "      <td>4</td>\n",
       "    </tr>\n",
       "    <tr>\n",
       "      <th>211115</th>\n",
       "      <td>97086</td>\n",
       "      <td>CQBQCAIDG4AQEAYJAUCQU5EEAGTADQQBYYAQEAIDAMGQQB...</td>\n",
       "      <td>50.0</td>\n",
       "      <td>Poppy Kennen Gnar (BC NX)</td>\n",
       "      <td>4</td>\n",
       "    </tr>\n",
       "    <tr>\n",
       "      <th>211116</th>\n",
       "      <td>97085</td>\n",
       "      <td>CEBQGAIFAMYTIAYCAMBQIBIFAEBQYDZFEY3QGAIBAMBACA...</td>\n",
       "      <td>50.0</td>\n",
       "      <td>Darius Thresh</td>\n",
       "      <td>4</td>\n",
       "    </tr>\n",
       "    <tr>\n",
       "      <th>211117</th>\n",
       "      <td>0</td>\n",
       "      <td>CECACAIBGIAQCBJIAECACDQDAMAQMCQWAQAQIAIKAIAQKA...</td>\n",
       "      <td>100.0</td>\n",
       "      <td>Tryndamere Trundle (SI)</td>\n",
       "      <td>4</td>\n",
       "    </tr>\n",
       "  </tbody>\n",
       "</table>\n",
       "<p>211118 rows × 5 columns</p>\n",
       "</div>"
      ],
      "text/plain": [
       "        index                                          deck_code  winrate  \\\n",
       "0       81388  CQBQCAYABYAQIAACBECQUIDPOB2IKANGAGXQDNYB3EAQEA...     55.1   \n",
       "1       88281  CQDACAIBAMAQCBBNAEBQCBQBAUCBQAQEAQFBAAQFBKMADI...     53.1   \n",
       "2       81990  CIDACAQAAYAQGAAOAIBAMFR6AICAAAQHAICQACQMAQAQAB...     54.8   \n",
       "3       92453  CEDACAIDFYAQEAYJAEBQGDIBAMCBCAYBAQPSINAEAUCAMD...     51.3   \n",
       "4       87100  CQCQCAIABEAQGAAOAECQUHIDAMERWIZTAMCQSAYFAYCACA...     53.3   \n",
       "...       ...                                                ...      ...   \n",
       "211113  97088  CQBQCAIDG4AQEAYJAUCQU5EEAGTADLYBYIAQEAIDAMGQOB...     50.0   \n",
       "211114  97087  CQBQCAIDG4AQEAYJAUCQU5EEAGTADLYBYIAQEAIDAMGQOB...     50.0   \n",
       "211115  97086  CQBQCAIDG4AQEAYJAUCQU5EEAGTADQQBYYAQEAIDAMGQQB...     50.0   \n",
       "211116  97085  CEBQGAIFAMYTIAYCAMBQIBIFAEBQYDZFEY3QGAIBAMBACA...     50.0   \n",
       "211117      0  CECACAIBGIAQCBJIAECACDQDAMAQMCQWAQAQIAIKAIAQKA...    100.0   \n",
       "\n",
       "                        archetype  n_games  \n",
       "0        Teemo Tristana Gnar (DE)    68866  \n",
       "1               Trundle Gnar (PZ)    44168  \n",
       "2              Miss Fortune Quinn    38688  \n",
       "3             Ezreal Caitlyn (NX)    31266  \n",
       "4             Yuumi Pantheon (DE)    25993  \n",
       "...                           ...      ...  \n",
       "211113  Poppy Kennen Gnar (BC NX)        4  \n",
       "211114       No Champions (BC NX)        4  \n",
       "211115  Poppy Kennen Gnar (BC NX)        4  \n",
       "211116              Darius Thresh        4  \n",
       "211117    Tryndamere Trundle (SI)        4  \n",
       "\n",
       "[211118 rows x 5 columns]"
      ]
     },
     "execution_count": 82,
     "metadata": {},
     "output_type": "execute_result"
    },
    {
     "name": "stdout",
     "output_type": "stream",
     "text": [
      "time: 31 ms (started: 2022-06-12 01:11:34 -04:00)\n"
     ]
    }
   ],
   "source": [
    "lmao.reset_index()"
   ]
  },
  {
   "cell_type": "code",
   "execution_count": null,
   "id": "17933821-0451-453a-885d-117b92ee5ca2",
   "metadata": {},
   "outputs": [],
   "source": [
    "df_full"
   ]
  },
  {
   "cell_type": "code",
   "execution_count": null,
   "id": "4e4bc294-6163-45d9-9f9e-c292994f8bec",
   "metadata": {},
   "outputs": [],
   "source": []
  },
  {
   "cell_type": "code",
   "execution_count": null,
   "id": "f8c08057-05bb-4ced-b08a-d3bacdbce317",
   "metadata": {
    "tags": []
   },
   "outputs": [],
   "source": [
    "stack = df_full.stack(level=0)\n",
    "counter=stack.value_counts()\n",
    "plt.bar(counter.index,counter.values)"
   ]
  },
  {
   "cell_type": "code",
   "execution_count": null,
   "id": "da9e1f2f-6058-4cc2-a5b0-a75fc9e25204",
   "metadata": {},
   "outputs": [],
   "source": []
  }
 ],
 "metadata": {
  "kernelspec": {
   "display_name": "Python 3",
   "language": "python",
   "name": "python3"
  },
  "language_info": {
   "codemirror_mode": {
    "name": "ipython",
    "version": 3
   },
   "file_extension": ".py",
   "mimetype": "text/x-python",
   "name": "python",
   "nbconvert_exporter": "python",
   "pygments_lexer": "ipython3",
   "version": "3.8.8"
  }
 },
 "nbformat": 4,
 "nbformat_minor": 5
}
