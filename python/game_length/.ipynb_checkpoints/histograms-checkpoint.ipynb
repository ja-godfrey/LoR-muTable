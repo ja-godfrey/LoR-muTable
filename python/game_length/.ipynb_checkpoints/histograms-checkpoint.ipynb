{
 "cells": [
  {
   "cell_type": "markdown",
   "id": "030c5fb7-e921-4217-b288-23dc124ac427",
   "metadata": {},
   "source": [
    "## When do archetypes win?"
   ]
  },
  {
   "cell_type": "code",
   "execution_count": 6,
   "id": "82a2fc0c-b06d-46ca-82c0-4d788050dd93",
   "metadata": {},
   "outputs": [],
   "source": [
    "import pandas as pd\n",
    "import seaborn as sns\n",
    "import matplotlib.pyplot as plt"
   ]
  },
  {
   "cell_type": "code",
   "execution_count": 50,
   "id": "05d7612e-41e0-4e02-8058-cd5b38fea25a",
   "metadata": {},
   "outputs": [],
   "source": [
    "df = pd.read_csv(r'./../data/raw/lor_ranked_data_all.csv') # read in the data"
   ]
  },
  {
   "cell_type": "code",
   "execution_count": 53,
   "id": "ecde420a-6f62-4b4c-b3cd-ecda163c4f24",
   "metadata": {},
   "outputs": [],
   "source": [
    "#clean data\n",
    "df_small = df[['game_outcome', 'total_turn_count', 'archetype']] # only keep what you need\n",
    "archetypes = df['archetype'].value_counts() # find the unique archetypes being played\n",
    "archetypes = archetypes[archetypes > 10000] #only keep popular archetypes ##################################################################################\n",
    "popular_list = list(archetypes.index) # make a list of popular archetypes\n",
    "df_small = df_small.loc[df['archetype'].isin(popular_list)] # filter df to only keep popular archetypes\n",
    "df_small = df_small[df_small['game_outcome'] != \"tie\"] # drop ties"
   ]
  },
  {
   "cell_type": "code",
   "execution_count": 54,
   "id": "894bf709-e5db-4b5b-85e9-c79c8a8ef6b1",
   "metadata": {},
   "outputs": [],
   "source": [
    "#calculate winrate by archetype\n",
    "df2 = df_small.groupby(['archetype', 'game_outcome']).size() #get win/loss for major archetypes\n",
    "df2 = df2.groupby(level=0).transform(lambda x: (x / x.sum()).round(2)*100) #get win/loss % for major archetypes\n",
    "df2.drop('loss', level=1, axis=0, inplace=True) #drop loss %\n",
    "df2 = df2.droplevel(level=1) #drop win/loss"
   ]
  },
  {
   "cell_type": "code",
   "execution_count": 56,
   "id": "2cfd5e35-a862-4e7b-801b-467f02ea633c",
   "metadata": {
    "tags": []
   },
   "outputs": [
    {
     "data": {
      "text/plain": [
       "<Figure size 432x288 with 0 Axes>"
      ]
     },
     "metadata": {},
     "output_type": "display_data"
    },
    {
     "data": {
      "text/plain": [
       "<Figure size 432x288 with 0 Axes>"
      ]
     },
     "metadata": {},
     "output_type": "display_data"
    },
    {
     "data": {
      "text/plain": [
       "<Figure size 432x288 with 0 Axes>"
      ]
     },
     "metadata": {},
     "output_type": "display_data"
    },
    {
     "data": {
      "text/plain": [
       "<Figure size 432x288 with 0 Axes>"
      ]
     },
     "metadata": {},
     "output_type": "display_data"
    },
    {
     "data": {
      "text/plain": [
       "<Figure size 432x288 with 0 Axes>"
      ]
     },
     "metadata": {},
     "output_type": "display_data"
    },
    {
     "data": {
      "text/plain": [
       "<Figure size 432x288 with 0 Axes>"
      ]
     },
     "metadata": {},
     "output_type": "display_data"
    },
    {
     "data": {
      "text/plain": [
       "<Figure size 432x288 with 0 Axes>"
      ]
     },
     "metadata": {},
     "output_type": "display_data"
    },
    {
     "data": {
      "text/plain": [
       "<Figure size 432x288 with 0 Axes>"
      ]
     },
     "metadata": {},
     "output_type": "display_data"
    },
    {
     "data": {
      "text/plain": [
       "<Figure size 432x288 with 0 Axes>"
      ]
     },
     "metadata": {},
     "output_type": "display_data"
    },
    {
     "data": {
      "text/plain": [
       "<Figure size 432x288 with 0 Axes>"
      ]
     },
     "metadata": {},
     "output_type": "display_data"
    },
    {
     "data": {
      "text/plain": [
       "<Figure size 432x288 with 0 Axes>"
      ]
     },
     "metadata": {},
     "output_type": "display_data"
    },
    {
     "data": {
      "text/plain": [
       "<Figure size 432x288 with 0 Axes>"
      ]
     },
     "metadata": {},
     "output_type": "display_data"
    }
   ],
   "source": [
    "#build graphs\n",
    "for i in popular_list:\n",
    "    thing = [i]\n",
    "    df_x = df_small.loc[(df_small['archetype'].isin(thing))]\n",
    "    winrate = int(df2.at[i])\n",
    "    plt.figure()\n",
    "    sns.histplot(x=df_x['total_turn_count'], hue=df_small['game_outcome'], bins=30, binwidth=3)\n",
    "    plt.title(f'Optimal game length for {i}. \\n{winrate}% Winrate')\n",
    "    plt.xlabel('Total Turns')\n",
    "    plt.ylabel('Number of Games Analyzed')\n",
    "    plt.legend(title=\"Outcome\", labels=['win', 'loss'], frameon=False)\n",
    "    plt.savefig(f'./wk02/0-{winrate}-{i}.png', bbox_inches=\"tight\", dpi=600, transparent=True)\n",
    "    plt.clf() # uncomment this to display figures in notebook"
   ]
  },
  {
   "cell_type": "code",
   "execution_count": 55,
   "id": "3bc86713-fac9-44ba-adf7-ab7b7c7bb036",
   "metadata": {},
   "outputs": [
    {
     "data": {
      "text/plain": [
       "archetype\n",
       "Miss Fortune Quinn           55\n",
       "Fizz Gnar (BC PZ)            54\n",
       "Gnar Ziggs (BC NX)           54\n",
       "Trundle Gnar (PZ)            54\n",
       "Yuumi Pantheon (DE)          54\n",
       "Akshan Gnar (BC)             53\n",
       "Poppy Kennen Gnar (BC NX)    53\n",
       "Veigar Senna (BC)            53\n",
       "Pyke Rek'Sai                 52\n",
       "dtype: int64"
      ]
     },
     "execution_count": 55,
     "metadata": {},
     "output_type": "execute_result"
    }
   ],
   "source": [
    "#top 10 archetypes\n",
    "df2.sort_values(ascending=False, inplace=True)\n",
    "df2[:9]"
   ]
  },
  {
   "cell_type": "markdown",
   "id": "d8d6e3a2-8056-4103-89fb-6eb9971ba1d4",
   "metadata": {},
   "source": [
    "# Spicy decks from date X"
   ]
  },
  {
   "cell_type": "code",
   "execution_count": 24,
   "id": "d1c58408-8504-4ee8-abe4-e73be59acb12",
   "metadata": {},
   "outputs": [],
   "source": [
    "date = '2022-02-24'\n",
    "n = 200\n",
    "df_date = df[df['game_start_time_utc'] > date] # insert date X"
   ]
  },
  {
   "cell_type": "code",
   "execution_count": 25,
   "id": "5c08085e-fa84-47e7-b583-93aee5d058cf",
   "metadata": {},
   "outputs": [],
   "source": [
    "#clean data\n",
    "df_small = df_date[['game_outcome', 'total_turn_count', 'deck_code']] # only keep what you need\n",
    "archetypes = df_date['deck_code'].value_counts() # find the unique archetypes being played\n",
    "archetypes = archetypes[archetypes > n] #only keep popular archetypes\n",
    "popular_list = list(archetypes.index) # make a list of popular archetypes\n",
    "df_small = df_small.loc[df['deck_code'].isin(popular_list)] # filter df to only keep popular archetypes\n",
    "df_small = df_small[df_small['game_outcome'] != \"tie\"] # drop ties"
   ]
  },
  {
   "cell_type": "code",
   "execution_count": 26,
   "id": "702acc4b-d1fd-4088-af9b-cf9e32de339f",
   "metadata": {},
   "outputs": [],
   "source": [
    "#calculate winrate by archetype\n",
    "df2 = df_small.groupby(['deck_code', 'game_outcome']).size() #get win/loss for major archetypes\n",
    "df2 = df2.groupby(level=0).transform(lambda x: (x / x.sum()).round(2)*100) #get win/loss % for major archetypes\n",
    "df2.drop('loss', level=1, axis=0, inplace=True) #drop loss %\n",
    "df2 = df2.droplevel(level=1) #drop win/loss"
   ]
  },
  {
   "cell_type": "code",
   "execution_count": 33,
   "id": "8ea09052-0d50-43a3-85c5-13e77e35b710",
   "metadata": {},
   "outputs": [
    {
     "data": {
      "text/plain": [
       "deck_code\n",
       "CQCQCAYABYAQIAACAECQUHIDAUEQGBIGAQBQSGZDGNOAGAICAAAQCBIJBIBACAAJDIBACAIABUAQGCOXAE                            58.0\n",
       "CQBQEAQDAMCAIAIDAIGCQNYHAUFAODRRJGQQDIYBUYAQAAIBAEBSK                                                         58.0\n",
       "CQBAKBAHG45V2Z4CAECQKCRRSEA2CANGAGYQCAQCAUFETVIBAMCAOAJWRIAQA                                                 58.0\n",
       "CIBQCAQBAIAQKAIGAYBAMCZAEEWTUPAEAEBQMCABAQDAUAIFAYAQIAQGAIKCEJQCAEBAMEQBAMARM                                 57.0\n",
       "CQEACAQBAYAQEAYFAEBQCAQBAUFKCAIBAUAQMAIFAMHQEAIBCYPQIAIDBMGCMKACAEAQCBIBAEBQ2AA                               56.0\n",
       "CQDACAIBAMAQCBBNAEBQCBQBAQCAUAIFAQMAEBIKTAA2CAIFAECACDABAQCBAAQBAEFTEAQBAQNTIAQDAEBAGAYBAECCOAIDAQFQCBABBI    56.0\n",
       "CQBQEAQDAMCAIAIDAIGCQNYHAUFAODRRJGQQDIYBUYAQAAIBAEBQ6                                                         56.0\n",
       "CQBQCAYABYAQIAACBECQUIDPOB2IKANGAGXQDNYB3EAQEAICAADQEBIKQQA2CAIBAEAQICA                                       56.0\n",
       "CIDACAQAAYAQGAAOAECAAAQCAIDBMPQCAUAAUDAEAEAAMCI5GMBQCAQAA4AQIAAHAECQMAIBAEBAACQ                               56.0\n",
       "CIDACAQAAYAQGAAOAIBAMFR6AICAAAQHAICQACQMAQAQABQJDUZQCAIFAYAQCAQCAADQU                                         56.0\n",
       "CMCACAIABEAQGAAOAECQADAEAQDRINTHQIAQIAICAAAQCBAAAIBQCAAGB4OQGBAHLWAQDCQBAMAQCAA2AECAAAYBAQDQ2                 56.0\n",
       "CQDACBAECAAQKCSYAECQGDICAMCAKEQDAECCOLJUAQAQGAQLCMKACAIFAMDAEAIDAMHQCBIDBE                                    55.0\n",
       "CMBQCAYABYBACAAJDUCQIBYUM6AADAIBQIAQIAIBAANACAQAAEAQIAACAQCAODJWLWFACAQBAEAAMAIEAABQ                          54.0\n",
       "CQCQCAYBAYAQKBAYAIAQIGZNAICAICQQAICQVGABUEAQIAIBAQ2AEAIBAMFQEAYBAIBQEBABBIGAEAIBAQTQCAYEBM                    54.0\n",
       "CQBAKBAHG45V2Z4CAECQKCRRSEA2CANGAGYQCAQCAUFETVIBAMCAONUAAGFACAA                                               54.0\n",
       "CEBQCBAECACACBBGE4WTIBAFAMAQMCINAQAQCBABAEBQGDYBAMCBEAYBAMKCGLQBAEBAICA                                       54.0\n",
       "CIDACAYABYAQIAACAIBAMFR6AIBAABQHAICQACQMAQAQABQJDUZQEAIBAABQCAQAAIAA                                          54.0\n",
       "CQBQCAQDAMCACAYCBQHSQBYFBIDQ4MKJUEA2GANGAEAQCAQDAQBACAIDG4AQKCVEAE                                            53.0\n",
       "CQBQCAYABYAQIAACBECQUIDPOSCADBIBUYA26ANXAHMQCAICAUFKCANHAEBQCAIEBAAQEAAHAECQVIAB                              53.0\n",
       "CQDQCAIBD4AQGBAFAECAIEABAUFKCAIBAUAQMAQBAQWTIAQCAEBAMBABAEAQKAIDAEBACBABBIBACBAME4BACAIBDIBAKAICAQ            53.0\n",
       "CQCQCAQGFYAQIBAQAIAQILJUAIBQIBISAYCQUMLPUEA2MANPAHAACAQBAECCOAIFBLKQCAA                                       53.0\n",
       "CQCQCAIABEAQGAAOAECQUHIDAMERWIZTAMCQSAYFAYCACAIADIAQEAABAEBQSXACAQAAEAYCAECQSCQCAMERGVI                       53.0\n",
       "CMBAKBAGAEBQKBYPA4CAOAITCZAUISSQAEAQIBZWAEBAIBZ3IU                                                            53.0\n",
       "CQBQEAIFAEUAEBIFBAEQMBIKGE4V2XTCUYAQEAIBAUOQCBIKAEBAEBIKYYA5CAIEAECQ6EYUFY                                    53.0\n",
       "CQDACAIBAMAQCBBNAEBQCBQBAUCBQAQEAQFBAAQFBKMADIIBAQAQCAILAIAQIGZUAIBQCAQDAICACCQMAIAQCBBHAEBQICY               52.0\n",
       "CEDACAIBBEAQGAICAIBQABQOAICAACAKAICQADATAMAQACI2DUBACAIBGIAQEAABAIAQCAIHAIAQAAQL                              52.0\n",
       "CQBQCAYDBUCAEAYBA4EASBYFBIHDDIIBUQA2MANIAGXQCAIBAEBS4AQBAQBQEAIFBKXAC                                         52.0\n",
       "CMBAKBAGAEBQKBYPBACAOAITCY3ECRCKKAAACAIEAYCA                                                                  52.0\n",
       "CIDACAQAAYAQGAAOAECAAAQCAIDBMPQCAUAAUDADAEAAMCI5AQAQCABTAEBAABYBAQAAOAIFAYAQEAIBAASQCAQABI                    52.0\n",
       "CQBQCAIDG4AQEAYJAUCQU5FGAGXQDQQBYYAQCCAFBIASSOTKQQAZQANBAHAACAYBAEBS4AIDAMGQCBIKRAAQ                          52.0\n",
       "CQAQWBIKEATTC33UQUA2MANHAGXQDNYB3EAQEAIBAUMQCBIKDUBACAIEBABAKCUEAGMAC                                         52.0\n",
       "CQCQCAIBAMAQGAIGAECQIGACAQCAUEACAUFJQANBAECAEAIBBMZAEAYBAIBQEBABBIGAGAIEDMWTIAIBAMCAW                         51.0\n",
       "CQCQCAQGFYAQIBAQAIAQIJZNAIBQIBISAYCQUMLPUEA2MANPAG3QCAIBAECDIAICAUFIIAOAAE                                    51.0\n",
       "CQCQCAQGFYAQIBAQAIBQIBISAMAQIDBNGQCQKCTPUEA2MANPAHAACAQBAECCOAIFBLKQCAA                                       51.0\n",
       "CQBQCAIFFABAKBIIBEDAKCRRHFOV4YVGAEBAEAIFAEOQEBIKAHDACAYBAUCQGAQBAUHRIAQFBKXADUIB                              50.0\n",
       "CQEACAQBAYAQEAYFAEBQCAQBAUFKCAIBAUAQMAIFAMHQEAIBCYPQIAIDBMGA2JQBAEAQCBICAEAQCGQBAEBTG                         50.0\n",
       "CICQCAQBAIAQGBQIAECAMCQCAUAQCBQGAIDBIIBCFU5DYAQBAQAQUAQCAYBBEAIBAMARM                                         50.0\n",
       "CMBAIBAGAEBQKDYHAQDQCEYWIFCEUUACAECAMAQCAQDTMRIBAECAMBY                                                       50.0\n",
       "CQDACAIBGIAQEAABAEBQCAQBAUFKCAIBAUAQIBIFAAEQYDQSCQBQCAYABYAQKAARAICQCAICAIAQCAA2AEAQCBA                       50.0\n",
       "CECAEAQDAMCAGAIFE42TQAYDAUBQIBQFAEBQEDAPFA3QAAIBAECRM                                                         50.0\n",
       "CMBAIBAGAEBQKDYHAQDQCEYWIFCEUUACAECAMAQBAQDUKAQBAQDTMAQEAYCAO                                                 49.0\n",
       "CQDACAIEGQAQEBAGAECQVGABAECQKCICAUCAMGADAECQCIJIAMAQGBALAECAKOAEAECQ6EY5GYAQCAIEGA                            49.0\n",
       "CQBAKBAHGY3V2Z4CAECQKCRRSEA2CANGAGYQCAQCAUFETVIBAMCAOO4AAGFACAA                                               49.0\n",
       "CQCQCAQGFYAQIAYWAIAQGEY3AMBQGAIDA4CAKCRIGGTADMIBAIAQCAZXAICQVEIB2UAQCAIFBKXAC                                 49.0\n",
       "CQCACAQGFYBQCAYTDM3QGAYDAEBQOBAFBIUDDJQBWEAQEAIEAMLAEBIKSEA5KAIBAECQVLQB                                      49.0\n",
       "CECQCAIADIAQCAIJAEBQADQBAMAQECAFAAEQUDAPCEJBGFACAECAAAQBAUAQIAA                                               48.0\n",
       "CQCQCAQBBIAQKCVBAEAQKBQNAMAQCBAWEABQEBQUEYXAGAIDAYIQCBABCABACAIFDYCQCAIBDUAQEBQ5AEBQCAQBAQAQUAIFAEIA          48.0\n",
       "CECACAYFCIAQIAIOAQAQKAIDCQUAKAIBAMKBQHJSAIAQCAIBAIAQKDY5AEAQCBJL                                              46.0\n",
       "CQBQCAIDFYBQEAYHBAEQKBIKBYY2CANEAGTACBABAEBTOAICAMAQCAYDBUBAKCVIAGXQCAQBAEBQIAQFBIL5KAI                       45.0\n",
       "CQCACAIEGQAQKBARAICAIBYRAYCQUBBIGGQQDJQBXQAQKAIBAQNQCAQGFYAQGBASAECQVVIBAECQIFIA                              43.0\n",
       "CECAEAIFE42QEAQDAMCAGAYFAMCAMBQBAMBAYDZFFA3QAAIBAECTQ                                                         41.0\n",
       "CICQCAYGCEAQKBQFAIBAMGRLAMAQIAIQGQCAGBAFBUJBSAQBAECCOAIFAQGAGAIBAQWQCBAEA4AQKBQL                              40.0\n",
       "dtype: float64"
      ]
     },
     "execution_count": 33,
     "metadata": {},
     "output_type": "execute_result"
    }
   ],
   "source": [
    "df2.sort_values(ascending=False)\n",
    "# archetypes # if you want to see n"
   ]
  },
  {
   "cell_type": "code",
   "execution_count": 75,
   "id": "3edbe1c3-4000-4db1-bdb4-50c0a2c4da85",
   "metadata": {},
   "outputs": [],
   "source": [
    "df2.to_csv(f'deck_codes-{date}-{n}.csv')"
   ]
  },
  {
   "cell_type": "markdown",
   "id": "90d1adfd-81df-48ff-ae61-3b97390e1dd3",
   "metadata": {},
   "source": [
    "## Give me best deck with Champion X"
   ]
  },
  {
   "cell_type": "code",
   "execution_count": 28,
   "id": "53ae36f7-a71c-4faf-adc9-d58671a2faa7",
   "metadata": {},
   "outputs": [],
   "source": [
    "champion = 'Yasuo'\n",
    "n = 50"
   ]
  },
  {
   "cell_type": "code",
   "execution_count": 29,
   "id": "3faf4dca-6f5d-4e15-8130-aadaf3fb5fd9",
   "metadata": {},
   "outputs": [],
   "source": [
    "x = df[df['archetype'].str.contains(champion)]\n",
    "archetypes = x['deck_code'].value_counts() # find the unique archetypes being played\n",
    "archetypes = archetypes[archetypes > n] #only keep popular archetypes\n",
    "popular_list = list(archetypes.index) # make a list of popular archetypes\n",
    "x = x.loc[df['deck_code'].isin(popular_list)] # filter df to only keep popular archetypes"
   ]
  },
  {
   "cell_type": "code",
   "execution_count": 30,
   "id": "2f947bea-2578-4bb3-9a38-35caa57c9418",
   "metadata": {},
   "outputs": [],
   "source": [
    "df_champ = x.groupby(['deck_code', 'game_outcome']).size() #get win/loss for major archetypes\n",
    "df_champ = df_champ.groupby(level=0).transform(lambda x: (x / x.sum()).round(2)*100) #get win/loss % for major archetypes\n",
    "df_champ.drop('loss', level=1, axis=0, inplace=True) #drop loss %\n",
    "df_champ = df_champ.droplevel(level=1) #drop win/loss"
   ]
  },
  {
   "cell_type": "code",
   "execution_count": 31,
   "id": "48dcd891-b2c8-4265-971a-812020ccb9f9",
   "metadata": {},
   "outputs": [
    {
     "data": {
      "text/plain": [
       "deck_code\n",
       "CIBQEBAJBUHQGAICBAGA6BIDBENBYNSSLABQCAQCAUAQGCJTAMAQECZOHAAA    44\n",
       "dtype: int64"
      ]
     },
     "execution_count": 31,
     "metadata": {},
     "output_type": "execute_result"
    }
   ],
   "source": [
    "df_champ.sort_values(ascending=False)"
   ]
  },
  {
   "cell_type": "code",
   "execution_count": null,
   "id": "2dc8daa8-e678-46df-873a-06046da734e8",
   "metadata": {},
   "outputs": [],
   "source": []
  }
 ],
 "metadata": {
  "kernelspec": {
   "display_name": "Python 3",
   "language": "python",
   "name": "python3"
  },
  "language_info": {
   "codemirror_mode": {
    "name": "ipython",
    "version": 3
   },
   "file_extension": ".py",
   "mimetype": "text/x-python",
   "name": "python",
   "nbconvert_exporter": "python",
   "pygments_lexer": "ipython3",
   "version": "3.8.8"
  }
 },
 "nbformat": 4,
 "nbformat_minor": 5
}
