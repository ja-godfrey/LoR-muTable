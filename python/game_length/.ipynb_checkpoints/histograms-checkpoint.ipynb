{
 "cells": [
  {
   "cell_type": "markdown",
   "id": "030c5fb7-e921-4217-b288-23dc124ac427",
   "metadata": {},
   "source": [
    "## When do archetypes win?"
   ]
  },
  {
   "cell_type": "code",
   "execution_count": 7,
   "id": "82a2fc0c-b06d-46ca-82c0-4d788050dd93",
   "metadata": {},
   "outputs": [],
   "source": [
    "import pandas as pd\n",
    "import seaborn as sns\n",
    "import matplotlib.pyplot as plt"
   ]
  },
  {
   "cell_type": "code",
   "execution_count": 8,
   "id": "05d7612e-41e0-4e02-8058-cd5b38fea25a",
   "metadata": {},
   "outputs": [],
   "source": [
    "df = pd.read_csv('lor_ranked_data_all.csv') # read in the data"
   ]
  },
  {
   "cell_type": "code",
   "execution_count": 9,
   "id": "ecde420a-6f62-4b4c-b3cd-ecda163c4f24",
   "metadata": {},
   "outputs": [],
   "source": [
    "#clean data\n",
    "df_small = df[['game_outcome', 'total_turn_count', 'archetype']] # only keep what you need\n",
    "archetypes = df['archetype'].value_counts() # find the unique archetypes being played\n",
    "archetypes = archetypes[archetypes > 4000] #only keep popular archetypes\n",
    "popular_list = list(archetypes.index) # make a list of popular archetypes\n",
    "df_small = df_small.loc[df['archetype'].isin(popular_list)] # filter df to only keep popular archetypes\n",
    "df_small = df_small[df_small['game_outcome'] != \"tie\"] # drop ties"
   ]
  },
  {
   "cell_type": "code",
   "execution_count": 10,
   "id": "894bf709-e5db-4b5b-85e9-c79c8a8ef6b1",
   "metadata": {},
   "outputs": [],
   "source": [
    "#calculate winrate by archetype\n",
    "df2 = df_small.groupby(['archetype', 'game_outcome']).size() #get win/loss for major archetypes\n",
    "df2 = df2.groupby(level=0).transform(lambda x: (x / x.sum()).round(2)*100) #get win/loss % for major archetypes\n",
    "df2.drop('loss', level=1, axis=0, inplace=True) #drop loss %\n",
    "df2 = df2.droplevel(level=1) #drop win/loss"
   ]
  },
  {
   "cell_type": "code",
   "execution_count": 11,
   "id": "2cfd5e35-a862-4e7b-801b-467f02ea633c",
   "metadata": {
    "tags": []
   },
   "outputs": [
    {
     "data": {
      "text/plain": [
       "<Figure size 432x288 with 0 Axes>"
      ]
     },
     "metadata": {},
     "output_type": "display_data"
    },
    {
     "data": {
      "text/plain": [
       "<Figure size 432x288 with 0 Axes>"
      ]
     },
     "metadata": {},
     "output_type": "display_data"
    },
    {
     "data": {
      "text/plain": [
       "<Figure size 432x288 with 0 Axes>"
      ]
     },
     "metadata": {},
     "output_type": "display_data"
    },
    {
     "data": {
      "text/plain": [
       "<Figure size 432x288 with 0 Axes>"
      ]
     },
     "metadata": {},
     "output_type": "display_data"
    },
    {
     "data": {
      "text/plain": [
       "<Figure size 432x288 with 0 Axes>"
      ]
     },
     "metadata": {},
     "output_type": "display_data"
    },
    {
     "data": {
      "text/plain": [
       "<Figure size 432x288 with 0 Axes>"
      ]
     },
     "metadata": {},
     "output_type": "display_data"
    },
    {
     "data": {
      "text/plain": [
       "<Figure size 432x288 with 0 Axes>"
      ]
     },
     "metadata": {},
     "output_type": "display_data"
    },
    {
     "data": {
      "text/plain": [
       "<Figure size 432x288 with 0 Axes>"
      ]
     },
     "metadata": {},
     "output_type": "display_data"
    },
    {
     "data": {
      "text/plain": [
       "<Figure size 432x288 with 0 Axes>"
      ]
     },
     "metadata": {},
     "output_type": "display_data"
    },
    {
     "data": {
      "text/plain": [
       "<Figure size 432x288 with 0 Axes>"
      ]
     },
     "metadata": {},
     "output_type": "display_data"
    },
    {
     "data": {
      "text/plain": [
       "<Figure size 432x288 with 0 Axes>"
      ]
     },
     "metadata": {},
     "output_type": "display_data"
    },
    {
     "data": {
      "text/plain": [
       "<Figure size 432x288 with 0 Axes>"
      ]
     },
     "metadata": {},
     "output_type": "display_data"
    },
    {
     "data": {
      "text/plain": [
       "<Figure size 432x288 with 0 Axes>"
      ]
     },
     "metadata": {},
     "output_type": "display_data"
    },
    {
     "data": {
      "text/plain": [
       "<Figure size 432x288 with 0 Axes>"
      ]
     },
     "metadata": {},
     "output_type": "display_data"
    },
    {
     "data": {
      "text/plain": [
       "<Figure size 432x288 with 0 Axes>"
      ]
     },
     "metadata": {},
     "output_type": "display_data"
    },
    {
     "data": {
      "text/plain": [
       "<Figure size 432x288 with 0 Axes>"
      ]
     },
     "metadata": {},
     "output_type": "display_data"
    },
    {
     "data": {
      "text/plain": [
       "<Figure size 432x288 with 0 Axes>"
      ]
     },
     "metadata": {},
     "output_type": "display_data"
    },
    {
     "data": {
      "text/plain": [
       "<Figure size 432x288 with 0 Axes>"
      ]
     },
     "metadata": {},
     "output_type": "display_data"
    },
    {
     "data": {
      "text/plain": [
       "<Figure size 432x288 with 0 Axes>"
      ]
     },
     "metadata": {},
     "output_type": "display_data"
    },
    {
     "data": {
      "text/plain": [
       "<Figure size 432x288 with 0 Axes>"
      ]
     },
     "metadata": {},
     "output_type": "display_data"
    }
   ],
   "source": [
    "#build graphs\n",
    "for i in popular_list:\n",
    "    thing = [i]\n",
    "    df_x = df_small.loc[(df_small['archetype'].isin(thing))]\n",
    "    winrate = int(df2.at[i])\n",
    "    plt.figure()\n",
    "    sns.histplot(x=df_x['total_turn_count'], hue=df_small['game_outcome'], bins=30, binwidth=3)\n",
    "    plt.title(f'Optimal game length for {i}. \\n{winrate}% Winrate')\n",
    "    plt.xlabel('Total Turns')\n",
    "    plt.ylabel('Number of Games Analyzed')\n",
    "    plt.legend(title=\"Outcome\", labels=['win', 'loss'], frameon=False)\n",
    "    plt.savefig(f'./wk01Big/{i}.png', bbox_inches=\"tight\", dpi=600, transparent=True)\n",
    "    plt.clf() # uncomment this to display figures in notebook"
   ]
  },
  {
   "cell_type": "code",
   "execution_count": 12,
   "id": "8dc49172-1749-4c12-8cae-98f4073fa7cc",
   "metadata": {},
   "outputs": [
    {
     "data": {
      "text/html": [
       "<div>\n",
       "<style scoped>\n",
       "    .dataframe tbody tr th:only-of-type {\n",
       "        vertical-align: middle;\n",
       "    }\n",
       "\n",
       "    .dataframe tbody tr th {\n",
       "        vertical-align: top;\n",
       "    }\n",
       "\n",
       "    .dataframe thead th {\n",
       "        text-align: right;\n",
       "    }\n",
       "</style>\n",
       "<table border=\"1\" class=\"dataframe\">\n",
       "  <thead>\n",
       "    <tr style=\"text-align: right;\">\n",
       "      <th></th>\n",
       "      <th>match_id</th>\n",
       "      <th>game_start_time_utc</th>\n",
       "      <th>game_version</th>\n",
       "      <th>player</th>\n",
       "      <th>deck_code</th>\n",
       "      <th>game_outcome</th>\n",
       "      <th>order_of_play</th>\n",
       "      <th>total_turn_count</th>\n",
       "      <th>faction_1</th>\n",
       "      <th>faction_2</th>\n",
       "      <th>archetype</th>\n",
       "      <th>is_master</th>\n",
       "      <th>region</th>\n",
       "    </tr>\n",
       "  </thead>\n",
       "  <tbody>\n",
       "    <tr>\n",
       "      <th>0</th>\n",
       "      <td>600109d3-3b69-489a-8244-d6f7c1e62837</td>\n",
       "      <td>2022-02-15 18:49:59</td>\n",
       "      <td>live_3_02_7</td>\n",
       "      <td>게임할개#KR1</td>\n",
       "      <td>CQCQCAYCAUAQIAQPAECQUOQCAUBAIFIFAEBAWDBMGEZAIA...</td>\n",
       "      <td>loss</td>\n",
       "      <td>1</td>\n",
       "      <td>51</td>\n",
       "      <td>BandleCity</td>\n",
       "      <td>Ionia</td>\n",
       "      <td>Kennen Ahri (BC)</td>\n",
       "      <td>1</td>\n",
       "      <td>asia</td>\n",
       "    </tr>\n",
       "    <tr>\n",
       "      <th>1</th>\n",
       "      <td>600109d3-3b69-489a-8244-d6f7c1e62837</td>\n",
       "      <td>2022-02-15 18:49:59</td>\n",
       "      <td>live_3_02_7</td>\n",
       "      <td>kuroge3#1113</td>\n",
       "      <td>CQBQGBIHA4FQ4BAFBIAQMSNGAECQIBZFEZEUYWICAECAOD...</td>\n",
       "      <td>win</td>\n",
       "      <td>0</td>\n",
       "      <td>51</td>\n",
       "      <td>BandleCity</td>\n",
       "      <td>Shurima</td>\n",
       "      <td>Taliyah Xerath (BC)</td>\n",
       "      <td>0</td>\n",
       "      <td>asia</td>\n",
       "    </tr>\n",
       "    <tr>\n",
       "      <th>2</th>\n",
       "      <td>6b1424c3-3682-4f9d-82c1-ac579da49515</td>\n",
       "      <td>2022-02-15 20:12:31</td>\n",
       "      <td>live_3_02_7</td>\n",
       "      <td>sayy35#1622</td>\n",
       "      <td>CMBAKBAGAEBQKBYPBACAOAITCY3ECRCKKAAACAIEAYCA</td>\n",
       "      <td>loss</td>\n",
       "      <td>1</td>\n",
       "      <td>32</td>\n",
       "      <td>Bilgewater</td>\n",
       "      <td>Shurima</td>\n",
       "      <td>Pyke Rek'Sai</td>\n",
       "      <td>1</td>\n",
       "      <td>asia</td>\n",
       "    </tr>\n",
       "    <tr>\n",
       "      <th>3</th>\n",
       "      <td>6b1424c3-3682-4f9d-82c1-ac579da49515</td>\n",
       "      <td>2022-02-15 20:12:31</td>\n",
       "      <td>live_3_02_7</td>\n",
       "      <td>Clarity#6393</td>\n",
       "      <td>CQAQQBIKAF2IIAMYAGTADLYBYIA4MAICAIAQCCBSAUCQUK...</td>\n",
       "      <td>win</td>\n",
       "      <td>0</td>\n",
       "      <td>32</td>\n",
       "      <td>BandleCity</td>\n",
       "      <td>Freljord</td>\n",
       "      <td>Poppy Kennen (BC FR)</td>\n",
       "      <td>0</td>\n",
       "      <td>asia</td>\n",
       "    </tr>\n",
       "    <tr>\n",
       "      <th>4</th>\n",
       "      <td>91b9f684-aac7-4a6e-8403-dda486ef3147</td>\n",
       "      <td>2022-02-15 20:06:40</td>\n",
       "      <td>live_3_02_7</td>\n",
       "      <td>Clarity#6393</td>\n",
       "      <td>CQAQQBIKAF2IIAMYAGTADLYBYIA4MAICAIAQCCBSAUCQUK...</td>\n",
       "      <td>loss</td>\n",
       "      <td>1</td>\n",
       "      <td>26</td>\n",
       "      <td>BandleCity</td>\n",
       "      <td>Freljord</td>\n",
       "      <td>Poppy Kennen (BC FR)</td>\n",
       "      <td>0</td>\n",
       "      <td>asia</td>\n",
       "    </tr>\n",
       "    <tr>\n",
       "      <th>...</th>\n",
       "      <td>...</td>\n",
       "      <td>...</td>\n",
       "      <td>...</td>\n",
       "      <td>...</td>\n",
       "      <td>...</td>\n",
       "      <td>...</td>\n",
       "      <td>...</td>\n",
       "      <td>...</td>\n",
       "      <td>...</td>\n",
       "      <td>...</td>\n",
       "      <td>...</td>\n",
       "      <td>...</td>\n",
       "      <td>...</td>\n",
       "    </tr>\n",
       "    <tr>\n",
       "      <th>478325</th>\n",
       "      <td>0211affa-31f4-4909-8502-1ecb5c14e3c7</td>\n",
       "      <td>2022-02-23 13:58:50</td>\n",
       "      <td>live_3_02_7</td>\n",
       "      <td>javardo#moc</td>\n",
       "      <td>CQDACAIBAMAQIBAKAECQIGACAMAQEBQCAUFJQANBAEBQCB...</td>\n",
       "      <td>win</td>\n",
       "      <td>0</td>\n",
       "      <td>31</td>\n",
       "      <td>Freljord</td>\n",
       "      <td>Piltover</td>\n",
       "      <td>Trundle Gnar (PZ)</td>\n",
       "      <td>0</td>\n",
       "      <td>europe</td>\n",
       "    </tr>\n",
       "    <tr>\n",
       "      <th>478326</th>\n",
       "      <td>199765cd-dc93-469c-92bb-6f7a8015788a</td>\n",
       "      <td>2022-02-23 11:19:16</td>\n",
       "      <td>live_3_02_7</td>\n",
       "      <td>Abbubbazza#1947</td>\n",
       "      <td>CIDACAQAAYAQGAAOAECAAAQBAUAAYAQCAYLD4AYBAADASH...</td>\n",
       "      <td>loss</td>\n",
       "      <td>1</td>\n",
       "      <td>24</td>\n",
       "      <td>Bilgewater</td>\n",
       "      <td>Demacia</td>\n",
       "      <td>Miss Fortune Quinn</td>\n",
       "      <td>0</td>\n",
       "      <td>europe</td>\n",
       "    </tr>\n",
       "    <tr>\n",
       "      <th>478327</th>\n",
       "      <td>199765cd-dc93-469c-92bb-6f7a8015788a</td>\n",
       "      <td>2022-02-23 11:19:16</td>\n",
       "      <td>live_3_02_7</td>\n",
       "      <td>javardo#moc</td>\n",
       "      <td>CQDACAIBAMAQIBAKAECQIGACAMAQEBQCAUFJQANBAEBQCB...</td>\n",
       "      <td>win</td>\n",
       "      <td>0</td>\n",
       "      <td>24</td>\n",
       "      <td>Freljord</td>\n",
       "      <td>Piltover</td>\n",
       "      <td>Trundle Gnar (PZ)</td>\n",
       "      <td>0</td>\n",
       "      <td>europe</td>\n",
       "    </tr>\n",
       "    <tr>\n",
       "      <th>478328</th>\n",
       "      <td>feada14a-2d12-402f-a64c-5dbee8bd42dc</td>\n",
       "      <td>2022-02-23 07:15:39</td>\n",
       "      <td>live_3_02_7</td>\n",
       "      <td>javardo#moc</td>\n",
       "      <td>CQDACAIBAMAQIBAKAECQIGACAMAQEBQCAUFJQANBAEBQCB...</td>\n",
       "      <td>win</td>\n",
       "      <td>0</td>\n",
       "      <td>37</td>\n",
       "      <td>Freljord</td>\n",
       "      <td>Piltover</td>\n",
       "      <td>Trundle Gnar (PZ)</td>\n",
       "      <td>0</td>\n",
       "      <td>europe</td>\n",
       "    </tr>\n",
       "    <tr>\n",
       "      <th>478329</th>\n",
       "      <td>feada14a-2d12-402f-a64c-5dbee8bd42dc</td>\n",
       "      <td>2022-02-23 07:15:39</td>\n",
       "      <td>live_3_02_7</td>\n",
       "      <td>Vander#1105</td>\n",
       "      <td>CECQCAIDCQAQKAYNAECQIFADAECCOLJUAMBQIAYFCICQCA...</td>\n",
       "      <td>loss</td>\n",
       "      <td>1</td>\n",
       "      <td>37</td>\n",
       "      <td>Noxus</td>\n",
       "      <td>Piltover</td>\n",
       "      <td>Draven Viktor</td>\n",
       "      <td>0</td>\n",
       "      <td>europe</td>\n",
       "    </tr>\n",
       "  </tbody>\n",
       "</table>\n",
       "<p>478330 rows × 13 columns</p>\n",
       "</div>"
      ],
      "text/plain": [
       "                                    match_id  game_start_time_utc  \\\n",
       "0       600109d3-3b69-489a-8244-d6f7c1e62837  2022-02-15 18:49:59   \n",
       "1       600109d3-3b69-489a-8244-d6f7c1e62837  2022-02-15 18:49:59   \n",
       "2       6b1424c3-3682-4f9d-82c1-ac579da49515  2022-02-15 20:12:31   \n",
       "3       6b1424c3-3682-4f9d-82c1-ac579da49515  2022-02-15 20:12:31   \n",
       "4       91b9f684-aac7-4a6e-8403-dda486ef3147  2022-02-15 20:06:40   \n",
       "...                                      ...                  ...   \n",
       "478325  0211affa-31f4-4909-8502-1ecb5c14e3c7  2022-02-23 13:58:50   \n",
       "478326  199765cd-dc93-469c-92bb-6f7a8015788a  2022-02-23 11:19:16   \n",
       "478327  199765cd-dc93-469c-92bb-6f7a8015788a  2022-02-23 11:19:16   \n",
       "478328  feada14a-2d12-402f-a64c-5dbee8bd42dc  2022-02-23 07:15:39   \n",
       "478329  feada14a-2d12-402f-a64c-5dbee8bd42dc  2022-02-23 07:15:39   \n",
       "\n",
       "       game_version           player  \\\n",
       "0       live_3_02_7         게임할개#KR1   \n",
       "1       live_3_02_7     kuroge3#1113   \n",
       "2       live_3_02_7      sayy35#1622   \n",
       "3       live_3_02_7     Clarity#6393   \n",
       "4       live_3_02_7     Clarity#6393   \n",
       "...             ...              ...   \n",
       "478325  live_3_02_7      javardo#moc   \n",
       "478326  live_3_02_7  Abbubbazza#1947   \n",
       "478327  live_3_02_7      javardo#moc   \n",
       "478328  live_3_02_7      javardo#moc   \n",
       "478329  live_3_02_7      Vander#1105   \n",
       "\n",
       "                                                deck_code game_outcome  \\\n",
       "0       CQCQCAYCAUAQIAQPAECQUOQCAUBAIFIFAEBAWDBMGEZAIA...         loss   \n",
       "1       CQBQGBIHA4FQ4BAFBIAQMSNGAECQIBZFEZEUYWICAECAOD...          win   \n",
       "2            CMBAKBAGAEBQKBYPBACAOAITCY3ECRCKKAAACAIEAYCA         loss   \n",
       "3       CQAQQBIKAF2IIAMYAGTADLYBYIA4MAICAIAQCCBSAUCQUK...          win   \n",
       "4       CQAQQBIKAF2IIAMYAGTADLYBYIA4MAICAIAQCCBSAUCQUK...         loss   \n",
       "...                                                   ...          ...   \n",
       "478325  CQDACAIBAMAQIBAKAECQIGACAMAQEBQCAUFJQANBAEBQCB...          win   \n",
       "478326  CIDACAQAAYAQGAAOAECAAAQBAUAAYAQCAYLD4AYBAADASH...         loss   \n",
       "478327  CQDACAIBAMAQIBAKAECQIGACAMAQEBQCAUFJQANBAEBQCB...          win   \n",
       "478328  CQDACAIBAMAQIBAKAECQIGACAMAQEBQCAUFJQANBAEBQCB...          win   \n",
       "478329  CECQCAIDCQAQKAYNAECQIFADAECCOLJUAMBQIAYFCICQCA...         loss   \n",
       "\n",
       "        order_of_play  total_turn_count   faction_1 faction_2  \\\n",
       "0                   1                51  BandleCity     Ionia   \n",
       "1                   0                51  BandleCity   Shurima   \n",
       "2                   1                32  Bilgewater   Shurima   \n",
       "3                   0                32  BandleCity  Freljord   \n",
       "4                   1                26  BandleCity  Freljord   \n",
       "...               ...               ...         ...       ...   \n",
       "478325              0                31    Freljord  Piltover   \n",
       "478326              1                24  Bilgewater   Demacia   \n",
       "478327              0                24    Freljord  Piltover   \n",
       "478328              0                37    Freljord  Piltover   \n",
       "478329              1                37       Noxus  Piltover   \n",
       "\n",
       "                   archetype  is_master  region  \n",
       "0           Kennen Ahri (BC)          1    asia  \n",
       "1        Taliyah Xerath (BC)          0    asia  \n",
       "2               Pyke Rek'Sai          1    asia  \n",
       "3       Poppy Kennen (BC FR)          0    asia  \n",
       "4       Poppy Kennen (BC FR)          0    asia  \n",
       "...                      ...        ...     ...  \n",
       "478325     Trundle Gnar (PZ)          0  europe  \n",
       "478326    Miss Fortune Quinn          0  europe  \n",
       "478327     Trundle Gnar (PZ)          0  europe  \n",
       "478328     Trundle Gnar (PZ)          0  europe  \n",
       "478329         Draven Viktor          0  europe  \n",
       "\n",
       "[478330 rows x 13 columns]"
      ]
     },
     "execution_count": 12,
     "metadata": {},
     "output_type": "execute_result"
    }
   ],
   "source": [
    "df"
   ]
  },
  {
   "cell_type": "code",
   "execution_count": null,
   "id": "5c08085e-fa84-47e7-b583-93aee5d058cf",
   "metadata": {},
   "outputs": [],
   "source": []
  }
 ],
 "metadata": {
  "kernelspec": {
   "display_name": "Python 3",
   "language": "python",
   "name": "python3"
  },
  "language_info": {
   "codemirror_mode": {
    "name": "ipython",
    "version": 3
   },
   "file_extension": ".py",
   "mimetype": "text/x-python",
   "name": "python",
   "nbconvert_exporter": "python",
   "pygments_lexer": "ipython3",
   "version": "3.8.8"
  }
 },
 "nbformat": 4,
 "nbformat_minor": 5
}
