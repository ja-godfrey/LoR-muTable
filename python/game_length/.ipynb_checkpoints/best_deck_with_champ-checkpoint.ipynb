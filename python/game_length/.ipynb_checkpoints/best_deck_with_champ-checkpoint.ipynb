{
 "cells": [
  {
   "cell_type": "markdown",
   "id": "030c5fb7-e921-4217-b288-23dc124ac427",
   "metadata": {},
   "source": [
    "## Give me the best deck with Champion X"
   ]
  },
  {
   "cell_type": "code",
   "execution_count": 1,
   "id": "82a2fc0c-b06d-46ca-82c0-4d788050dd93",
   "metadata": {},
   "outputs": [],
   "source": [
    "import pandas as pd"
   ]
  },
  {
   "cell_type": "code",
   "execution_count": 2,
   "id": "05d7612e-41e0-4e02-8058-cd5b38fea25a",
   "metadata": {},
   "outputs": [],
   "source": [
    "df = pd.read_csv(r'./../data/raw/lor_ranked_data_all.csv') # read in the data"
   ]
  },
  {
   "cell_type": "code",
   "execution_count": 3,
   "id": "53ae36f7-a71c-4faf-adc9-d58671a2faa7",
   "metadata": {},
   "outputs": [],
   "source": [
    "champion = 'Elise'\n",
    "date = '2022-07-09'\n",
    "n = 100"
   ]
  },
  {
   "cell_type": "code",
   "execution_count": 4,
   "id": "97b664f2-8a99-47b0-b4ec-e339be41b53c",
   "metadata": {},
   "outputs": [],
   "source": [
    "def best_deck_by_champ(df, champion, date, n):\n",
    "    df_date = df[df['game_start_time_utc'] > date]\n",
    "    champ_list = df_date[df_date['archetype'].str.contains(champion)]\n",
    "    archetypes = champ_list['deck_code'].value_counts() # find the unique archetypes being played\n",
    "    archetypes = archetypes[archetypes > n] #only keep popular deck_codes\n",
    "    popular_list = list(archetypes.index) # make a list of popular deck_codes\n",
    "    champ_list = champ_list.loc[df['deck_code'].isin(popular_list)] # filter df to only keep popular archetypes\n",
    "    df_champ = champ_list.groupby(['deck_code', 'game_outcome']).size()\n",
    "    df_champ = df_champ.groupby(level=0).transform(lambda x: (x / x.sum()).round(2)*100)\n",
    "    df_champ.drop('loss', level=1, axis=0, inplace=True) #drop loss %\n",
    "    df_champ = df_champ.droplevel(level=1) #drop win/loss\n",
    "    df_champ = df_champ.sort_values(ascending=False)\n",
    "    \n",
    "    df_small = df_date[['deck_code', 'archetype']]\n",
    "    y = pd.DataFrame(df_champ)\n",
    "    \n",
    "    inner = pd.merge(y, df_small, on='deck_code', how='inner')#.value_counts()\n",
    "    inner = inner.value_counts()\n",
    "    df_champ = inner.sort_values(ascending=False)\n",
    "    \n",
    "    return df_champ"
   ]
  },
  {
   "cell_type": "code",
   "execution_count": 5,
   "id": "33dd4619-8dc8-4c68-a1ac-e63b7a2257d0",
   "metadata": {},
   "outputs": [
    {
     "data": {
      "text/plain": [
       "deck_code                                                                                        0     archetype           \n",
       "CECQCAQDBEAQMAY6AIAQGLRXAIAQKKBRAMCAKNJWG4CACBAFCAAQMAYOAEDAKKYDAECQCGJVAEAQCAZK                 53.0  Katarina Elise Viego    922\n",
       "CEDACAQDBEAQGBIQAECAGAQCAEBS4NYCAECSQNICAYBQYHAFAEBQGDIBAMCQEAIFAUHACBQDBYBACBI5GEAQCAIDGM       51.0  Elise Annie             919\n",
       "CECQCAQDBEAQMAY6AIAQGLRXAIAQKKBRAMCAKNJWG4CACBAFCAAQMAYOAEDAKKYCAECQCNIDAEAQGKQBAECRSAIDAMGQ     52.0  Katarina Elise Viego    704\n",
       "CEDACAQDBEAQGBIQAECAGAQCAEBS4NYCAECSQNICAYBQYHAFAEBQGDIBAMCQEAIFAUHACBQDBYBACBI5GEAQCAIFEE       49.0  Elise Annie             550\n",
       "CEDQCAQDBEAQGAYNAEBQKEABAQBQEAQBAMXDOAQBAUUDKAQGAMGBYAYBAMCQEAIFAUHAEAIFDUYQEAIBAMZQCBQDBY       50.0  Elise Annie             525\n",
       "CECQCAQDBEAQMAY6AIAQGLRXAMAQKKBRGUBQIBJVGY3QIAIEAUIACBQDBYAQMBJLAIAQKAIZAA                       52.0  Elise Viego (NX)        311\n",
       "CEDACAIDFYAQEAYJAEBQKEABAQBQEAQBAUUDKAQGAMGBYBQBAMBQ2AIDAUBACBIFBYAQMAYOAIAQGMZXAIAQKHJRAA       48.0  Elise Annie             217\n",
       "CECQCAIDG4AQEAYJAIAQKKBRAIDAGDQ6AQCAKEBVGY3QEAIBAMXAGAIFAEMTKAQBAEBSUAIGAUVQ                     52.0  Katarina Elise Viego    206\n",
       "CEDQCAQDBEAQGBIQAECAGAQBAUCQ4AQBAMXDOAQGAMGBYAYBAUUDCNIDAEAQKHIBAMCQMAIGAMHACAIDAMGQ             56.0  Elise Annie             158\n",
       "CECQCAQDBEAQMAY6AIAQGLRXAMCAKNJWG4CACBIBFAYTKAQBAECRSAIGAMHAGAIDAMGQCBAFCAAQMBJL                 53.0  Elise Viego (NX)        152\n",
       "CECQCAIFFAAQEAYJAEDAGHQCAEBS4NYDAQCTKNRXAMAQMAYOAEDAKIIEAECQCGJRGUCACAIDFIAQIAYCAEDAGDIBAYCSK    43.0  Katarina Elise Viego    132\n",
       "CEDQCAQDBEAQGAYNAEBQKEABAQBQEAQBAMXDOAQBAUUDCAQGAMGBYBABAMCQEAIFAUHACBQDBYBACBI5GUAA             47.0  Elise Annie             125\n",
       "CEDQCAIDG4AQEAYJAEBQKEABAQBQEAIFAUHAEAIFFA2QEBQDBQOAKAIBAMXACAYDBUAQGBICAEDAGDQCAECR2MIBAEAQGMY  51.0  Elise Annie             122\n",
       "CECQCAQDBEBACAZOG4BACBJIGEBAMAYODYCAIBIQGU3DOAIDAECQCGJVAEAQCAZK                                 42.0  Katarina Elise Viego    121\n",
       "CEDACAYDBUAQIAYCAIAQGLRXAIBAGCAJAIDAGDA4AMAQKHJIGUBQCAIDGMAQCBJRAEBQKAQBAEDAGDQ                  60.0  Elise Annie             120\n",
       "dtype: int64"
      ]
     },
     "execution_count": 5,
     "metadata": {},
     "output_type": "execute_result"
    }
   ],
   "source": [
    "best_deck_by_champ(df, champion, date, n) # sorted by playrate"
   ]
  },
  {
   "cell_type": "code",
   "execution_count": 6,
   "id": "ade73f13-c49b-4817-8fad-5a2ea00d9224",
   "metadata": {},
   "outputs": [
    {
     "data": {
      "text/html": [
       "<div>\n",
       "<style scoped>\n",
       "    .dataframe tbody tr th:only-of-type {\n",
       "        vertical-align: middle;\n",
       "    }\n",
       "\n",
       "    .dataframe tbody tr th {\n",
       "        vertical-align: top;\n",
       "    }\n",
       "\n",
       "    .dataframe thead th {\n",
       "        text-align: right;\n",
       "    }\n",
       "</style>\n",
       "<table border=\"1\" class=\"dataframe\">\n",
       "  <thead>\n",
       "    <tr style=\"text-align: right;\">\n",
       "      <th></th>\n",
       "      <th>winrate</th>\n",
       "      <th>archetype</th>\n",
       "      <th>0</th>\n",
       "    </tr>\n",
       "    <tr>\n",
       "      <th>deck_code</th>\n",
       "      <th></th>\n",
       "      <th></th>\n",
       "      <th></th>\n",
       "    </tr>\n",
       "  </thead>\n",
       "  <tbody>\n",
       "    <tr>\n",
       "      <th>CEDACAYDBUAQIAYCAIAQGLRXAIBAGCAJAIDAGDA4AMAQKHJIGUBQCAIDGMAQCBJRAEBQKAQBAEDAGDQ</th>\n",
       "      <td>60.0</td>\n",
       "      <td>Elise Annie</td>\n",
       "      <td>120</td>\n",
       "    </tr>\n",
       "    <tr>\n",
       "      <th>CEDQCAQDBEAQGBIQAECAGAQBAUCQ4AQBAMXDOAQGAMGBYAYBAUUDCNIDAEAQKHIBAMCQMAIGAMHACAIDAMGQ</th>\n",
       "      <td>56.0</td>\n",
       "      <td>Elise Annie</td>\n",
       "      <td>158</td>\n",
       "    </tr>\n",
       "    <tr>\n",
       "      <th>CECQCAQDBEAQMAY6AIAQGLRXAIAQKKBRAMCAKNJWG4CACBAFCAAQMAYOAEDAKKYDAECQCGJVAEAQCAZK</th>\n",
       "      <td>53.0</td>\n",
       "      <td>Katarina Elise Viego</td>\n",
       "      <td>922</td>\n",
       "    </tr>\n",
       "    <tr>\n",
       "      <th>CECQCAQDBEAQMAY6AIAQGLRXAMCAKNJWG4CACBIBFAYTKAQBAECRSAIGAMHAGAIDAMGQCBAFCAAQMBJL</th>\n",
       "      <td>53.0</td>\n",
       "      <td>Elise Viego (NX)</td>\n",
       "      <td>152</td>\n",
       "    </tr>\n",
       "    <tr>\n",
       "      <th>CECQCAQDBEAQMAY6AIAQGLRXAIAQKKBRAMCAKNJWG4CACBAFCAAQMAYOAEDAKKYCAECQCNIDAEAQGKQBAECRSAIDAMGQ</th>\n",
       "      <td>52.0</td>\n",
       "      <td>Katarina Elise Viego</td>\n",
       "      <td>704</td>\n",
       "    </tr>\n",
       "    <tr>\n",
       "      <th>CECQCAQDBEAQMAY6AIAQGLRXAMAQKKBRGUBQIBJVGY3QIAIEAUIACBQDBYAQMBJLAIAQKAIZAA</th>\n",
       "      <td>52.0</td>\n",
       "      <td>Elise Viego (NX)</td>\n",
       "      <td>311</td>\n",
       "    </tr>\n",
       "    <tr>\n",
       "      <th>CECQCAIDG4AQEAYJAIAQKKBRAIDAGDQ6AQCAKEBVGY3QEAIBAMXAGAIFAEMTKAQBAEBSUAIGAUVQ</th>\n",
       "      <td>52.0</td>\n",
       "      <td>Katarina Elise Viego</td>\n",
       "      <td>206</td>\n",
       "    </tr>\n",
       "    <tr>\n",
       "      <th>CEDACAQDBEAQGBIQAECAGAQCAEBS4NYCAECSQNICAYBQYHAFAEBQGDIBAMCQEAIFAUHACBQDBYBACBI5GEAQCAIDGM</th>\n",
       "      <td>51.0</td>\n",
       "      <td>Elise Annie</td>\n",
       "      <td>919</td>\n",
       "    </tr>\n",
       "    <tr>\n",
       "      <th>CEDQCAIDG4AQEAYJAEBQKEABAQBQEAIFAUHAEAIFFA2QEBQDBQOAKAIBAMXACAYDBUAQGBICAEDAGDQCAECR2MIBAEAQGMY</th>\n",
       "      <td>51.0</td>\n",
       "      <td>Elise Annie</td>\n",
       "      <td>122</td>\n",
       "    </tr>\n",
       "    <tr>\n",
       "      <th>CEDQCAQDBEAQGAYNAEBQKEABAQBQEAQBAMXDOAQBAUUDKAQGAMGBYAYBAMCQEAIFAUHAEAIFDUYQEAIBAMZQCBQDBY</th>\n",
       "      <td>50.0</td>\n",
       "      <td>Elise Annie</td>\n",
       "      <td>525</td>\n",
       "    </tr>\n",
       "    <tr>\n",
       "      <th>CEDACAQDBEAQGBIQAECAGAQCAEBS4NYCAECSQNICAYBQYHAFAEBQGDIBAMCQEAIFAUHACBQDBYBACBI5GEAQCAIFEE</th>\n",
       "      <td>49.0</td>\n",
       "      <td>Elise Annie</td>\n",
       "      <td>550</td>\n",
       "    </tr>\n",
       "    <tr>\n",
       "      <th>CEDACAIDFYAQEAYJAEBQKEABAQBQEAQBAUUDKAQGAMGBYBQBAMBQ2AIDAUBACBIFBYAQMAYOAIAQGMZXAIAQKHJRAA</th>\n",
       "      <td>48.0</td>\n",
       "      <td>Elise Annie</td>\n",
       "      <td>217</td>\n",
       "    </tr>\n",
       "    <tr>\n",
       "      <th>CEDQCAQDBEAQGAYNAEBQKEABAQBQEAQBAMXDOAQBAUUDCAQGAMGBYBABAMCQEAIFAUHACBQDBYBACBI5GUAA</th>\n",
       "      <td>47.0</td>\n",
       "      <td>Elise Annie</td>\n",
       "      <td>125</td>\n",
       "    </tr>\n",
       "    <tr>\n",
       "      <th>CECQCAIFFAAQEAYJAEDAGHQCAEBS4NYDAQCTKNRXAMAQMAYOAEDAKIIEAECQCGJRGUCACAIDFIAQIAYCAEDAGDIBAYCSK</th>\n",
       "      <td>43.0</td>\n",
       "      <td>Katarina Elise Viego</td>\n",
       "      <td>132</td>\n",
       "    </tr>\n",
       "    <tr>\n",
       "      <th>CECQCAQDBEBACAZOG4BACBJIGEBAMAYODYCAIBIQGU3DOAIDAECQCGJVAEAQCAZK</th>\n",
       "      <td>42.0</td>\n",
       "      <td>Katarina Elise Viego</td>\n",
       "      <td>121</td>\n",
       "    </tr>\n",
       "  </tbody>\n",
       "</table>\n",
       "</div>"
      ],
      "text/plain": [
       "                                                    winrate  \\\n",
       "deck_code                                                     \n",
       "CEDACAYDBUAQIAYCAIAQGLRXAIBAGCAJAIDAGDA4AMAQKHJ...     60.0   \n",
       "CEDQCAQDBEAQGBIQAECAGAQBAUCQ4AQBAMXDOAQGAMGBYAY...     56.0   \n",
       "CECQCAQDBEAQMAY6AIAQGLRXAIAQKKBRAMCAKNJWG4CACBA...     53.0   \n",
       "CECQCAQDBEAQMAY6AIAQGLRXAMCAKNJWG4CACBIBFAYTKAQ...     53.0   \n",
       "CECQCAQDBEAQMAY6AIAQGLRXAIAQKKBRAMCAKNJWG4CACBA...     52.0   \n",
       "CECQCAQDBEAQMAY6AIAQGLRXAMAQKKBRGUBQIBJVGY3QIAI...     52.0   \n",
       "CECQCAIDG4AQEAYJAIAQKKBRAIDAGDQ6AQCAKEBVGY3QEAI...     52.0   \n",
       "CEDACAQDBEAQGBIQAECAGAQCAEBS4NYCAECSQNICAYBQYHA...     51.0   \n",
       "CEDQCAIDG4AQEAYJAEBQKEABAQBQEAIFAUHAEAIFFA2QEBQ...     51.0   \n",
       "CEDQCAQDBEAQGAYNAEBQKEABAQBQEAQBAMXDOAQBAUUDKAQ...     50.0   \n",
       "CEDACAQDBEAQGBIQAECAGAQCAEBS4NYCAECSQNICAYBQYHA...     49.0   \n",
       "CEDACAIDFYAQEAYJAEBQKEABAQBQEAQBAUUDKAQGAMGBYBQ...     48.0   \n",
       "CEDQCAQDBEAQGAYNAEBQKEABAQBQEAQBAMXDOAQBAUUDCAQ...     47.0   \n",
       "CECQCAIFFAAQEAYJAEDAGHQCAEBS4NYDAQCTKNRXAMAQMAY...     43.0   \n",
       "CECQCAQDBEBACAZOG4BACBJIGEBAMAYODYCAIBIQGU3DOAI...     42.0   \n",
       "\n",
       "                                                               archetype    0  \n",
       "deck_code                                                                      \n",
       "CEDACAYDBUAQIAYCAIAQGLRXAIBAGCAJAIDAGDA4AMAQKHJ...           Elise Annie  120  \n",
       "CEDQCAQDBEAQGBIQAECAGAQBAUCQ4AQBAMXDOAQGAMGBYAY...           Elise Annie  158  \n",
       "CECQCAQDBEAQMAY6AIAQGLRXAIAQKKBRAMCAKNJWG4CACBA...  Katarina Elise Viego  922  \n",
       "CECQCAQDBEAQMAY6AIAQGLRXAMCAKNJWG4CACBIBFAYTKAQ...      Elise Viego (NX)  152  \n",
       "CECQCAQDBEAQMAY6AIAQGLRXAIAQKKBRAMCAKNJWG4CACBA...  Katarina Elise Viego  704  \n",
       "CECQCAQDBEAQMAY6AIAQGLRXAMAQKKBRGUBQIBJVGY3QIAI...      Elise Viego (NX)  311  \n",
       "CECQCAIDG4AQEAYJAIAQKKBRAIDAGDQ6AQCAKEBVGY3QEAI...  Katarina Elise Viego  206  \n",
       "CEDACAQDBEAQGBIQAECAGAQCAEBS4NYCAECSQNICAYBQYHA...           Elise Annie  919  \n",
       "CEDQCAIDG4AQEAYJAEBQKEABAQBQEAIFAUHAEAIFFA2QEBQ...           Elise Annie  122  \n",
       "CEDQCAQDBEAQGAYNAEBQKEABAQBQEAQBAMXDOAQBAUUDKAQ...           Elise Annie  525  \n",
       "CEDACAQDBEAQGBIQAECAGAQCAEBS4NYCAECSQNICAYBQYHA...           Elise Annie  550  \n",
       "CEDACAIDFYAQEAYJAEBQKEABAQBQEAQBAUUDKAQGAMGBYBQ...           Elise Annie  217  \n",
       "CEDQCAQDBEAQGAYNAEBQKEABAQBQEAQBAMXDOAQBAUUDCAQ...           Elise Annie  125  \n",
       "CECQCAIFFAAQEAYJAEDAGHQCAEBS4NYDAQCTKNRXAMAQMAY...  Katarina Elise Viego  132  \n",
       "CECQCAQDBEBACAZOG4BACBJIGEBAMAYODYCAIBIQGU3DOAI...  Katarina Elise Viego  121  "
      ]
     },
     "execution_count": 6,
     "metadata": {},
     "output_type": "execute_result"
    }
   ],
   "source": [
    "def best_deck_by_champ_by_winrate():\n",
    "    x = best_deck_by_champ(df, champion, date, n)\n",
    "    df_x = pd.DataFrame(x)\n",
    "    df_x.index.names = [\"deck_code\", \"winrate\", \"archetype\"]\n",
    "    df_x.reset_index(level=['winrate', 'archetype'], inplace=True)\n",
    "    df_x = df_x.sort_values(by=['winrate'], ascending=False)\n",
    "    return df_x\n",
    "best_deck_by_champ_by_winrate()"
   ]
  },
  {
   "cell_type": "code",
   "execution_count": 7,
   "id": "7dcd0bf0-3920-4661-9341-3cd41d919a5f",
   "metadata": {},
   "outputs": [],
   "source": [
    "# # double check it worked\n",
    "# df_date = df[df['game_start_time_utc'] > date] #build dataframe you build in function\n",
    "# deck = y.index[0][0] # get deck code returned for deck #1 in the function\n",
    "# true_value = df_date.deck_code.str.count(deck).sum() #see how many times that deck actually appears in dataframe\n",
    "# output_value = y[0] # get how many times the function said that deck appears\n",
    "# true_value == output_value # compare values"
   ]
  },
  {
   "cell_type": "code",
   "execution_count": 8,
   "id": "8675af5a-7b47-41f6-8782-62026e0959ba",
   "metadata": {},
   "outputs": [],
   "source": [
    "## write code to stalk someone"
   ]
  },
  {
   "cell_type": "code",
   "execution_count": 9,
   "id": "35cb821a-184d-40ad-b8c7-e0ea3ee3c5dd",
   "metadata": {},
   "outputs": [
    {
     "data": {
      "text/plain": [
       "Lissandra Taliyah       30\n",
       "Renekton Akshan (BC)    20\n",
       "Diana Aphelios (SI)     18\n",
       "Trundle Gnar (PZ)       12\n",
       "Thresh Nasus             5\n",
       "Fizz Riven (BC)          4\n",
       "Ekko Sivir Zilean        3\n",
       "Yuumi Pantheon (DE)      1\n",
       "Elise Viego (NX)         1\n",
       "Name: archetype, dtype: int64"
      ]
     },
     "execution_count": 9,
     "metadata": {},
     "output_type": "execute_result"
    }
   ],
   "source": [
    "contain_values = df[df['player'].str.contains('J Tiller#NA1', na=False)]\n",
    "contain_values['archetype'].value_counts()"
   ]
  },
  {
   "cell_type": "code",
   "execution_count": 10,
   "id": "1c06d166-3883-4416-abcb-8a05b6423252",
   "metadata": {},
   "outputs": [
    {
     "data": {
      "text/plain": [
       "Ahri Bard                  62\n",
       "Ezreal Annie               56\n",
       "Jarvan IV Poppy Bard       50\n",
       "Twisted Fate Nami (SI)     45\n",
       "Aphelios Viktor            11\n",
       "Ezreal Kennen (IO)          9\n",
       "Zoe Aphelios Yuumi (SI)     6\n",
       "Elise Annie                 2\n",
       "Tryndamere Trundle (IO)     2\n",
       "Katarina Ahri               1\n",
       "Name: archetype, dtype: int64"
      ]
     },
     "execution_count": 10,
     "metadata": {},
     "output_type": "execute_result"
    }
   ],
   "source": [
    "contain_values = df[df['player'].str.contains('Majiin', na=False)]\n",
    "contain_values['archetype'].value_counts()\n",
    "# contain_values"
   ]
  },
  {
   "cell_type": "code",
   "execution_count": 11,
   "id": "5494684e-1767-4c08-8592-ad7a21798234",
   "metadata": {},
   "outputs": [
    {
     "data": {
      "text/plain": [
       "Taric Poppy (DE)             7\n",
       "Rumble Sion (BC)             4\n",
       "Jarvan IV Illaoi             4\n",
       "Jarvan IV Poppy Bard         2\n",
       "Pyke Rek'Sai                 2\n",
       "Malphite Taliyah             1\n",
       "Katarina Ahri Annie          1\n",
       "Sivir Akshan (DE)            1\n",
       "Ashe LeBlanc                 1\n",
       "Yuumi Poppy Tristana (DE)    1\n",
       "Name: archetype, dtype: int64"
      ]
     },
     "execution_count": 11,
     "metadata": {},
     "output_type": "execute_result"
    }
   ],
   "source": [
    "contain_values = df[df['player'].str.contains('Griffener#1217', na=False)]\n",
    "contain_values['archetype'].value_counts()"
   ]
  },
  {
   "cell_type": "code",
   "execution_count": 12,
   "id": "4eb108a2-7965-4a17-8aad-d269614591cd",
   "metadata": {},
   "outputs": [
    {
     "data": {
      "text/plain": [
       "Lissandra Taliyah                  16\n",
       "Annie Jhin                          5\n",
       "Miss Fortune Twisted Fate Annie     3\n",
       "Irelia Azir                         2\n",
       "Elise Annie                         1\n",
       "Ahri Bard                           1\n",
       "Vi Zoe Aphelios                     1\n",
       "Name: archetype, dtype: int64"
      ]
     },
     "execution_count": 12,
     "metadata": {},
     "output_type": "execute_result"
    }
   ],
   "source": [
    "contain_values = df[df['player'].str.contains('HEIF', na=False)]\n",
    "contain_values['archetype'].value_counts()"
   ]
  },
  {
   "cell_type": "code",
   "execution_count": null,
   "id": "4f3aa46f-8ab8-47de-859b-067495467cd6",
   "metadata": {},
   "outputs": [],
   "source": [
    "##"
   ]
  },
  {
   "cell_type": "code",
   "execution_count": 15,
   "id": "12e91887-881e-4f1d-9d4c-6c5141834616",
   "metadata": {},
   "outputs": [],
   "source": [
    "def personal_winrate(user):\n",
    "    contain_values = df[df['player'].str.contains('HEIF', na=False)]\n",
    "    # contain_values['archetype'].value_counts()\n",
    "    return contain_values['archetype'].value_counts()"
   ]
  },
  {
   "cell_type": "code",
   "execution_count": 16,
   "id": "240f5e1c-9c9f-456b-93da-2407524786be",
   "metadata": {},
   "outputs": [
    {
     "data": {
      "text/plain": [
       "Lissandra Taliyah                  16\n",
       "Annie Jhin                          5\n",
       "Miss Fortune Twisted Fate Annie     3\n",
       "Irelia Azir                         2\n",
       "Elise Annie                         1\n",
       "Ahri Bard                           1\n",
       "Vi Zoe Aphelios                     1\n",
       "Name: archetype, dtype: int64"
      ]
     },
     "execution_count": 16,
     "metadata": {},
     "output_type": "execute_result"
    }
   ],
   "source": [
    "personal_winrate('HEIF')"
   ]
  },
  {
   "cell_type": "code",
   "execution_count": 20,
   "id": "3712d7b9-1e0b-41ec-813c-6d2d873a2efe",
   "metadata": {},
   "outputs": [
    {
     "data": {
      "text/html": [
       "<div>\n",
       "<style scoped>\n",
       "    .dataframe tbody tr th:only-of-type {\n",
       "        vertical-align: middle;\n",
       "    }\n",
       "\n",
       "    .dataframe tbody tr th {\n",
       "        vertical-align: top;\n",
       "    }\n",
       "\n",
       "    .dataframe thead th {\n",
       "        text-align: right;\n",
       "    }\n",
       "</style>\n",
       "<table border=\"1\" class=\"dataframe\">\n",
       "  <thead>\n",
       "    <tr style=\"text-align: right;\">\n",
       "      <th></th>\n",
       "      <th>Unnamed: 0</th>\n",
       "      <th>match_id</th>\n",
       "      <th>game_start_time_utc</th>\n",
       "      <th>game_version</th>\n",
       "      <th>player</th>\n",
       "      <th>deck_code</th>\n",
       "      <th>game_outcome</th>\n",
       "      <th>order_of_play</th>\n",
       "      <th>total_turn_count</th>\n",
       "      <th>faction_1</th>\n",
       "      <th>faction_2</th>\n",
       "      <th>archetype</th>\n",
       "      <th>is_master</th>\n",
       "      <th>region</th>\n",
       "    </tr>\n",
       "  </thead>\n",
       "  <tbody>\n",
       "    <tr>\n",
       "      <th>101</th>\n",
       "      <td>101</td>\n",
       "      <td>d5d9bc45-657d-41aa-8481-dddab8cfec1f</td>\n",
       "      <td>2022-06-14 18:40:14</td>\n",
       "      <td>live_3_09_12</td>\n",
       "      <td>HEIFER#OCE</td>\n",
       "      <td>CEDACAQDBEAQGBIQAECAGAQCAEBS4NYCAECSQNICAYBQYH...</td>\n",
       "      <td>loss</td>\n",
       "      <td>1</td>\n",
       "      <td>20</td>\n",
       "      <td>Noxus</td>\n",
       "      <td>ShadowIsles</td>\n",
       "      <td>Elise Annie</td>\n",
       "      <td>0</td>\n",
       "      <td>americas</td>\n",
       "    </tr>\n",
       "    <tr>\n",
       "      <th>334</th>\n",
       "      <td>334</td>\n",
       "      <td>46de58d1-c62c-4a2a-91da-71fe84bf7f8a</td>\n",
       "      <td>2022-06-14 16:57:03</td>\n",
       "      <td>live_3_09_12</td>\n",
       "      <td>HEIFER#OCE</td>\n",
       "      <td>CMCACBQBDYAQMBZSAQCACAIFBIHAMBAHBUPSYQSJPABACA...</td>\n",
       "      <td>win</td>\n",
       "      <td>0</td>\n",
       "      <td>18</td>\n",
       "      <td>Freljord</td>\n",
       "      <td>Shurima</td>\n",
       "      <td>Lissandra Taliyah</td>\n",
       "      <td>0</td>\n",
       "      <td>americas</td>\n",
       "    </tr>\n",
       "  </tbody>\n",
       "</table>\n",
       "</div>"
      ],
      "text/plain": [
       "     Unnamed: 0                              match_id  game_start_time_utc  \\\n",
       "101         101  d5d9bc45-657d-41aa-8481-dddab8cfec1f  2022-06-14 18:40:14   \n",
       "334         334  46de58d1-c62c-4a2a-91da-71fe84bf7f8a  2022-06-14 16:57:03   \n",
       "\n",
       "     game_version      player  \\\n",
       "101  live_3_09_12  HEIFER#OCE   \n",
       "334  live_3_09_12  HEIFER#OCE   \n",
       "\n",
       "                                             deck_code game_outcome  \\\n",
       "101  CEDACAQDBEAQGBIQAECAGAQCAEBS4NYCAECSQNICAYBQYH...         loss   \n",
       "334  CMCACBQBDYAQMBZSAQCACAIFBIHAMBAHBUPSYQSJPABACA...          win   \n",
       "\n",
       "     order_of_play  total_turn_count faction_1    faction_2  \\\n",
       "101              1                20     Noxus  ShadowIsles   \n",
       "334              0                18  Freljord      Shurima   \n",
       "\n",
       "             archetype  is_master    region  \n",
       "101        Elise Annie          0  americas  \n",
       "334  Lissandra Taliyah          0  americas  "
      ]
     },
     "execution_count": 20,
     "metadata": {},
     "output_type": "execute_result"
    }
   ],
   "source": [
    "contain_values = df[df['player'].str.contains('HEIF', na=False)]\n",
    "contain_values.head(2)"
   ]
  },
  {
   "cell_type": "code",
   "execution_count": 29,
   "id": "fc668580-deb2-4f11-b06a-638c36d5005e",
   "metadata": {},
   "outputs": [
    {
     "data": {
      "text/plain": [
       "archetype                        game_outcome\n",
       "Ahri Bard                        win             1\n",
       "Annie Jhin                       loss            1\n",
       "                                 win             4\n",
       "Elise Annie                      loss            1\n",
       "Irelia Azir                      loss            2\n",
       "Lissandra Taliyah                loss            9\n",
       "                                 win             7\n",
       "Miss Fortune Twisted Fate Annie  loss            1\n",
       "                                 win             2\n",
       "Vi Zoe Aphelios                  loss            1\n",
       "dtype: int64"
      ]
     },
     "execution_count": 29,
     "metadata": {},
     "output_type": "execute_result"
    }
   ],
   "source": [
    "outcomes = contain_values.groupby(['archetype', 'game_outcome']).size()\n",
    "outcomes"
   ]
  },
  {
   "cell_type": "code",
   "execution_count": 47,
   "id": "8b827f52-f572-4f0b-a929-60e6a729b3f2",
   "metadata": {},
   "outputs": [
    {
     "name": "stdout",
     "output_type": "stream",
     "text": [
      "game_outcome  archetype                      \n",
      "loss          Lissandra Taliyah                  9\n",
      "              Irelia Azir                        2\n",
      "              Annie Jhin                         1\n",
      "              Elise Annie                        1\n",
      "              Miss Fortune Twisted Fate Annie    1\n",
      "              Vi Zoe Aphelios                    1\n",
      "win           Lissandra Taliyah                  7\n",
      "              Annie Jhin                         4\n",
      "              Miss Fortune Twisted Fate Annie    2\n",
      "              Ahri Bard                          1\n",
      "Name: archetype, dtype: int64\n"
     ]
    }
   ],
   "source": [
    "# sum win%\n",
    "# outcomes\n",
    "\n",
    "s = contain_values.groupby(['game_outcome'])['archetype'].value_counts()\n",
    "print(s)\n",
    "\n",
    "# df_small = df_date[['deck_code', 'archetype']]\n",
    "# y = pd.DataFrame(df_champ)"
   ]
  },
  {
   "cell_type": "code",
   "execution_count": 66,
   "id": "7ca9e474-9391-4d7c-b7a5-47210a21eaa1",
   "metadata": {},
   "outputs": [
    {
     "name": "stdout",
     "output_type": "stream",
     "text": [
      "You win 48.28 % of the time\n"
     ]
    }
   ],
   "source": [
    "# contain_values = df[df['player'].str.contains('HEIF', na=False)]\n",
    "\n",
    "wins = sum(contain_values['game_outcome'].str.contains('win', na=False))\n",
    "loss = sum(contain_values['game_outcome'].str.contains('loss', na=False))\n",
    "\n",
    "print('You win', round(wins/len(contain_values)*100, 2),'% of the time')"
   ]
  },
  {
   "cell_type": "code",
   "execution_count": 67,
   "id": "2b99d912-d35a-4ea8-bffe-33d492c7e600",
   "metadata": {},
   "outputs": [
    {
     "data": {
      "text/plain": [
       "334"
      ]
     },
     "execution_count": 67,
     "metadata": {},
     "output_type": "execute_result"
    }
   ],
   "source": [
    "contain_values.index"
   ]
  },
  {
   "cell_type": "code",
   "execution_count": null,
   "id": "aa2dab8a-b664-47d0-aed9-320e5d546737",
   "metadata": {},
   "outputs": [],
   "source": []
  },
  {
   "cell_type": "code",
   "execution_count": null,
   "id": "eadbd8c9-9430-4528-8571-1504027db9a0",
   "metadata": {},
   "outputs": [],
   "source": []
  },
  {
   "cell_type": "code",
   "execution_count": null,
   "id": "96b8b484-9329-44cd-8706-d25b65d06db3",
   "metadata": {},
   "outputs": [],
   "source": []
  },
  {
   "cell_type": "code",
   "execution_count": 27,
   "id": "84346c7a-d281-4363-8633-f1cf857fd714",
   "metadata": {},
   "outputs": [
    {
     "data": {
      "text/plain": [
       "archetype                        game_outcome\n",
       "Ahri Bard                        win             100.0\n",
       "Annie Jhin                       loss             20.0\n",
       "                                 win              80.0\n",
       "Elise Annie                      loss            100.0\n",
       "Irelia Azir                      loss            100.0\n",
       "Lissandra Taliyah                loss             56.0\n",
       "                                 win              44.0\n",
       "Miss Fortune Twisted Fate Annie  loss             33.0\n",
       "                                 win              67.0\n",
       "Vi Zoe Aphelios                  loss            100.0\n",
       "dtype: float64"
      ]
     },
     "execution_count": 27,
     "metadata": {},
     "output_type": "execute_result"
    }
   ],
   "source": [
    "outcomes = outcomes.groupby(level=0).transform(lambda x: (x / x.sum()).round(2)*100)\n",
    "outcomes"
   ]
  },
  {
   "cell_type": "code",
   "execution_count": 69,
   "id": "ef2d9447-0fc2-4562-8dc4-e13fb20c9b9b",
   "metadata": {},
   "outputs": [
    {
     "data": {
      "text/plain": [
       "archetype\n",
       "Lissandra Taliyah                  7\n",
       "Annie Jhin                         4\n",
       "Miss Fortune Twisted Fate Annie    2\n",
       "Ahri Bard                          1\n",
       "dtype: int64"
      ]
     },
     "execution_count": 69,
     "metadata": {},
     "output_type": "execute_result"
    }
   ],
   "source": [
    "outcomes.drop('loss',level=1, axis=0, inplace=True)\n",
    "outcomes = outcomes.droplevel(level=1)\n",
    "outcomes = outcomes.sort_values(ascending=False)\n",
    "outcomes"
   ]
  },
  {
   "cell_type": "code",
   "execution_count": 70,
   "id": "67cebb99-87e5-4d4c-8858-57f13bcffd34",
   "metadata": {},
   "outputs": [
    {
     "data": {
      "text/plain": [
       "'Annie Jhin'"
      ]
     },
     "execution_count": 70,
     "metadata": {},
     "output_type": "execute_result"
    }
   ],
   "source": [
    "outcomes.index[1]"
   ]
  },
  {
   "cell_type": "code",
   "execution_count": null,
   "id": "c121e200-0dd9-4384-9faf-d8701b808cbf",
   "metadata": {},
   "outputs": [],
   "source": []
  },
  {
   "cell_type": "code",
   "execution_count": null,
   "id": "d28da24a-7a80-4a12-a44e-178cec6aabb7",
   "metadata": {},
   "outputs": [],
   "source": [
    "## get win% of archetypes"
   ]
  },
  {
   "cell_type": "code",
   "execution_count": 77,
   "id": "f5e591af-e513-4a83-b817-4b3e1d860ad0",
   "metadata": {
    "tags": []
   },
   "outputs": [
    {
     "data": {
      "text/plain": [
       "archetype\n",
       "Ahri Bard                          100.0\n",
       "Annie Jhin                          80.0\n",
       "Miss Fortune Twisted Fate Annie     67.0\n",
       "Lissandra Taliyah                   44.0\n",
       "dtype: float64"
      ]
     },
     "execution_count": 77,
     "metadata": {},
     "output_type": "execute_result"
    }
   ],
   "source": [
    "contain_values = df[df['player'].str.contains('HEIFER#OCE', na=False)]\n",
    "outcomes = contain_values.groupby(['archetype', 'game_outcome']).size()\n",
    "outcomes = outcomes.groupby(level=0).transform(lambda x: (x / x.sum()).round(2)*100)\n",
    "outcomes.drop('loss',level=1, axis=0, inplace=True)\n",
    "outcomes = outcomes.droplevel(level=1)\n",
    "outcomes = outcomes.sort_values(ascending=False)\n",
    "outcomes"
   ]
  },
  {
   "cell_type": "code",
   "execution_count": 78,
   "id": "8f0c3982-da35-4ee6-95e8-43831da5aa5d",
   "metadata": {},
   "outputs": [
    {
     "data": {
      "text/plain": [
       "'Annie Jhin'"
      ]
     },
     "execution_count": 78,
     "metadata": {},
     "output_type": "execute_result"
    }
   ],
   "source": [
    "outcomes.index[1]"
   ]
  },
  {
   "cell_type": "code",
   "execution_count": null,
   "id": "1c68bdec-85db-4f2d-a6ae-a686ebdc240b",
   "metadata": {},
   "outputs": [],
   "source": [
    "## get n for archetype"
   ]
  },
  {
   "cell_type": "code",
   "execution_count": 79,
   "id": "31dbd31a-e0e7-4e4d-931d-b52cd602ac7d",
   "metadata": {},
   "outputs": [
    {
     "name": "stdout",
     "output_type": "stream",
     "text": [
      "Ahri Bard\n",
      "Annie Jhin\n",
      "Miss Fortune Twisted Fate Annie\n",
      "Lissandra Taliyah\n"
     ]
    }
   ],
   "source": [
    "for i in outcomes.index:\n",
    "    print(i)"
   ]
  },
  {
   "cell_type": "code",
   "execution_count": 85,
   "id": "dc50811f-07d7-4bed-aa52-2b9348aa389a",
   "metadata": {},
   "outputs": [
    {
     "data": {
      "text/plain": [
       "1"
      ]
     },
     "execution_count": 85,
     "metadata": {},
     "output_type": "execute_result"
    }
   ],
   "source": [
    "sum(contain_values['archetype'].str.contains('Ahri Bard', na=False))"
   ]
  },
  {
   "cell_type": "code",
   "execution_count": 92,
   "id": "59476839-0ac2-4e7d-befb-a36e89e1a015",
   "metadata": {},
   "outputs": [],
   "source": [
    "game_count = []\n",
    "for i in outcomes.index:\n",
    "    game_count.append(sum(contain_values['archetype'].str.contains(str(i), na=False)))"
   ]
  },
  {
   "cell_type": "code",
   "execution_count": 93,
   "id": "ce6c6680-a24a-4765-8d63-6fd8ec27fe5b",
   "metadata": {},
   "outputs": [
    {
     "data": {
      "text/plain": [
       "[1, 5, 3, 16]"
      ]
     },
     "execution_count": 93,
     "metadata": {},
     "output_type": "execute_result"
    }
   ],
   "source": [
    "game_count"
   ]
  },
  {
   "cell_type": "code",
   "execution_count": null,
   "id": "9f338959-baec-467b-9ed9-79a525d49857",
   "metadata": {},
   "outputs": [],
   "source": []
  },
  {
   "cell_type": "code",
   "execution_count": null,
   "id": "9bd87928-1b18-4594-b19a-f9f300016c30",
   "metadata": {},
   "outputs": [],
   "source": []
  },
  {
   "cell_type": "code",
   "execution_count": null,
   "id": "c2968c97-2a93-4fd1-aa74-1dcbd0901d84",
   "metadata": {},
   "outputs": [],
   "source": [
    "df_champ = champ_list.groupby(['deck_code', 'game_outcome']).size()\n",
    "df_champ = df_champ.groupby(level=0).transform(lambda x: (x / x.sum()).round(2)*100)\n",
    "df_champ.drop('loss', level=1, axis=0, inplace=True) #drop loss %\n",
    "df_champ = df_champ.droplevel(level=1) #drop win/loss\n",
    "df_champ = df_champ.sort_values(ascending=False)"
   ]
  }
 ],
 "metadata": {
  "kernelspec": {
   "display_name": "Python 3",
   "language": "python",
   "name": "python3"
  },
  "language_info": {
   "codemirror_mode": {
    "name": "ipython",
    "version": 3
   },
   "file_extension": ".py",
   "mimetype": "text/x-python",
   "name": "python",
   "nbconvert_exporter": "python",
   "pygments_lexer": "ipython3",
   "version": "3.8.8"
  }
 },
 "nbformat": 4,
 "nbformat_minor": 5
}
