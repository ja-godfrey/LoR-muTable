{
 "cells": [
  {
   "cell_type": "markdown",
   "id": "030c5fb7-e921-4217-b288-23dc124ac427",
   "metadata": {},
   "source": [
    "## Give me the best deck with Champion X"
   ]
  },
  {
   "cell_type": "code",
   "execution_count": 1,
   "id": "82a2fc0c-b06d-46ca-82c0-4d788050dd93",
   "metadata": {},
   "outputs": [],
   "source": [
    "import pandas as pd"
   ]
  },
  {
   "cell_type": "code",
   "execution_count": 2,
   "id": "05d7612e-41e0-4e02-8058-cd5b38fea25a",
   "metadata": {},
   "outputs": [],
   "source": [
    "df = pd.read_csv(r'./../data/raw/lor_ranked_data_all.csv') # read in the data"
   ]
  },
  {
   "cell_type": "code",
   "execution_count": 50,
   "id": "53ae36f7-a71c-4faf-adc9-d58671a2faa7",
   "metadata": {},
   "outputs": [],
   "source": [
    "champion = 'Akshan'\n",
    "date = '2022-06-20'\n",
    "n = 100"
   ]
  },
  {
   "cell_type": "code",
   "execution_count": 51,
   "id": "97b664f2-8a99-47b0-b4ec-e339be41b53c",
   "metadata": {},
   "outputs": [],
   "source": [
    "def best_deck_by_champ(df, champion, date, n):\n",
    "    df_date = df[df['game_start_time_utc'] > date]\n",
    "    champ_list = df_date[df_date['archetype'].str.contains(champion)]\n",
    "    archetypes = champ_list['deck_code'].value_counts() # find the unique archetypes being played\n",
    "    archetypes = archetypes[archetypes > n] #only keep popular deck_codes\n",
    "    popular_list = list(archetypes.index) # make a list of popular deck_codes\n",
    "    champ_list = champ_list.loc[df['deck_code'].isin(popular_list)] # filter df to only keep popular archetypes\n",
    "    df_champ = champ_list.groupby(['deck_code', 'game_outcome']).size()\n",
    "    df_champ = df_champ.groupby(level=0).transform(lambda x: (x / x.sum()).round(2)*100)\n",
    "    df_champ.drop('loss', level=1, axis=0, inplace=True) #drop loss %\n",
    "    df_champ = df_champ.droplevel(level=1) #drop win/loss\n",
    "    df_champ = df_champ.sort_values(ascending=False)\n",
    "    \n",
    "    df_small = df_date[['deck_code', 'archetype']]\n",
    "    y = pd.DataFrame(df_champ)\n",
    "    \n",
    "    inner = pd.merge(y, df_small, on='deck_code', how='inner')#.value_counts()\n",
    "    inner = inner.value_counts()\n",
    "    df_champ = inner.sort_values(ascending=False)\n",
    "    \n",
    "    return df_champ"
   ]
  },
  {
   "cell_type": "code",
   "execution_count": 52,
   "id": "33dd4619-8dc8-4c68-a1ac-e63b7a2257d0",
   "metadata": {},
   "outputs": [
    {
     "data": {
      "text/plain": [
       "deck_code                                                                                         0     archetype        \n",
       "CMDACAIEFYAQGBANAECAIBYBAUCAYAIGA4ZAKBAHFRBHTAABQIAQEAIEAQCAEBAHMRWQEAIEAQFQGBAHHNHYSAI           42.0  Akshan (PZ)          889\n",
       "CMBQCAIABEAQKAAMAUCAOFBWM6AQDAQBAUAQCAA5AEBAAAIBAMAA4AIEAABAGBAHLWAADCQBAMAQIAADAECQAFADAQDQ2O3N  57.0  Sivir Akshan (DE)    671\n",
       "CMDACAIEFYAQGBANAECQIDABAYDTEAQEAQCAOBIEA4WEE6MAAGBACAIBAQDW2AYBAICAUAIEAQFQGBAHHNSISAI           45.0  Akshan (PZ)          640\n",
       "CMCACAICBQAQGAQJAMCAOI4CAGFACBACAIBQKBQJAQAQCARRAEDAEJABAYDSUAYEA5OW3AABAEAQIBZQ                  42.0  Lee Sin Akshan       567\n",
       "CMDACAIEFYAQGBANAECQIDABAYDTEAQEAQCAOBIEA4WEE6MAAGBACAICAQDU6ZACAECAODICAQCACCY                   48.0  Ekko Akshan          331\n",
       "CMCQCAIEFYAQGBANAECQIDABAYDTEBIEA5BF26MAAGBACAQBAQCAWBIEA4GSYTDENUAQCBAEA4                        43.0  Akshan (PZ)          287\n",
       "CMCQCAIEFYAQKBAMAEDAOMQCAQCAEBYHAQDSYQSMMR4YAAMCAEAQCBAHNUAQEBAHHOEQC                             26.0  Akshan (PZ)          261\n",
       "CMBQCAICBQBQIB4AAGBADCQBAQBAEAYGBAEQIAIBAIYQCAQCAUAQMAREAICAONS5AQAQCAQCAEBAECQCAMBASFACAQDQ23I   48.0  Lee Sin Akshan       238\n",
       "CMCQCAIEFYAQGBANAECQIDACAQCAEBYEAQDSYQUAAGBACAQBAYDTEBAEA4GRYXLZAIAQIBALAICAO3MJAE                42.0  Akshan (PZ)          235\n",
       "CMDACAIEFYAQGBANAECAIBYBAUCAYAIGA4ZAKBAHFRBHTAABQIAQEAIEA5WQEBAEAICAEAIEAQFQGBAHHNSISAI           42.0  Akshan (PZ)          221\n",
       "CMCACAICBQAQMAREAIBAEAYGAQCAOXMAAGBADCQBAQAQIAQUAIAQEARRAIBAEBIJAICAODKZAIAQEAQKAECQEAQ           42.0  Lee Sin Akshan       218\n",
       "CMDACAIEFYAQGBANAECQIDABAYDTEAQEAQCAOBAEA5BHTAABQIAQCBAEA4GSYXLNAIAQIBALAECAOOY                   49.0  Akshan (PZ)          194\n",
       "CMDACAIEFYAQGBANAECAIBYBAUCAYAIGA4ZAKBAHFRBHTAABQIAQEAIBAQWQEBAHGZWQEAIEAQFQGBAHHNSISAI           40.0  Akshan (PZ)          156\n",
       "CMDACAIEFYAQGBANAECQIDABAYDTEAQEAQCAOBIEA4WEE6MAAGBACAICAQDU6ZACAECAICYCAQDW3CIB                  40.0  Akshan (PZ)          138\n",
       "CMBQCAICBQBQEAQDAUDAGBAHEOBADCQBAYAQCARRAEBAECIBAMBASAIGAISACBQHFICAIBYNLVWYAAIBAECAOMA           44.0  Lee Sin Akshan       119\n",
       "CMDACAIEFYAQGBANAECAIBYBAUCAYAIGA4ZAKBAHFRBHTAABQIAQEAIEAQCAEBAHGZWQEAIEAQFQGBAHHNSISAI           29.0  Akshan (PZ)          117\n",
       "CMDACAYEBUAQIBAHAECQIDABAYDTEAQBAQWS4BAEA5BHTAABQIAQCAYEA4WDM3ICAECAICYDAQDTWZEJAE                53.0  Akshan (PZ)          112\n",
       "CMDACAIEFYAQGBANAECAIBYBAUCAYAIGA4ZAMBAHFRBGI6MAAGBACAQBAQCAIAIEA5WQEAIEAQFQEBAHHOEQC             43.0  Akshan (PZ)          103\n",
       "dtype: int64"
      ]
     },
     "execution_count": 52,
     "metadata": {},
     "output_type": "execute_result"
    }
   ],
   "source": [
    "best_deck_by_champ(df, champion, date, n) # sorted by playrate"
   ]
  },
  {
   "cell_type": "code",
   "execution_count": 54,
   "id": "ade73f13-c49b-4817-8fad-5a2ea00d9224",
   "metadata": {},
   "outputs": [],
   "source": [
    "def best_deck_by_champ_by_winrate():\n",
    "    x = best_deck_by_champ(df, champion, date, n)\n",
    "    df_x = pd.DataFrame(x)\n",
    "    df_x.index.names = [\"deck_code\", \"winrate\", \"archetype\"]\n",
    "    df_x.reset_index(level=['winrate', 'archetype'], inplace=True)\n",
    "    df_x = df_x.sort_values(by=['winrate'], ascending=False)\n",
    "    return df_x\n",
    "best_deck_by_champ_by_winrate()"
   ]
  },
  {
   "cell_type": "code",
   "execution_count": null,
   "id": "7dcd0bf0-3920-4661-9341-3cd41d919a5f",
   "metadata": {},
   "outputs": [],
   "source": [
    "# # double check it worked\n",
    "# df_date = df[df['game_start_time_utc'] > date] #build dataframe you build in function\n",
    "# deck = y.index[0][0] # get deck code returned for deck #1 in the function\n",
    "# true_value = df_date.deck_code.str.count(deck).sum() #see how many times that deck actually appears in dataframe\n",
    "# output_value = y[0] # get how many times the function said that deck appears\n",
    "# true_value == output_value # compare values"
   ]
  },
  {
   "cell_type": "code",
   "execution_count": null,
   "id": "8675af5a-7b47-41f6-8782-62026e0959ba",
   "metadata": {},
   "outputs": [],
   "source": []
  }
 ],
 "metadata": {
  "kernelspec": {
   "display_name": "Python 3",
   "language": "python",
   "name": "python3"
  },
  "language_info": {
   "codemirror_mode": {
    "name": "ipython",
    "version": 3
   },
   "file_extension": ".py",
   "mimetype": "text/x-python",
   "name": "python",
   "nbconvert_exporter": "python",
   "pygments_lexer": "ipython3",
   "version": "3.8.8"
  }
 },
 "nbformat": 4,
 "nbformat_minor": 5
}
