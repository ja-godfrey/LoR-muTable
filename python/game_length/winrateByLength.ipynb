{
 "cells": [
  {
   "cell_type": "code",
   "execution_count": 54,
   "id": "75f20daf-69d8-4aa0-aebe-d1b8786c363f",
   "metadata": {},
   "outputs": [
    {
     "name": "stdout",
     "output_type": "stream",
     "text": [
      "The autotime extension is already loaded. To reload it, use:\n",
      "  %reload_ext autotime\n",
      "time: 0 ns (started: 2022-06-12 13:06:51 -04:00)\n"
     ]
    }
   ],
   "source": [
    "import pandas as pd\n",
    "import seaborn as sns\n",
    "import matplotlib.pyplot as plt\n",
    "import matplotlib.ticker as mtick\n",
    "from datetime import date\n",
    "from datetime import timedelta\n",
    "from fpdf import FPDF\n",
    "from IPython.display import HTML\n",
    "import os\n",
    "import numpy as np\n",
    "from scipy.signal import savgol_filter\n",
    "\n",
    "from dateutil import parser\n",
    "import datetime\n",
    "import dataframe_image as dfi\n",
    "\n",
    "os.chdir('../best_deck_yesterday')\n",
    "%load_ext autotime"
   ]
  },
  {
   "cell_type": "code",
   "execution_count": 55,
   "id": "c9e08f45-9865-4906-abd8-3e30dfba4ac9",
   "metadata": {},
   "outputs": [
    {
     "name": "stdout",
     "output_type": "stream",
     "text": [
      "time: 1min 44s (started: 2022-06-12 13:06:51 -04:00)\n"
     ]
    }
   ],
   "source": [
    "df = pd.read_csv(r'./../data/raw/lor_ranked_data_all.csv')"
   ]
  },
  {
   "cell_type": "code",
   "execution_count": 56,
   "id": "c26fa0ce-b0ad-46cc-b2c0-029c2ea475c8",
   "metadata": {},
   "outputs": [
    {
     "name": "stdout",
     "output_type": "stream",
     "text": [
      "time: 641 ms (started: 2022-06-12 13:08:35 -04:00)\n"
     ]
    }
   ],
   "source": [
    "this_day = str(date.today())\n",
    "yesterday = str(date.today() - timedelta(days = 100))\n",
    "df_date = df[(df['game_start_time_utc'] < this_day) & (df['game_start_time_utc'] > yesterday)] # keep only the games played yesterday\n",
    "pdf_n_games_total = df_date.shape[0]"
   ]
  },
  {
   "cell_type": "code",
   "execution_count": 57,
   "id": "c93d802f-ec42-41ed-af28-bc6b9d91f3a0",
   "metadata": {},
   "outputs": [
    {
     "name": "stdout",
     "output_type": "stream",
     "text": [
      "time: 0 ns (started: 2022-06-12 13:08:36 -04:00)\n"
     ]
    }
   ],
   "source": [
    "d = datetime.datetime.strptime(yesterday, '%Y-%m-%d')\n",
    "pdf_yesterday = d.strftime('%b %d, %Y')"
   ]
  },
  {
   "cell_type": "code",
   "execution_count": 58,
   "id": "a30dc8dc-b6ce-4cd0-ab59-fbf8c59f2f03",
   "metadata": {},
   "outputs": [
    {
     "name": "stdout",
     "output_type": "stream",
     "text": [
      "time: 0 ns (started: 2022-06-12 13:08:36 -04:00)\n"
     ]
    }
   ],
   "source": [
    "n = 3"
   ]
  },
  {
   "cell_type": "code",
   "execution_count": 59,
   "id": "1d0496f0-4ba6-43ae-90b3-cfa53ca181d0",
   "metadata": {},
   "outputs": [
    {
     "name": "stdout",
     "output_type": "stream",
     "text": [
      "time: 1.08 s (started: 2022-06-12 13:08:36 -04:00)\n"
     ]
    }
   ],
   "source": [
    "archetypes = df_date['deck_code'].value_counts()\n",
    "archetypes = archetypes[archetypes > n]\n",
    "popular_list = list(archetypes.index)\n",
    "x = df.loc[df['deck_code'].isin(popular_list)]"
   ]
  },
  {
   "cell_type": "code",
   "execution_count": 60,
   "id": "dacbd83f-b341-459d-a9ba-84e7a12ea166",
   "metadata": {},
   "outputs": [
    {
     "name": "stdout",
     "output_type": "stream",
     "text": [
      "time: 34.4 s (started: 2022-06-12 13:08:37 -04:00)\n"
     ]
    }
   ],
   "source": [
    "df_champ = x[x['game_outcome'] != \"tie\"] # get rid of ties\n",
    "df_champ = df_champ.groupby(['deck_code', 'game_outcome']).size() # group deck codes by outcome\n",
    "df_champ = df_champ.groupby(level=0).transform(lambda x: (x / x.sum()).round(3)*100) # get winrate\n",
    "df_champ.drop('loss', level=1, axis=0, inplace=True) # drop losses\n",
    "df_champ = df_champ.droplevel(level=1) # not sure\n",
    "df_champ = df_champ.sort_values(ascending=False) # sort so good stuff at top\n",
    "df_champ = pd.DataFrame({'deck_code':df_champ.index, 'winrate':df_champ.values}) #dataframe w/ column titles"
   ]
  },
  {
   "cell_type": "code",
   "execution_count": 61,
   "id": "8807ceda-05ec-4d18-bcb9-3bbcdd3ec4b4",
   "metadata": {},
   "outputs": [
    {
     "name": "stdout",
     "output_type": "stream",
     "text": [
      "time: 1.3 s (started: 2022-06-12 13:09:11 -04:00)\n"
     ]
    }
   ],
   "source": [
    "df_ = df_date[['deck_code', 'archetype']].copy() # make a dataframe with just the stuff you need\n",
    "_ = pd.merge(df_champ, df_, on=['deck_code'], copy=False).drop_duplicates().reset_index(drop=True)#[:20] # get the archetypes for top decks, drop dupes, reset index, keep top 10"
   ]
  },
  {
   "cell_type": "code",
   "execution_count": 62,
   "id": "9b515470-0351-465c-a009-72ebf1145f93",
   "metadata": {},
   "outputs": [
    {
     "name": "stdout",
     "output_type": "stream",
     "text": [
      "time: 969 ms (started: 2022-06-12 13:09:12 -04:00)\n"
     ]
    }
   ],
   "source": [
    "z = df_date.value_counts('deck_code')\n",
    "z = pd.DataFrame(z, columns = ['n_games'])\n",
    "_ = _.merge(z, how='inner', on= 'deck_code')"
   ]
  },
  {
   "cell_type": "code",
   "execution_count": 63,
   "id": "c92df641-1c43-4d2d-9f63-38dc11f7a81e",
   "metadata": {},
   "outputs": [
    {
     "name": "stdout",
     "output_type": "stream",
     "text": [
      "time: 15 ms (started: 2022-06-12 13:09:13 -04:00)\n"
     ]
    }
   ],
   "source": [
    "r = _\n",
    "r_small = r[['winrate', 'n_games']]\n",
    "r_small = r_small[r_small['n_games'] < 800]"
   ]
  },
  {
   "cell_type": "code",
   "execution_count": 64,
   "id": "f3ad775f-6cc1-4ff1-bbc2-8e8eed8c190d",
   "metadata": {},
   "outputs": [
    {
     "data": {
      "text/plain": [
       "798"
      ]
     },
     "execution_count": 64,
     "metadata": {},
     "output_type": "execute_result"
    },
    {
     "name": "stdout",
     "output_type": "stream",
     "text": [
      "time: 0 ns (started: 2022-06-12 13:09:13 -04:00)\n"
     ]
    }
   ],
   "source": [
    "r_small['n_games'].max()"
   ]
  },
  {
   "cell_type": "code",
   "execution_count": 65,
   "id": "ee9e3163-a02e-4298-b473-dc3e7e615256",
   "metadata": {},
   "outputs": [
    {
     "data": {
      "text/plain": [
       "798"
      ]
     },
     "execution_count": 65,
     "metadata": {},
     "output_type": "execute_result"
    },
    {
     "name": "stdout",
     "output_type": "stream",
     "text": [
      "time: 15 ms (started: 2022-06-12 13:09:13 -04:00)\n"
     ]
    }
   ],
   "source": [
    "poop = r_small\n",
    "poop['n_games'].max()"
   ]
  },
  {
   "cell_type": "code",
   "execution_count": 66,
   "id": "ceb97b95-8d0f-4ec5-b35e-640ae498ca75",
   "metadata": {},
   "outputs": [
    {
     "name": "stdout",
     "output_type": "stream",
     "text": [
      "time: 31 ms (started: 2022-06-12 13:09:14 -04:00)\n"
     ]
    }
   ],
   "source": [
    "s_max = r_small.groupby(['n_games']).max()\n",
    "s_mean = r_small.groupby(['n_games']).mean()\n",
    "s_min = r_small.groupby(['n_games']).min()"
   ]
  },
  {
   "cell_type": "code",
   "execution_count": 73,
   "id": "c8cd52d4-0cb5-4848-ba6c-53b6397d04e2",
   "metadata": {},
   "outputs": [
    {
     "data": {
      "image/png": "[encoded data removed]",
      "text/plain": [
       "<Figure size 432x288 with 1 Axes>"
      ]
     },
     "metadata": {
      "needs_background": "light"
     },
     "output_type": "display_data"
    },
    {
     "name": "stdout",
     "output_type": "stream",
     "text": [
      "time: 703 ms (started: 2022-06-12 13:10:27 -04:00)\n"
     ]
    }
   ],
   "source": [
    "window_len = 75\n",
    "poly_order = 1\n",
    "\n",
    "x = s_max.index\n",
    "yhat = savgol_filter(s_max['winrate'], window_len, poly_order, mode='nearest')\n",
    "\n",
    "x_mean = s_mean.index\n",
    "yhat_mean = savgol_filter(s_mean['winrate'], window_len, poly_order, mode='nearest')\n",
    "\n",
    "x_min = s_min.index\n",
    "yhat_min = savgol_filter(s_min['winrate'], window_len, poly_order, mode='nearest')\n",
    "\n",
    "# plt.plot(x, y)\n",
    "plt.plot(x,yhat, color='red', label=\"maximum win%\")\n",
    "plt.plot(x_mean, yhat_mean, color='blue', label=\"mean win%\")\n",
    "plt.plot(x_min, yhat_min, color='green', label=\"min win%\")\n",
    "plt.title('What is the expected win% for a deck based on sample size?')\n",
    "plt.xlabel('Number of games the deck has played')\n",
    "plt.ylabel('win%')\n",
    "# plt.axhline(y=50, color='y', linestyle='--')\n",
    "plt.legend()\n",
    "# plt.show()\n",
    "plt.savefig('../game_length/winrateByLengthMultiplePatches2.png', dpi=600, facecolor='w')#, transparent=False, bbox_inches='tight')"
   ]
  },
  {
   "cell_type": "code",
   "execution_count": 68,
   "id": "4eba532c-c3aa-4ad4-81e3-b6e7df180cb3",
   "metadata": {},
   "outputs": [
    {
     "data": {
      "image/png": "[encoded data removed]",
      "text/plain": [
       "<Figure size 432x288 with 1 Axes>"
      ]
     },
     "metadata": {
      "needs_background": "light"
     },
     "output_type": "display_data"
    },
    {
     "name": "stdout",
     "output_type": "stream",
     "text": [
      "time: 219 ms (started: 2022-06-12 13:09:14 -04:00)\n"
     ]
    }
   ],
   "source": [
    "window_len = 75\n",
    "poly_order = 1\n",
    "\n",
    "x = s_max.index\n",
    "# yhat = savgol_filter(s_max['winrate'], window_len, poly_order, mode='nearest')\n",
    "yhat = s_max['winrate']\n",
    "\n",
    "x_mean = s_mean.index\n",
    "# yhat_mean = savgol_filter(s_mean['winrate'], window_len, poly_order, mode='nearest')\n",
    "yhat_mean = s_mean['winrate']\n",
    "\n",
    "x_min = s_min.index\n",
    "# yhat_min = savgol_filter(s_min['winrate'], window_len, poly_order, mode='nearest')\n",
    "yhat_min = s_min['winrate']\n",
    "\n",
    "# plt.plot(x, y)\n",
    "plt.plot(x,yhat, color='red', label=\"maximum win%\")\n",
    "plt.plot(x_mean, yhat_mean, color='blue', label=\"mean win%\")\n",
    "plt.plot(x_min, yhat_min, color='green', label=\"min win%\")\n",
    "plt.title('What is the expected win% for a deck based on sample size?')\n",
    "plt.xlabel('Number of games the deck has played')\n",
    "plt.ylabel('win%')\n",
    "plt.axhline(y=50, color='y', linestyle='--')\n",
    "plt.legend()\n",
    "# plt.show()\n",
    "# plt.savefig('../game_length/winrateByLengthFullPatchUnsmooth.png', dpi=600)"
   ]
  },
  {
   "cell_type": "code",
   "execution_count": 69,
   "id": "bd8aaaa4-810d-414c-9043-cf3552c100d4",
   "metadata": {},
   "outputs": [
    {
     "data": {
      "text/plain": [
       "526"
      ]
     },
     "execution_count": 69,
     "metadata": {},
     "output_type": "execute_result"
    },
    {
     "name": "stdout",
     "output_type": "stream",
     "text": [
      "time: 0 ns (started: 2022-06-12 13:09:14 -04:00)\n"
     ]
    }
   ],
   "source": [
    "len(yhat)"
   ]
  },
  {
   "cell_type": "code",
   "execution_count": 70,
   "id": "b2b0a79a-98eb-47cf-a71f-6f34f6cfb2a4",
   "metadata": {},
   "outputs": [
    {
     "ename": "NameError",
     "evalue": "name 'y' is not defined",
     "output_type": "error",
     "traceback": [
      "\u001b[1;31m---------------------------------------------------------------------------\u001b[0m",
      "\u001b[1;31mNameError\u001b[0m                                 Traceback (most recent call last)",
      "\u001b[1;32m<ipython-input-70-24c1855bc88d>\u001b[0m in \u001b[0;36m<module>\u001b[1;34m\u001b[0m\n\u001b[1;32m----> 1\u001b[1;33m \u001b[0mlen\u001b[0m\u001b[1;33m(\u001b[0m\u001b[0my\u001b[0m\u001b[1;33m)\u001b[0m\u001b[1;33m\u001b[0m\u001b[1;33m\u001b[0m\u001b[0m\n\u001b[0m",
      "\u001b[1;31mNameError\u001b[0m: name 'y' is not defined"
     ]
    },
    {
     "name": "stdout",
     "output_type": "stream",
     "text": [
      "time: 16 ms (started: 2022-06-12 13:09:14 -04:00)\n"
     ]
    }
   ],
   "source": [
    "len(y)"
   ]
  },
  {
   "cell_type": "code",
   "execution_count": null,
   "id": "137ef990-402a-419e-a407-34fd24612eee",
   "metadata": {},
   "outputs": [],
   "source": [
    "sum(_['n_games'])"
   ]
  },
  {
   "cell_type": "code",
   "execution_count": null,
   "id": "7b966d20-8fa7-4d5d-9593-156a702f0e82",
   "metadata": {},
   "outputs": [],
   "source": []
  }
 ],
 "metadata": {
  "kernelspec": {
   "display_name": "Python 3",
   "language": "python",
   "name": "python3"
  },
  "language_info": {
   "codemirror_mode": {
    "name": "ipython",
    "version": 3
   },
   "file_extension": ".py",
   "mimetype": "text/x-python",
   "name": "python",
   "nbconvert_exporter": "python",
   "pygments_lexer": "ipython3",
   "version": "3.8.8"
  }
 },
 "nbformat": 4,
 "nbformat_minor": 5
}
