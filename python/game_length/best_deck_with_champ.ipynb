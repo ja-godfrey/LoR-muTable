{
 "cells": [
  {
   "cell_type": "markdown",
   "id": "030c5fb7-e921-4217-b288-23dc124ac427",
   "metadata": {},
   "source": [
    "## Give me the best deck with Champion X"
   ]
  },
  {
   "cell_type": "code",
   "execution_count": 1,
   "id": "82a2fc0c-b06d-46ca-82c0-4d788050dd93",
   "metadata": {},
   "outputs": [],
   "source": [
    "import pandas as pd"
   ]
  },
  {
   "cell_type": "code",
   "execution_count": 2,
   "id": "05d7612e-41e0-4e02-8058-cd5b38fea25a",
   "metadata": {},
   "outputs": [],
   "source": [
    "df = pd.read_csv(r'./../data/raw/lor_ranked_data_all.csv') # read in the data"
   ]
  },
  {
   "cell_type": "code",
   "execution_count": 3,
   "id": "53ae36f7-a71c-4faf-adc9-d58671a2faa7",
   "metadata": {},
   "outputs": [],
   "source": [
    "champion = 'Aurelion Sol'\n",
    "date = '2022-06-16'\n",
    "n = 50"
   ]
  },
  {
   "cell_type": "code",
   "execution_count": 4,
   "id": "97b664f2-8a99-47b0-b4ec-e339be41b53c",
   "metadata": {},
   "outputs": [],
   "source": [
    "def best_deck_by_champ(df, champion, date, n):\n",
    "    df_date = df[df['game_start_time_utc'] > date]\n",
    "    champ_list = df_date[df_date['archetype'].str.contains(champion)]\n",
    "    archetypes = champ_list['deck_code'].value_counts() # find the unique archetypes being played\n",
    "    archetypes = archetypes[archetypes > n] #only keep popular deck_codes\n",
    "    popular_list = list(archetypes.index) # make a list of popular deck_codes\n",
    "    champ_list = champ_list.loc[df['deck_code'].isin(popular_list)] # filter df to only keep popular archetypes\n",
    "    df_champ = champ_list.groupby(['deck_code', 'game_outcome']).size()\n",
    "    df_champ = df_champ.groupby(level=0).transform(lambda x: (x / x.sum()).round(2)*100)\n",
    "    df_champ.drop('loss', level=1, axis=0, inplace=True) #drop loss %\n",
    "    df_champ = df_champ.droplevel(level=1) #drop win/loss\n",
    "    df_champ = df_champ.sort_values(ascending=False)\n",
    "    \n",
    "    df_small = df_date[['deck_code', 'archetype']]\n",
    "    y = pd.DataFrame(df_champ)\n",
    "    \n",
    "    inner = pd.merge(y, df_small, on='deck_code', how='inner')#.value_counts()\n",
    "    inner = inner.value_counts()\n",
    "    df_champ = inner.sort_values(ascending=False)\n",
    "    \n",
    "    return df_champ"
   ]
  },
  {
   "cell_type": "code",
   "execution_count": 5,
   "id": "33dd4619-8dc8-4c68-a1ac-e63b7a2257d0",
   "metadata": {},
   "outputs": [
    {
     "data": {
      "text/plain": [
       "deck_code                                                                                 0     archetype                        \n",
       "CICQCAIADIAQMABEAIBQSAYOAICAADQUAQBQAAQGBMHAEAIFAAGAEAYJK5SAGAICAAAQCAYJEYBAIAACBA        48.0  Shyvana Aurelion Sol Jarvan IV       850\n",
       "CIBQCAIBBQBAGAIKCYBQGCKAKZLQGAIEAEGAEAYBAMJQIAIBCQTSUNAEAEAQCFYBAMAQIAQEAECQ4BADBECRKF2U  50.0  Tryndamere Aurelion Sol Lissandra    228\n",
       "CICACBABBYBQCAIMCQ2AGAYBAMFBMBADBEEUAVSXAIAQGCKUAICACCQMAEAQGCJT                          47.0  Zoe Aurelion Sol (FR)                217\n",
       "CIDACAIADIAQEAABAECQADACAQAA4FADAMAAMCYOAMBQSAYOK4BACBQAEQBAGCKVMQAQCAYJBU                45.0  Shyvana Aurelion Sol                 123\n",
       "CIBQGAYBAMFBMBABAEBQYIJUAQBQSBKAKZLQEAIDBEEQEAIBCQVACAIDBFKA                              47.0  Zoe Aurelion Sol (FR)                116\n",
       "CICACBABBYBACAIMGQBAGAIKCYBQGCIJIBLQIAIDAEBQCBIJBYBACAIUGIBQGCIXKRLAEAIDAEJQCBABBI        49.0  Zoe Aurelion Sol (FR)                 96\n",
       "CICQCAIADIAQIAAUAECQADABAYACIBADAABAMCYOAMAQEAABAECQADYEAMEQGDSXMQBQCAYJEYAQKAAKAICAAAQI  60.0  Shyvana Aurelion Sol Jarvan IV        93\n",
       "CICQCAIADIAQGCIDAEDAAJACAQAA4FAEAMAAEBQLBYBQCAQAAEAQKAAMAMBQSDSXMQBACAIAA4BAIAACBA        46.0  Shyvana Aurelion Sol Jarvan IV        79\n",
       "CIBQEAIBBQ2AIAYBAMFBGFQEAMEQSFKAK4CACAYBBAAQGCIFAECACDACAEARIKQA                          54.0  Zoe Aurelion Sol (FR)                 72\n",
       "CIBAGAYBAMFBMBABAEGBIJZSAQAQCAJUAIBQCBQTAIBQSQCUAICACDAOAIBAGCIVK4BQCAIBC4VA              61.0  Tryndamere Trundle Aurelion Sol       70\n",
       "CICACBABBYBACAIMGQBAGAIKCYBQGCIJIBLQIAIEAEGACBQBEYBACAIBCQBAGAIDCMBQCAYBAQAQGCK5AICACCIK  48.0  Zoe Aurelion Sol (FR)                 58\n",
       "CIBQCAIBGQBQGAIDBILAGAYJBFAFOBABAUEQ4AQBAEGDEAQEAEGA4AYDBECRKVACAEBQSFYCAEAQKFA           54.0  Zoe Aurelion Sol (FR)                 54\n",
       "CIBQCAYBBIBQGCKAKRLQIAIBBQKDENAEAEAQCAIBAQAQ4AQDAEDBMAQDBFKWAAQCAMAQGBACAMEQKFI           49.0  Trundle Aurelion Sol                  53\n",
       "CICACBABBYBAGCIJK4BQCAIMCQZAGAYBAMFBMBIBAEATIAIDAEJQCBABBIAQICIHAIBQSQCUAEAQGAIJ          50.0  Zoe Aurelion Sol (FR)                 52\n",
       "CIDACBAJA4AQKCIOAEDAAJACAYESOLIDAEABUIJPAQBQSM2AKRLQEAIDBEBQCBIACUAA                      37.0  Aurelion Sol (DE)                     52\n",
       "dtype: int64"
      ]
     },
     "execution_count": 5,
     "metadata": {},
     "output_type": "execute_result"
    }
   ],
   "source": [
    "best_deck_by_champ(df, champion, date, n)"
   ]
  },
  {
   "cell_type": "code",
   "execution_count": 6,
   "id": "7dcd0bf0-3920-4661-9341-3cd41d919a5f",
   "metadata": {},
   "outputs": [],
   "source": [
    "# double check it worked\n",
    "df_date = df[df['game_start_time_utc'] > date] #build dataframe you build in function\n",
    "deck = y.index[0][0] # get deck code returned for deck #1 in the function\n",
    "true_value = df_date.deck_code.str.count(deck).sum() #see how many times that deck actually appears in dataframe\n",
    "output_value = y[0] # get how many times the function said that deck appears\n",
    "true_value == output_value # compare values"
   ]
  }
 ],
 "metadata": {
  "kernelspec": {
   "display_name": "Python 3",
   "language": "python",
   "name": "python3"
  },
  "language_info": {
   "codemirror_mode": {
    "name": "ipython",
    "version": 3
   },
   "file_extension": ".py",
   "mimetype": "text/x-python",
   "name": "python",
   "nbconvert_exporter": "python",
   "pygments_lexer": "ipython3",
   "version": "3.8.8"
  }
 },
 "nbformat": 4,
 "nbformat_minor": 5
}
