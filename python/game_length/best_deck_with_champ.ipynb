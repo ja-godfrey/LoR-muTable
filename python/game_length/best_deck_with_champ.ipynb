{
 "cells": [
  {
   "cell_type": "markdown",
   "id": "030c5fb7-e921-4217-b288-23dc124ac427",
   "metadata": {},
   "source": [
    "## Give me the best deck with Champion X"
   ]
  },
  {
   "cell_type": "code",
   "execution_count": 1,
   "id": "82a2fc0c-b06d-46ca-82c0-4d788050dd93",
   "metadata": {},
   "outputs": [],
   "source": [
    "import pandas as pd"
   ]
  },
  {
   "cell_type": "code",
   "execution_count": 71,
   "id": "05d7612e-41e0-4e02-8058-cd5b38fea25a",
   "metadata": {},
   "outputs": [],
   "source": [
    "df = pd.read_csv(r'./../data/raw/lor_ranked_data_all.csv') # read in the data"
   ]
  },
  {
   "cell_type": "code",
   "execution_count": 137,
   "id": "53ae36f7-a71c-4faf-adc9-d58671a2faa7",
   "metadata": {},
   "outputs": [],
   "source": [
    "champion = 'Tryndamere'\n",
    "date = '2022-07-01'\n",
    "n = 100"
   ]
  },
  {
   "cell_type": "code",
   "execution_count": 138,
   "id": "97b664f2-8a99-47b0-b4ec-e339be41b53c",
   "metadata": {},
   "outputs": [],
   "source": [
    "def best_deck_by_champ(df, champion, date, n):\n",
    "    df_date = df[df['game_start_time_utc'] > date]\n",
    "    champ_list = df_date[df_date['archetype'].str.contains(champion)]\n",
    "    archetypes = champ_list['deck_code'].value_counts() # find the unique archetypes being played\n",
    "    archetypes = archetypes[archetypes > n] #only keep popular deck_codes\n",
    "    popular_list = list(archetypes.index) # make a list of popular deck_codes\n",
    "    champ_list = champ_list.loc[df['deck_code'].isin(popular_list)] # filter df to only keep popular archetypes\n",
    "    df_champ = champ_list.groupby(['deck_code', 'game_outcome']).size()\n",
    "    df_champ = df_champ.groupby(level=0).transform(lambda x: (x / x.sum()).round(2)*100)\n",
    "    df_champ.drop('loss', level=1, axis=0, inplace=True) #drop loss %\n",
    "    df_champ = df_champ.droplevel(level=1) #drop win/loss\n",
    "    df_champ = df_champ.sort_values(ascending=False)\n",
    "    \n",
    "    df_small = df_date[['deck_code', 'archetype']]\n",
    "    y = pd.DataFrame(df_champ)\n",
    "    \n",
    "    inner = pd.merge(y, df_small, on='deck_code', how='inner')#.value_counts()\n",
    "    inner = inner.value_counts()\n",
    "    df_champ = inner.sort_values(ascending=False)\n",
    "    \n",
    "    return df_champ"
   ]
  },
  {
   "cell_type": "code",
   "execution_count": 139,
   "id": "33dd4619-8dc8-4c68-a1ac-e63b7a2257d0",
   "metadata": {},
   "outputs": [
    {
     "data": {
      "text/plain": [
       "deck_code                                                                                 0     archetype                        \n",
       "CECACBABBYBACBIBFABQCAIME4ZAGAYBAYFBMBABAEARIAIDAEBQCBABBIBACBIZDUBACAYBCMBACBIPCM        54.0  Tryndamere Trundle (SI)              416\n",
       "CECACBABBYBACAIME4BACBIBFACAGAIDAYFBMBABAECR2AIDAEJQCBABBIBACAIUGQBACAIBAEBACBIPDE        53.0  Tryndamere Trundle (SI)              351\n",
       "CECACBABBYBACAIME4BQCBIBDUUAIAYBAMDAUFQDAEAQKDYBAMARGAQBAEARIAQBAEATIAIBAUMQ              57.0  Tryndamere Trundle (SI)              319\n",
       "CECACBABBYBACBIBFABQCAIME4ZAGAYBAYFBMAYBAMAQGAIEAEGAGAIBAEKDIAQBAMARGAQBAUMR2             0.0   Tryndamere Trundle (SI)              260\n",
       "                                                                                          51.0  Tryndamere Trundle (SI)              260\n",
       "CECACBABBYBACAIME4BACBIBFABQGAIGBILAEAIDAEBQGAIBAMKDEBABAMARGAIDAUGAEAIBAE2AIAIFB4JRSHI   54.0  Tryndamere Trundle (SI)              235\n",
       "CECACAIBBQAQIAIOAIAQKAJIAMBQCAYGBICACAIFDUAQGAIWAICACCQMAQAQCFBHGI2AGAIBAEAQCAIFDEAQGAIT  48.0  Tryndamere Trundle (SI)              163\n",
       "CIBQCAIBBQBAGAIKCYBQGCKAKZLQGAIEAEGAEAYBAMJQIAIBCQTSUNAEAEAQCFYBAMAQIAQEAECQ4BADBECRKF2U  54.0  Tryndamere Aurelion Sol Lissandra    147\n",
       "CECACBABBYBACAIME4BACBIBFACAGAIDAYFBMAQBAMCQYAQBAEBTEAYBAMARGAYBAEARINADAECQ6GI5          45.0  Tryndamere Trundle (SI)              120\n",
       "CECACBABBYBACAIME4BACBIBFACAGAIDAYFBMBABAECR2AIDAEJQCBABBIBACAIUGQAQGAIFB4JRS             61.0  Tryndamere Trundle (SI)              118\n",
       "CECACBABBYBACAIME4BACBIBFABQGAIGBILAIAIBAUOQCAYBAMAQIAIKAMAQCFBSGQBACAYBCMBQCBIPCMMQ      62.0  Tryndamere Trundle (SI)              110\n",
       "CECACAIBAMAQIAIOAIBQCBQWAMAQKAI5FACACAYBAMAQIAIKAIAQKDYZAUAQCAIMCQTTEAIBAECSC             66.0  Tryndamere Trundle (SI)              109\n",
       "CECACBABBYBACBIBFABQCAIME4ZAGAYBAYFBMBABAEARIAIBAUOQCAYBAMAQIAIKAMAQCAJUAEBQCEYDAECQ6EYZ  54.0  Tryndamere Trundle (SI)              107\n",
       "dtype: int64"
      ]
     },
     "execution_count": 139,
     "metadata": {},
     "output_type": "execute_result"
    }
   ],
   "source": [
    "best_deck_by_champ(df, champion, date, n) # sorted by playrate"
   ]
  },
  {
   "cell_type": "code",
   "execution_count": 140,
   "id": "ade73f13-c49b-4817-8fad-5a2ea00d9224",
   "metadata": {},
   "outputs": [
    {
     "data": {
      "text/html": [
       "<div>\n",
       "<style scoped>\n",
       "    .dataframe tbody tr th:only-of-type {\n",
       "        vertical-align: middle;\n",
       "    }\n",
       "\n",
       "    .dataframe tbody tr th {\n",
       "        vertical-align: top;\n",
       "    }\n",
       "\n",
       "    .dataframe thead th {\n",
       "        text-align: right;\n",
       "    }\n",
       "</style>\n",
       "<table border=\"1\" class=\"dataframe\">\n",
       "  <thead>\n",
       "    <tr style=\"text-align: right;\">\n",
       "      <th></th>\n",
       "      <th>winrate</th>\n",
       "      <th>archetype</th>\n",
       "      <th>0</th>\n",
       "    </tr>\n",
       "    <tr>\n",
       "      <th>deck_code</th>\n",
       "      <th></th>\n",
       "      <th></th>\n",
       "      <th></th>\n",
       "    </tr>\n",
       "  </thead>\n",
       "  <tbody>\n",
       "    <tr>\n",
       "      <th>CECACAIBAMAQIAIOAIBQCBQWAMAQKAI5FACACAYBAMAQIAIKAIAQKDYZAUAQCAIMCQTTEAIBAECSC</th>\n",
       "      <td>66.0</td>\n",
       "      <td>Tryndamere Trundle (SI)</td>\n",
       "      <td>109</td>\n",
       "    </tr>\n",
       "    <tr>\n",
       "      <th>CECACBABBYBACAIME4BACBIBFABQGAIGBILAIAIBAUOQCAYBAMAQIAIKAMAQCFBSGQBACAYBCMBQCBIPCMMQ</th>\n",
       "      <td>62.0</td>\n",
       "      <td>Tryndamere Trundle (SI)</td>\n",
       "      <td>110</td>\n",
       "    </tr>\n",
       "    <tr>\n",
       "      <th>CECACBABBYBACAIME4BACBIBFACAGAIDAYFBMBABAECR2AIDAEJQCBABBIBACAIUGQAQGAIFB4JRS</th>\n",
       "      <td>61.0</td>\n",
       "      <td>Tryndamere Trundle (SI)</td>\n",
       "      <td>118</td>\n",
       "    </tr>\n",
       "    <tr>\n",
       "      <th>CECACBABBYBACAIME4BQCBIBDUUAIAYBAMDAUFQDAEAQKDYBAMARGAQBAEARIAQBAEATIAIBAUMQ</th>\n",
       "      <td>57.0</td>\n",
       "      <td>Tryndamere Trundle (SI)</td>\n",
       "      <td>319</td>\n",
       "    </tr>\n",
       "    <tr>\n",
       "      <th>CECACBABBYBACBIBFABQCAIME4ZAGAYBAYFBMBABAEARIAIDAEBQCBABBIBACBIZDUBACAYBCMBACBIPCM</th>\n",
       "      <td>54.0</td>\n",
       "      <td>Tryndamere Trundle (SI)</td>\n",
       "      <td>416</td>\n",
       "    </tr>\n",
       "    <tr>\n",
       "      <th>CECACBABBYBACAIME4BACBIBFABQGAIGBILAEAIDAEBQGAIBAMKDEBABAMARGAIDAUGAEAIBAE2AIAIFB4JRSHI</th>\n",
       "      <td>54.0</td>\n",
       "      <td>Tryndamere Trundle (SI)</td>\n",
       "      <td>235</td>\n",
       "    </tr>\n",
       "    <tr>\n",
       "      <th>CIBQCAIBBQBAGAIKCYBQGCKAKZLQGAIEAEGAEAYBAMJQIAIBCQTSUNAEAEAQCFYBAMAQIAQEAECQ4BADBECRKF2U</th>\n",
       "      <td>54.0</td>\n",
       "      <td>Tryndamere Aurelion Sol Lissandra</td>\n",
       "      <td>147</td>\n",
       "    </tr>\n",
       "    <tr>\n",
       "      <th>CECACBABBYBACBIBFABQCAIME4ZAGAYBAYFBMBABAEARIAIBAUOQCAYBAMAQIAIKAMAQCAJUAEBQCEYDAECQ6EYZ</th>\n",
       "      <td>54.0</td>\n",
       "      <td>Tryndamere Trundle (SI)</td>\n",
       "      <td>107</td>\n",
       "    </tr>\n",
       "    <tr>\n",
       "      <th>CECACBABBYBACAIME4BACBIBFACAGAIDAYFBMBABAECR2AIDAEJQCBABBIBACAIUGQBACAIBAEBACBIPDE</th>\n",
       "      <td>53.0</td>\n",
       "      <td>Tryndamere Trundle (SI)</td>\n",
       "      <td>351</td>\n",
       "    </tr>\n",
       "    <tr>\n",
       "      <th>CECACBABBYBACBIBFABQCAIME4ZAGAYBAYFBMAYBAMAQGAIEAEGAGAIBAEKDIAQBAMARGAQBAUMR2</th>\n",
       "      <td>51.0</td>\n",
       "      <td>Tryndamere Trundle (SI)</td>\n",
       "      <td>260</td>\n",
       "    </tr>\n",
       "    <tr>\n",
       "      <th>CECACAIBBQAQIAIOAIAQKAJIAMBQCAYGBICACAIFDUAQGAIWAICACCQMAQAQCFBHGI2AGAIBAEAQCAIFDEAQGAIT</th>\n",
       "      <td>48.0</td>\n",
       "      <td>Tryndamere Trundle (SI)</td>\n",
       "      <td>163</td>\n",
       "    </tr>\n",
       "    <tr>\n",
       "      <th>CECACBABBYBACAIME4BACBIBFACAGAIDAYFBMAQBAMCQYAQBAEBTEAYBAMARGAYBAEARINADAECQ6GI5</th>\n",
       "      <td>45.0</td>\n",
       "      <td>Tryndamere Trundle (SI)</td>\n",
       "      <td>120</td>\n",
       "    </tr>\n",
       "    <tr>\n",
       "      <th>CECACBABBYBACBIBFABQCAIME4ZAGAYBAYFBMAYBAMAQGAIEAEGAGAIBAEKDIAQBAMARGAQBAUMR2</th>\n",
       "      <td>0.0</td>\n",
       "      <td>Tryndamere Trundle (SI)</td>\n",
       "      <td>260</td>\n",
       "    </tr>\n",
       "  </tbody>\n",
       "</table>\n",
       "</div>"
      ],
      "text/plain": [
       "                                                    winrate  \\\n",
       "deck_code                                                     \n",
       "CECACAIBAMAQIAIOAIBQCBQWAMAQKAI5FACACAYBAMAQIAI...     66.0   \n",
       "CECACBABBYBACAIME4BACBIBFABQGAIGBILAIAIBAUOQCAY...     62.0   \n",
       "CECACBABBYBACAIME4BACBIBFACAGAIDAYFBMBABAECR2AI...     61.0   \n",
       "CECACBABBYBACAIME4BQCBIBDUUAIAYBAMDAUFQDAEAQKDY...     57.0   \n",
       "CECACBABBYBACBIBFABQCAIME4ZAGAYBAYFBMBABAEARIAI...     54.0   \n",
       "CECACBABBYBACAIME4BACBIBFABQGAIGBILAEAIDAEBQGAI...     54.0   \n",
       "CIBQCAIBBQBAGAIKCYBQGCKAKZLQGAIEAEGAEAYBAMJQIAI...     54.0   \n",
       "CECACBABBYBACBIBFABQCAIME4ZAGAYBAYFBMBABAEARIAI...     54.0   \n",
       "CECACBABBYBACAIME4BACBIBFACAGAIDAYFBMBABAECR2AI...     53.0   \n",
       "CECACBABBYBACBIBFABQCAIME4ZAGAYBAYFBMAYBAMAQGAI...     51.0   \n",
       "CECACAIBBQAQIAIOAIAQKAJIAMBQCAYGBICACAIFDUAQGAI...     48.0   \n",
       "CECACBABBYBACAIME4BACBIBFACAGAIDAYFBMAQBAMCQYAQ...     45.0   \n",
       "CECACBABBYBACBIBFABQCAIME4ZAGAYBAYFBMAYBAMAQGAI...      0.0   \n",
       "\n",
       "                                                                            archetype  \\\n",
       "deck_code                                                                               \n",
       "CECACAIBAMAQIAIOAIBQCBQWAMAQKAI5FACACAYBAMAQIAI...            Tryndamere Trundle (SI)   \n",
       "CECACBABBYBACAIME4BACBIBFABQGAIGBILAIAIBAUOQCAY...            Tryndamere Trundle (SI)   \n",
       "CECACBABBYBACAIME4BACBIBFACAGAIDAYFBMBABAECR2AI...            Tryndamere Trundle (SI)   \n",
       "CECACBABBYBACAIME4BQCBIBDUUAIAYBAMDAUFQDAEAQKDY...            Tryndamere Trundle (SI)   \n",
       "CECACBABBYBACBIBFABQCAIME4ZAGAYBAYFBMBABAEARIAI...            Tryndamere Trundle (SI)   \n",
       "CECACBABBYBACAIME4BACBIBFABQGAIGBILAEAIDAEBQGAI...            Tryndamere Trundle (SI)   \n",
       "CIBQCAIBBQBAGAIKCYBQGCKAKZLQGAIEAEGAEAYBAMJQIAI...  Tryndamere Aurelion Sol Lissandra   \n",
       "CECACBABBYBACBIBFABQCAIME4ZAGAYBAYFBMBABAEARIAI...            Tryndamere Trundle (SI)   \n",
       "CECACBABBYBACAIME4BACBIBFACAGAIDAYFBMBABAECR2AI...            Tryndamere Trundle (SI)   \n",
       "CECACBABBYBACBIBFABQCAIME4ZAGAYBAYFBMAYBAMAQGAI...            Tryndamere Trundle (SI)   \n",
       "CECACAIBBQAQIAIOAIAQKAJIAMBQCAYGBICACAIFDUAQGAI...            Tryndamere Trundle (SI)   \n",
       "CECACBABBYBACAIME4BACBIBFACAGAIDAYFBMAQBAMCQYAQ...            Tryndamere Trundle (SI)   \n",
       "CECACBABBYBACBIBFABQCAIME4ZAGAYBAYFBMAYBAMAQGAI...            Tryndamere Trundle (SI)   \n",
       "\n",
       "                                                      0  \n",
       "deck_code                                                \n",
       "CECACAIBAMAQIAIOAIBQCBQWAMAQKAI5FACACAYBAMAQIAI...  109  \n",
       "CECACBABBYBACAIME4BACBIBFABQGAIGBILAIAIBAUOQCAY...  110  \n",
       "CECACBABBYBACAIME4BACBIBFACAGAIDAYFBMBABAECR2AI...  118  \n",
       "CECACBABBYBACAIME4BQCBIBDUUAIAYBAMDAUFQDAEAQKDY...  319  \n",
       "CECACBABBYBACBIBFABQCAIME4ZAGAYBAYFBMBABAEARIAI...  416  \n",
       "CECACBABBYBACAIME4BACBIBFABQGAIGBILAEAIDAEBQGAI...  235  \n",
       "CIBQCAIBBQBAGAIKCYBQGCKAKZLQGAIEAEGAEAYBAMJQIAI...  147  \n",
       "CECACBABBYBACBIBFABQCAIME4ZAGAYBAYFBMBABAEARIAI...  107  \n",
       "CECACBABBYBACAIME4BACBIBFACAGAIDAYFBMBABAECR2AI...  351  \n",
       "CECACBABBYBACBIBFABQCAIME4ZAGAYBAYFBMAYBAMAQGAI...  260  \n",
       "CECACAIBBQAQIAIOAIAQKAJIAMBQCAYGBICACAIFDUAQGAI...  163  \n",
       "CECACBABBYBACAIME4BACBIBFACAGAIDAYFBMAQBAMCQYAQ...  120  \n",
       "CECACBABBYBACBIBFABQCAIME4ZAGAYBAYFBMAYBAMAQGAI...  260  "
      ]
     },
     "execution_count": 140,
     "metadata": {},
     "output_type": "execute_result"
    }
   ],
   "source": [
    "def best_deck_by_champ_by_winrate():\n",
    "    x = best_deck_by_champ(df, champion, date, n)\n",
    "    df_x = pd.DataFrame(x)\n",
    "    df_x.index.names = [\"deck_code\", \"winrate\", \"archetype\"]\n",
    "    df_x.reset_index(level=['winrate', 'archetype'], inplace=True)\n",
    "    df_x = df_x.sort_values(by=['winrate'], ascending=False)\n",
    "    return df_x\n",
    "best_deck_by_champ_by_winrate()"
   ]
  },
  {
   "cell_type": "code",
   "execution_count": 132,
   "id": "7dcd0bf0-3920-4661-9341-3cd41d919a5f",
   "metadata": {},
   "outputs": [],
   "source": [
    "# # double check it worked\n",
    "# df_date = df[df['game_start_time_utc'] > date] #build dataframe you build in function\n",
    "# deck = y.index[0][0] # get deck code returned for deck #1 in the function\n",
    "# true_value = df_date.deck_code.str.count(deck).sum() #see how many times that deck actually appears in dataframe\n",
    "# output_value = y[0] # get how many times the function said that deck appears\n",
    "# true_value == output_value # compare values"
   ]
  },
  {
   "cell_type": "code",
   "execution_count": 110,
   "id": "8675af5a-7b47-41f6-8782-62026e0959ba",
   "metadata": {},
   "outputs": [],
   "source": [
    "## write code to stalk someone"
   ]
  },
  {
   "cell_type": "code",
   "execution_count": null,
   "id": "723c9da8-7f55-4d5c-92c6-5e2cc9bc5cc9",
   "metadata": {
    "collapsed": true,
    "jupyter": {
     "outputs_hidden": true
    },
    "tags": []
   },
   "outputs": [
    {
     "ename": "KeyError",
     "evalue": "'month'",
     "output_type": "error",
     "traceback": [
      "\u001b[1;31m---------------------------------------------------------------------------\u001b[0m",
      "\u001b[1;31mKeyError\u001b[0m                                  Traceback (most recent call last)",
      "\u001b[1;32m~\\anaconda3\\lib\\site-packages\\pandas\\core\\indexes\\base.py\u001b[0m in \u001b[0;36mget_loc\u001b[1;34m(self, key, method, tolerance)\u001b[0m\n\u001b[0;32m   3360\u001b[0m             \u001b[1;32mtry\u001b[0m\u001b[1;33m:\u001b[0m\u001b[1;33m\u001b[0m\u001b[1;33m\u001b[0m\u001b[0m\n\u001b[1;32m-> 3361\u001b[1;33m                 \u001b[1;32mreturn\u001b[0m \u001b[0mself\u001b[0m\u001b[1;33m.\u001b[0m\u001b[0m_engine\u001b[0m\u001b[1;33m.\u001b[0m\u001b[0mget_loc\u001b[0m\u001b[1;33m(\u001b[0m\u001b[0mcasted_key\u001b[0m\u001b[1;33m)\u001b[0m\u001b[1;33m\u001b[0m\u001b[1;33m\u001b[0m\u001b[0m\n\u001b[0m\u001b[0;32m   3362\u001b[0m             \u001b[1;32mexcept\u001b[0m \u001b[0mKeyError\u001b[0m \u001b[1;32mas\u001b[0m \u001b[0merr\u001b[0m\u001b[1;33m:\u001b[0m\u001b[1;33m\u001b[0m\u001b[1;33m\u001b[0m\u001b[0m\n",
      "\u001b[1;32m~\\anaconda3\\lib\\site-packages\\pandas\\_libs\\index.pyx\u001b[0m in \u001b[0;36mpandas._libs.index.IndexEngine.get_loc\u001b[1;34m()\u001b[0m\n",
      "\u001b[1;32m~\\anaconda3\\lib\\site-packages\\pandas\\_libs\\index.pyx\u001b[0m in \u001b[0;36mpandas._libs.index.IndexEngine.get_loc\u001b[1;34m()\u001b[0m\n",
      "\u001b[1;32mpandas\\_libs\\hashtable_class_helper.pxi\u001b[0m in \u001b[0;36mpandas._libs.hashtable.PyObjectHashTable.get_item\u001b[1;34m()\u001b[0m\n",
      "\u001b[1;32mpandas\\_libs\\hashtable_class_helper.pxi\u001b[0m in \u001b[0;36mpandas._libs.hashtable.PyObjectHashTable.get_item\u001b[1;34m()\u001b[0m\n",
      "\u001b[1;31mKeyError\u001b[0m: 'month'",
      "\nThe above exception was the direct cause of the following exception:\n",
      "\u001b[1;31mKeyError\u001b[0m                                  Traceback (most recent call last)",
      "\u001b[1;32m<ipython-input-64-3dc8a9f0f072>\u001b[0m in \u001b[0;36m<module>\u001b[1;34m\u001b[0m\n\u001b[1;32m----> 1\u001b[1;33m \u001b[0mcontain_values\u001b[0m \u001b[1;33m=\u001b[0m \u001b[0mdf\u001b[0m\u001b[1;33m[\u001b[0m\u001b[0mdf\u001b[0m\u001b[1;33m[\u001b[0m\u001b[1;34m'month'\u001b[0m\u001b[1;33m]\u001b[0m\u001b[1;33m.\u001b[0m\u001b[0mstr\u001b[0m\u001b[1;33m.\u001b[0m\u001b[0mcontains\u001b[0m\u001b[1;33m(\u001b[0m\u001b[1;34m'Savior'\u001b[0m\u001b[1;33m)\u001b[0m\u001b[1;33m]\u001b[0m\u001b[1;33m\u001b[0m\u001b[1;33m\u001b[0m\u001b[0m\n\u001b[0m\u001b[0;32m      2\u001b[0m \u001b[0mprint\u001b[0m \u001b[1;33m(\u001b[0m\u001b[0mcontain_values\u001b[0m\u001b[1;33m)\u001b[0m\u001b[1;33m\u001b[0m\u001b[1;33m\u001b[0m\u001b[0m\n",
      "\u001b[1;32m~\\anaconda3\\lib\\site-packages\\pandas\\core\\frame.py\u001b[0m in \u001b[0;36m__getitem__\u001b[1;34m(self, key)\u001b[0m\n\u001b[0;32m   3456\u001b[0m             \u001b[1;32mif\u001b[0m \u001b[0mself\u001b[0m\u001b[1;33m.\u001b[0m\u001b[0mcolumns\u001b[0m\u001b[1;33m.\u001b[0m\u001b[0mnlevels\u001b[0m \u001b[1;33m>\u001b[0m \u001b[1;36m1\u001b[0m\u001b[1;33m:\u001b[0m\u001b[1;33m\u001b[0m\u001b[1;33m\u001b[0m\u001b[0m\n\u001b[0;32m   3457\u001b[0m                 \u001b[1;32mreturn\u001b[0m \u001b[0mself\u001b[0m\u001b[1;33m.\u001b[0m\u001b[0m_getitem_multilevel\u001b[0m\u001b[1;33m(\u001b[0m\u001b[0mkey\u001b[0m\u001b[1;33m)\u001b[0m\u001b[1;33m\u001b[0m\u001b[1;33m\u001b[0m\u001b[0m\n\u001b[1;32m-> 3458\u001b[1;33m             \u001b[0mindexer\u001b[0m \u001b[1;33m=\u001b[0m \u001b[0mself\u001b[0m\u001b[1;33m.\u001b[0m\u001b[0mcolumns\u001b[0m\u001b[1;33m.\u001b[0m\u001b[0mget_loc\u001b[0m\u001b[1;33m(\u001b[0m\u001b[0mkey\u001b[0m\u001b[1;33m)\u001b[0m\u001b[1;33m\u001b[0m\u001b[1;33m\u001b[0m\u001b[0m\n\u001b[0m\u001b[0;32m   3459\u001b[0m             \u001b[1;32mif\u001b[0m \u001b[0mis_integer\u001b[0m\u001b[1;33m(\u001b[0m\u001b[0mindexer\u001b[0m\u001b[1;33m)\u001b[0m\u001b[1;33m:\u001b[0m\u001b[1;33m\u001b[0m\u001b[1;33m\u001b[0m\u001b[0m\n\u001b[0;32m   3460\u001b[0m                 \u001b[0mindexer\u001b[0m \u001b[1;33m=\u001b[0m \u001b[1;33m[\u001b[0m\u001b[0mindexer\u001b[0m\u001b[1;33m]\u001b[0m\u001b[1;33m\u001b[0m\u001b[1;33m\u001b[0m\u001b[0m\n",
      "\u001b[1;32m~\\anaconda3\\lib\\site-packages\\pandas\\core\\indexes\\base.py\u001b[0m in \u001b[0;36mget_loc\u001b[1;34m(self, key, method, tolerance)\u001b[0m\n\u001b[0;32m   3361\u001b[0m                 \u001b[1;32mreturn\u001b[0m \u001b[0mself\u001b[0m\u001b[1;33m.\u001b[0m\u001b[0m_engine\u001b[0m\u001b[1;33m.\u001b[0m\u001b[0mget_loc\u001b[0m\u001b[1;33m(\u001b[0m\u001b[0mcasted_key\u001b[0m\u001b[1;33m)\u001b[0m\u001b[1;33m\u001b[0m\u001b[1;33m\u001b[0m\u001b[0m\n\u001b[0;32m   3362\u001b[0m             \u001b[1;32mexcept\u001b[0m \u001b[0mKeyError\u001b[0m \u001b[1;32mas\u001b[0m \u001b[0merr\u001b[0m\u001b[1;33m:\u001b[0m\u001b[1;33m\u001b[0m\u001b[1;33m\u001b[0m\u001b[0m\n\u001b[1;32m-> 3363\u001b[1;33m                 \u001b[1;32mraise\u001b[0m \u001b[0mKeyError\u001b[0m\u001b[1;33m(\u001b[0m\u001b[0mkey\u001b[0m\u001b[1;33m)\u001b[0m \u001b[1;32mfrom\u001b[0m \u001b[0merr\u001b[0m\u001b[1;33m\u001b[0m\u001b[1;33m\u001b[0m\u001b[0m\n\u001b[0m\u001b[0;32m   3364\u001b[0m \u001b[1;33m\u001b[0m\u001b[0m\n\u001b[0;32m   3365\u001b[0m         \u001b[1;32mif\u001b[0m \u001b[0mis_scalar\u001b[0m\u001b[1;33m(\u001b[0m\u001b[0mkey\u001b[0m\u001b[1;33m)\u001b[0m \u001b[1;32mand\u001b[0m \u001b[0misna\u001b[0m\u001b[1;33m(\u001b[0m\u001b[0mkey\u001b[0m\u001b[1;33m)\u001b[0m \u001b[1;32mand\u001b[0m \u001b[1;32mnot\u001b[0m \u001b[0mself\u001b[0m\u001b[1;33m.\u001b[0m\u001b[0mhasnans\u001b[0m\u001b[1;33m:\u001b[0m\u001b[1;33m\u001b[0m\u001b[1;33m\u001b[0m\u001b[0m\n",
      "\u001b[1;31mKeyError\u001b[0m: 'month'"
     ]
    }
   ],
   "source": [
    "contain_values = df[df['month'].str.contains('Ju')]\n",
    "print (contain_values)"
   ]
  },
  {
   "cell_type": "code",
   "execution_count": 57,
   "id": "e3692507-f5a8-486e-8b9b-b08fdd85d99f",
   "metadata": {},
   "outputs": [],
   "source": [
    "df_x = df.dropna"
   ]
  },
  {
   "cell_type": "code",
   "execution_count": 75,
   "id": "35cb821a-184d-40ad-b8c7-e0ea3ee3c5dd",
   "metadata": {},
   "outputs": [
    {
     "data": {
      "text/plain": [
       "Diana Aphelios (SI)    18\n",
       "Trundle Gnar (PZ)       9\n",
       "Lissandra Taliyah       6\n",
       "Thresh Nasus            5\n",
       "Fizz Riven (BC)         4\n",
       "Ekko Sivir Zilean       3\n",
       "Yuumi Pantheon (DE)     1\n",
       "Elise Viego (NX)        1\n",
       "Name: archetype, dtype: int64"
      ]
     },
     "execution_count": 75,
     "metadata": {},
     "output_type": "execute_result"
    }
   ],
   "source": [
    "contain_values = df[df['player'].str.contains('J Tiller#NA1', na=False)]\n",
    "contain_values['archetype'].value_counts()"
   ]
  },
  {
   "cell_type": "code",
   "execution_count": 96,
   "id": "1c06d166-3883-4416-abcb-8a05b6423252",
   "metadata": {},
   "outputs": [
    {
     "data": {
      "text/plain": [
       "Ahri Bard                  62\n",
       "Ezreal Annie               56\n",
       "Jarvan IV Poppy Bard       50\n",
       "Twisted Fate Nami (SI)     45\n",
       "Aphelios Viktor            11\n",
       "Ezreal Kennen (IO)          9\n",
       "Zoe Aphelios Yuumi (SI)     6\n",
       "Elise Annie                 2\n",
       "Tryndamere Trundle (IO)     2\n",
       "Katarina Ahri               1\n",
       "Name: archetype, dtype: int64"
      ]
     },
     "execution_count": 96,
     "metadata": {},
     "output_type": "execute_result"
    }
   ],
   "source": [
    "contain_values = df[df['player'].str.contains('Majiin', na=False)]\n",
    "contain_values['archetype'].value_counts()\n",
    "# contain_values"
   ]
  },
  {
   "cell_type": "code",
   "execution_count": 99,
   "id": "5494684e-1767-4c08-8592-ad7a21798234",
   "metadata": {},
   "outputs": [
    {
     "data": {
      "text/plain": [
       "Rumble Sion (BC)        4\n",
       "Jarvan IV Illaoi        4\n",
       "Jarvan IV Poppy Bard    2\n",
       "Malphite Taliyah        1\n",
       "Katarina Ahri Annie     1\n",
       "Sivir Akshan (DE)       1\n",
       "Ashe LeBlanc            1\n",
       "Pyke Rek'Sai            1\n",
       "Name: archetype, dtype: int64"
      ]
     },
     "execution_count": 99,
     "metadata": {},
     "output_type": "execute_result"
    }
   ],
   "source": [
    "contain_values = df[df['player'].str.contains('Griffener#1217', na=False)]\n",
    "contain_values['archetype'].value_counts()"
   ]
  },
  {
   "cell_type": "code",
   "execution_count": null,
   "id": "4eb108a2-7965-4a17-8aad-d269614591cd",
   "metadata": {},
   "outputs": [],
   "source": []
  }
 ],
 "metadata": {
  "kernelspec": {
   "display_name": "Python 3",
   "language": "python",
   "name": "python3"
  },
  "language_info": {
   "codemirror_mode": {
    "name": "ipython",
    "version": 3
   },
   "file_extension": ".py",
   "mimetype": "text/x-python",
   "name": "python",
   "nbconvert_exporter": "python",
   "pygments_lexer": "ipython3",
   "version": "3.8.8"
  }
 },
 "nbformat": 4,
 "nbformat_minor": 5
}
