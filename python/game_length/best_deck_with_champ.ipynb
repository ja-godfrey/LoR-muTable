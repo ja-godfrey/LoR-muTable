{
 "cells": [
  {
   "cell_type": "markdown",
   "id": "030c5fb7-e921-4217-b288-23dc124ac427",
   "metadata": {},
   "source": [
    "## Give me the best deck with Champion X"
   ]
  },
  {
   "cell_type": "code",
   "execution_count": 1,
   "id": "82a2fc0c-b06d-46ca-82c0-4d788050dd93",
   "metadata": {},
   "outputs": [],
   "source": [
    "import pandas as pd"
   ]
  },
  {
   "cell_type": "code",
   "execution_count": 2,
   "id": "05d7612e-41e0-4e02-8058-cd5b38fea25a",
   "metadata": {},
   "outputs": [],
   "source": [
    "df = pd.read_csv(r'./../data/raw/lor_ranked_data_all.csv') # read in the data"
   ]
  },
  {
   "cell_type": "code",
   "execution_count": 58,
   "id": "53ae36f7-a71c-4faf-adc9-d58671a2faa7",
   "metadata": {},
   "outputs": [],
   "source": [
    "champion = 'Hecarim'\n",
    "date = '2022-06-20'\n",
    "n = 100"
   ]
  },
  {
   "cell_type": "code",
   "execution_count": 59,
   "id": "97b664f2-8a99-47b0-b4ec-e339be41b53c",
   "metadata": {},
   "outputs": [],
   "source": [
    "def best_deck_by_champ(df, champion, date, n):\n",
    "    df_date = df[df['game_start_time_utc'] > date]\n",
    "    champ_list = df_date[df_date['archetype'].str.contains(champion)]\n",
    "    archetypes = champ_list['deck_code'].value_counts() # find the unique archetypes being played\n",
    "    archetypes = archetypes[archetypes > n] #only keep popular deck_codes\n",
    "    popular_list = list(archetypes.index) # make a list of popular deck_codes\n",
    "    champ_list = champ_list.loc[df['deck_code'].isin(popular_list)] # filter df to only keep popular archetypes\n",
    "    df_champ = champ_list.groupby(['deck_code', 'game_outcome']).size()\n",
    "    df_champ = df_champ.groupby(level=0).transform(lambda x: (x / x.sum()).round(2)*100)\n",
    "    df_champ.drop('loss', level=1, axis=0, inplace=True) #drop loss %\n",
    "    df_champ = df_champ.droplevel(level=1) #drop win/loss\n",
    "    df_champ = df_champ.sort_values(ascending=False)\n",
    "    \n",
    "    df_small = df_date[['deck_code', 'archetype']]\n",
    "    y = pd.DataFrame(df_champ)\n",
    "    \n",
    "    inner = pd.merge(y, df_small, on='deck_code', how='inner')#.value_counts()\n",
    "    inner = inner.value_counts()\n",
    "    df_champ = inner.sort_values(ascending=False)\n",
    "    \n",
    "    return df_champ"
   ]
  },
  {
   "cell_type": "code",
   "execution_count": 60,
   "id": "33dd4619-8dc8-4c68-a1ac-e63b7a2257d0",
   "metadata": {},
   "outputs": [
    {
     "data": {
      "text/plain": [
       "deck_code                                                                      0     archetype         \n",
       "CECACBACAEBAEBIBBEBAMAQDBECACBIVC4VC6AYBAECQYAICAICQGAICAMETCAQBAICQQAQBAUBTC  39.0  Zed Hecarim Maokai    118\n",
       "dtype: int64"
      ]
     },
     "execution_count": 60,
     "metadata": {},
     "output_type": "execute_result"
    }
   ],
   "source": [
    "best_deck_by_champ(df, champion, date, n) # sorted by playrate"
   ]
  },
  {
   "cell_type": "code",
   "execution_count": 61,
   "id": "ade73f13-c49b-4817-8fad-5a2ea00d9224",
   "metadata": {},
   "outputs": [
    {
     "data": {
      "text/html": [
       "<div>\n",
       "<style scoped>\n",
       "    .dataframe tbody tr th:only-of-type {\n",
       "        vertical-align: middle;\n",
       "    }\n",
       "\n",
       "    .dataframe tbody tr th {\n",
       "        vertical-align: top;\n",
       "    }\n",
       "\n",
       "    .dataframe thead th {\n",
       "        text-align: right;\n",
       "    }\n",
       "</style>\n",
       "<table border=\"1\" class=\"dataframe\">\n",
       "  <thead>\n",
       "    <tr style=\"text-align: right;\">\n",
       "      <th></th>\n",
       "      <th>winrate</th>\n",
       "      <th>archetype</th>\n",
       "      <th>0</th>\n",
       "    </tr>\n",
       "    <tr>\n",
       "      <th>deck_code</th>\n",
       "      <th></th>\n",
       "      <th></th>\n",
       "      <th></th>\n",
       "    </tr>\n",
       "  </thead>\n",
       "  <tbody>\n",
       "    <tr>\n",
       "      <th>CECACBACAEBAEBIBBEBAMAQDBECACBIVC4VC6AYBAECQYAICAICQGAICAMETCAQBAICQQAQBAUBTC</th>\n",
       "      <td>39.0</td>\n",
       "      <td>Zed Hecarim Maokai</td>\n",
       "      <td>118</td>\n",
       "    </tr>\n",
       "  </tbody>\n",
       "</table>\n",
       "</div>"
      ],
      "text/plain": [
       "                                                    winrate  \\\n",
       "deck_code                                                     \n",
       "CECACBACAEBAEBIBBEBAMAQDBECACBIVC4VC6AYBAECQYAI...     39.0   \n",
       "\n",
       "                                                             archetype    0  \n",
       "deck_code                                                                    \n",
       "CECACBACAEBAEBIBBEBAMAQDBECACBIVC4VC6AYBAECQYAI...  Zed Hecarim Maokai  118  "
      ]
     },
     "execution_count": 61,
     "metadata": {},
     "output_type": "execute_result"
    }
   ],
   "source": [
    "def best_deck_by_champ_by_winrate():\n",
    "    x = best_deck_by_champ(df, champion, date, n)\n",
    "    df_x = pd.DataFrame(x)\n",
    "    df_x.index.names = [\"deck_code\", \"winrate\", \"archetype\"]\n",
    "    df_x.reset_index(level=['winrate', 'archetype'], inplace=True)\n",
    "    df_x = df_x.sort_values(by=['winrate'], ascending=False)\n",
    "    return df_x\n",
    "best_deck_by_champ_by_winrate()"
   ]
  },
  {
   "cell_type": "code",
   "execution_count": 62,
   "id": "7dcd0bf0-3920-4661-9341-3cd41d919a5f",
   "metadata": {},
   "outputs": [],
   "source": [
    "# # double check it worked\n",
    "# df_date = df[df['game_start_time_utc'] > date] #build dataframe you build in function\n",
    "# deck = y.index[0][0] # get deck code returned for deck #1 in the function\n",
    "# true_value = df_date.deck_code.str.count(deck).sum() #see how many times that deck actually appears in dataframe\n",
    "# output_value = y[0] # get how many times the function said that deck appears\n",
    "# true_value == output_value # compare values"
   ]
  },
  {
   "cell_type": "code",
   "execution_count": null,
   "id": "8675af5a-7b47-41f6-8782-62026e0959ba",
   "metadata": {},
   "outputs": [],
   "source": []
  }
 ],
 "metadata": {
  "kernelspec": {
   "display_name": "Python 3",
   "language": "python",
   "name": "python3"
  },
  "language_info": {
   "codemirror_mode": {
    "name": "ipython",
    "version": 3
   },
   "file_extension": ".py",
   "mimetype": "text/x-python",
   "name": "python",
   "nbconvert_exporter": "python",
   "pygments_lexer": "ipython3",
   "version": "3.8.8"
  }
 },
 "nbformat": 4,
 "nbformat_minor": 5
}
