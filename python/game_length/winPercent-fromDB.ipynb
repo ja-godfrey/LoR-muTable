{
 "cells": [
  {
   "cell_type": "code",
   "execution_count": 1,
   "id": "4c11e72d-2244-4e83-b073-358911ce2cbc",
   "metadata": {},
   "outputs": [],
   "source": [
    "import pandas as pd\n",
    "import numpy as np"
   ]
  },
  {
   "cell_type": "markdown",
   "id": "c3220b60-e3ca-44cf-9098-a086fd5a4b5f",
   "metadata": {},
   "source": [
    "# be able to get someone's win% and their archetype win%"
   ]
  },
  {
   "cell_type": "code",
   "execution_count": 2,
   "id": "784c27e5-90e7-419c-9505-f92d99659013",
   "metadata": {},
   "outputs": [],
   "source": [
    "df = pd.read_csv(r'./../data/raw/lor_ranked_data_all.csv') # read in the data"
   ]
  },
  {
   "cell_type": "code",
   "execution_count": 3,
   "id": "b48a0677-9d08-4c74-a28a-55f320d34398",
   "metadata": {},
   "outputs": [],
   "source": [
    "user = 'HEIF'\n",
    "# user = 'J Tiller'\n",
    "# user = 'Maajin'"
   ]
  },
  {
   "cell_type": "code",
   "execution_count": null,
   "id": "8b21cb16-7e7e-45a1-81e8-f2cd3560c833",
   "metadata": {},
   "outputs": [],
   "source": []
  }
 ],
 "metadata": {
  "kernelspec": {
   "display_name": "Python 3",
   "language": "python",
   "name": "python3"
  },
  "language_info": {
   "codemirror_mode": {
    "name": "ipython",
    "version": 3
   },
   "file_extension": ".py",
   "mimetype": "text/x-python",
   "name": "python",
   "nbconvert_exporter": "python",
   "pygments_lexer": "ipython3",
   "version": "3.8.8"
  }
 },
 "nbformat": 4,
 "nbformat_minor": 5
}
